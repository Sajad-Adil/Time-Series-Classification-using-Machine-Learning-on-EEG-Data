{
  "cells": [
    {
      "cell_type": "markdown",
      "metadata": {
        "id": "view-in-github",
        "colab_type": "text"
      },
      "source": [
        "<a href=\"https://colab.research.google.com/github/Sajad-Adil/Time-Series-Classification-using-Machine-Learning-on-EEG-Data/blob/main/EEG_Signal_Classification_(5_classes).ipynb\" target=\"_parent\"><img src=\"https://colab.research.google.com/assets/colab-badge.svg\" alt=\"Open In Colab\"/></a>"
      ]
    },
    {
      "cell_type": "code",
      "execution_count": null,
      "metadata": {
        "id": "msg_N4LCEfOe"
      },
      "outputs": [],
      "source": [
        "!pip install tsfresh"
      ]
    },
    {
      "cell_type": "markdown",
      "metadata": {
        "id": "F5pIEKaQtb44"
      },
      "source": [
        "####Import libraries"
      ]
    },
    {
      "cell_type": "code",
      "execution_count": null,
      "metadata": {
        "colab": {
          "base_uri": "https://localhost:8080/"
        },
        "id": "IPw8zGzftbdp",
        "outputId": "fb917548-078b-4c64-ad2d-c2300b43a71f",
        "collapsed": true
      },
      "outputs": [
        {
          "output_type": "stream",
          "name": "stderr",
          "text": [
            "/usr/local/lib/python3.10/dist-packages/dask/dataframe/__init__.py:42: FutureWarning: \n",
            "Dask dataframe query planning is disabled because dask-expr is not installed.\n",
            "\n",
            "You can install it with `pip install dask[dataframe]` or `conda install dask`.\n",
            "This will raise in a future version.\n",
            "\n",
            "  warnings.warn(msg, FutureWarning)\n"
          ]
        }
      ],
      "source": [
        "import os\n",
        "import zipfile\n",
        "import pandas as pd\n",
        "import numpy as np\n",
        "import matplotlib.pyplot as plt\n",
        "import seaborn as sns\n",
        "\n",
        "from sklearn import svm, feature_selection, model_selection, pipeline, preprocessing, metrics, datasets, neighbors, tree, ensemble, linear_model\n",
        "from sklearn.linear_model import LinearRegression\n",
        "from sklearn.model_selection import train_test_split\n",
        "from sklearn.ensemble import RandomForestClassifier\n",
        "from sklearn.metrics import accuracy_score, classification_report, confusion_matrix, ConfusionMatrixDisplay\n",
        "from sklearn import pipeline\n",
        "from tsfresh import extract_features, select_features, extract_relevant_features\n",
        "from tsfresh.utilities.dataframe_functions import impute\n",
        "from tsfresh.feature_extraction import EfficientFCParameters, MinimalFCParameters\n",
        "from tsfresh.examples.robot_execution_failures import download_robot_execution_failures, load_robot_execution_failures\n"
      ]
    },
    {
      "cell_type": "markdown",
      "metadata": {
        "id": "wFVW882su7B4"
      },
      "source": [
        "#### Unzip dataset"
      ]
    },
    {
      "cell_type": "code",
      "execution_count": null,
      "metadata": {
        "id": "dDRwOzkPZMS8"
      },
      "outputs": [],
      "source": [
        "# this code will just extract data from BonnDataset zip file\n",
        "\n",
        "# Path to the zip file\n",
        "zip_path = '/content/BonnDataset.zip'\n",
        "extract_dir = '/content/Bonn_data'\n",
        "\n",
        "# Extract the zip file\n",
        "with zipfile.ZipFile(zip_path, 'r') as zip_ref:\n",
        "    zip_ref.extractall(extract_dir)"
      ]
    },
    {
      "cell_type": "markdown",
      "metadata": {
        "id": "-wP5yQkH5107"
      },
      "source": [
        "##Automated (Loading, pre-processing, and feature extraction)"
      ]
    },
    {
      "cell_type": "markdown",
      "metadata": {
        "id": "2TWIusplkGbp"
      },
      "source": [
        "\n",
        "\n",
        "### Load the Dataset\n",
        "\n"
      ]
    },
    {
      "cell_type": "code",
      "execution_count": null,
      "metadata": {
        "id": "ZsfDZJ_4ZsGk"
      },
      "outputs": [],
      "source": [
        "\n",
        "def read_txt_files_to_df(folder_path):\n",
        "\n",
        "    records = []\n",
        "\n",
        "\n",
        "    for filename in os.listdir(folder_path):\n",
        "        if filename.endswith('.txt') or filename.endswith('.TXT'):\n",
        "            file_path = os.path.join(folder_path, filename)\n",
        "\n",
        "            with open(file_path, 'r') as file:\n",
        "                content = file.readlines()\n",
        "\n",
        "                samples = [float(line.strip()) for line in content]\n",
        "                if len(samples) == 4097:\n",
        "                    records.append(samples)\n",
        "                else:\n",
        "                    print(f\"File {filename} does not contain exactly 4097 samples. Skipping this file.\")\n",
        "\n",
        "    # Create a DataFrame from the list of records\n",
        "    df = pd.DataFrame(records)\n",
        "\n",
        "    return df\n",
        "\n",
        "# Example usage\n",
        "\n",
        "\n"
      ]
    },
    {
      "cell_type": "code",
      "execution_count": null,
      "metadata": {
        "id": "8ENqTUbX7mBA"
      },
      "outputs": [],
      "source": [
        "\n",
        "\n",
        "df0 = read_txt_files_to_df('/content/Bonn_data/Z')\n",
        "df0['class'] = 0\n",
        "df1 = read_txt_files_to_df('/content/Bonn_data/O')\n",
        "\n",
        "df1['class'] = 1\n",
        "df2 = read_txt_files_to_df('/content/Bonn_data/N')\n",
        "df2['class'] = 2\n",
        "df3 = read_txt_files_to_df('/content/Bonn_data/F')\n",
        "df3['class'] = 3\n",
        "df4 = read_txt_files_to_df('/content/Bonn_data/S')\n",
        "df4['class'] = 4\n"
      ]
    },
    {
      "cell_type": "code",
      "execution_count": null,
      "metadata": {
        "id": "YkhRKBVb7omc"
      },
      "outputs": [],
      "source": [
        "combined_data = pd.concat([df0, df1, df2, df3, df4], axis=0)"
      ]
    },
    {
      "cell_type": "code",
      "execution_count": null,
      "metadata": {
        "id": "P133_dcu7p4f"
      },
      "outputs": [],
      "source": [
        "combined_data.reset_index(drop=True, inplace=True)\n"
      ]
    },
    {
      "cell_type": "code",
      "execution_count": null,
      "metadata": {
        "colab": {
          "base_uri": "https://localhost:8080/",
          "height": 443
        },
        "id": "5BgWXN-3KIrn",
        "outputId": "5e6bf5ee-d807-4175-d57d-d1290f383725"
      },
      "outputs": [
        {
          "output_type": "execute_result",
          "data": {
            "text/plain": [
              "         0      1      2      3      4      5      6      7      8      9  \\\n",
              "0     36.0   27.0   24.0   12.0    6.0  -11.0  -22.0  -21.0  -10.0   -3.0   \n",
              "1    -55.0  -32.0    1.0   36.0   74.0  108.0  110.0   93.0   60.0   45.0   \n",
              "2    -44.0  -35.0  -18.0    2.0   -5.0    2.0   -7.0  -20.0   -1.0   -1.0   \n",
              "3    -20.0   -3.0    2.0   16.0   29.0   36.0   34.0   29.0   38.0   26.0   \n",
              "4    -19.0   -1.0   33.0   51.0   49.0   26.0  -15.0  -42.0  -45.0  -37.0   \n",
              "..     ...    ...    ...    ...    ...    ...    ...    ...    ...    ...   \n",
              "495   23.0  144.0  228.0  260.0  255.0  218.0  178.0  126.0   60.0    6.0   \n",
              "496   80.0   86.0   91.0  100.0  107.0  116.0  127.0  153.0  207.0  258.0   \n",
              "497   98.0   88.0   76.0   59.0   40.0   17.0    6.0   -3.0   -5.0  -15.0   \n",
              "498 -445.0 -645.0 -652.0 -562.0 -496.0 -442.0 -375.0 -293.0 -218.0 -146.0   \n",
              "499  -24.0  -29.0  -17.0   -5.0    0.0   13.0   13.0    6.0  -11.0  -23.0   \n",
              "\n",
              "     ...   4088   4089   4090   4091   4092   4093   4094   4095   4096  class  \n",
              "0    ...   32.0   65.0   97.0  100.0   88.0   80.0   66.0   59.0    6.0      0  \n",
              "1    ...    3.0  -17.0  -35.0  -59.0  -76.0  -85.0  -73.0  -65.0  -39.0      0  \n",
              "2    ...   -3.0  -32.0   -2.0   31.0   43.0   65.0   44.0   55.0   66.0      0  \n",
              "3    ...  -42.0  -32.0  -34.0  -25.0  -27.0  -34.0  -28.0  -10.0    3.0      0  \n",
              "4    ...  -14.0  -25.0  -19.0  -28.0  -49.0  -71.0  -70.0  -25.0   -2.0      0  \n",
              "..   ...    ...    ...    ...    ...    ...    ...    ...    ...    ...    ...  \n",
              "495  ... -127.0 -123.0 -152.0 -231.0 -272.0 -272.0 -155.0    6.0 -221.0      4  \n",
              "496  ...   34.0   46.0   48.0   48.0   43.0   42.0   54.0   78.0   89.0      4  \n",
              "497  ... -301.0 -322.0 -200.0  -29.0  151.0  250.0  244.0  184.0   70.0      4  \n",
              "498  ...  355.0  347.0  335.0  326.0  313.0  294.0  264.0  219.0 -346.0      4  \n",
              "499  ...   -5.0  -13.0  -12.0  -11.0  -10.0   -5.0   -7.0   -7.0   43.0      4  \n",
              "\n",
              "[500 rows x 4098 columns]"
            ],
            "text/html": [
              "\n",
              "  <div id=\"df-97be0a51-7a65-4d2e-ab68-3059d3a45c65\" class=\"colab-df-container\">\n",
              "    <div>\n",
              "<style scoped>\n",
              "    .dataframe tbody tr th:only-of-type {\n",
              "        vertical-align: middle;\n",
              "    }\n",
              "\n",
              "    .dataframe tbody tr th {\n",
              "        vertical-align: top;\n",
              "    }\n",
              "\n",
              "    .dataframe thead th {\n",
              "        text-align: right;\n",
              "    }\n",
              "</style>\n",
              "<table border=\"1\" class=\"dataframe\">\n",
              "  <thead>\n",
              "    <tr style=\"text-align: right;\">\n",
              "      <th></th>\n",
              "      <th>0</th>\n",
              "      <th>1</th>\n",
              "      <th>2</th>\n",
              "      <th>3</th>\n",
              "      <th>4</th>\n",
              "      <th>5</th>\n",
              "      <th>6</th>\n",
              "      <th>7</th>\n",
              "      <th>8</th>\n",
              "      <th>9</th>\n",
              "      <th>...</th>\n",
              "      <th>4088</th>\n",
              "      <th>4089</th>\n",
              "      <th>4090</th>\n",
              "      <th>4091</th>\n",
              "      <th>4092</th>\n",
              "      <th>4093</th>\n",
              "      <th>4094</th>\n",
              "      <th>4095</th>\n",
              "      <th>4096</th>\n",
              "      <th>class</th>\n",
              "    </tr>\n",
              "  </thead>\n",
              "  <tbody>\n",
              "    <tr>\n",
              "      <th>0</th>\n",
              "      <td>36.0</td>\n",
              "      <td>27.0</td>\n",
              "      <td>24.0</td>\n",
              "      <td>12.0</td>\n",
              "      <td>6.0</td>\n",
              "      <td>-11.0</td>\n",
              "      <td>-22.0</td>\n",
              "      <td>-21.0</td>\n",
              "      <td>-10.0</td>\n",
              "      <td>-3.0</td>\n",
              "      <td>...</td>\n",
              "      <td>32.0</td>\n",
              "      <td>65.0</td>\n",
              "      <td>97.0</td>\n",
              "      <td>100.0</td>\n",
              "      <td>88.0</td>\n",
              "      <td>80.0</td>\n",
              "      <td>66.0</td>\n",
              "      <td>59.0</td>\n",
              "      <td>6.0</td>\n",
              "      <td>0</td>\n",
              "    </tr>\n",
              "    <tr>\n",
              "      <th>1</th>\n",
              "      <td>-55.0</td>\n",
              "      <td>-32.0</td>\n",
              "      <td>1.0</td>\n",
              "      <td>36.0</td>\n",
              "      <td>74.0</td>\n",
              "      <td>108.0</td>\n",
              "      <td>110.0</td>\n",
              "      <td>93.0</td>\n",
              "      <td>60.0</td>\n",
              "      <td>45.0</td>\n",
              "      <td>...</td>\n",
              "      <td>3.0</td>\n",
              "      <td>-17.0</td>\n",
              "      <td>-35.0</td>\n",
              "      <td>-59.0</td>\n",
              "      <td>-76.0</td>\n",
              "      <td>-85.0</td>\n",
              "      <td>-73.0</td>\n",
              "      <td>-65.0</td>\n",
              "      <td>-39.0</td>\n",
              "      <td>0</td>\n",
              "    </tr>\n",
              "    <tr>\n",
              "      <th>2</th>\n",
              "      <td>-44.0</td>\n",
              "      <td>-35.0</td>\n",
              "      <td>-18.0</td>\n",
              "      <td>2.0</td>\n",
              "      <td>-5.0</td>\n",
              "      <td>2.0</td>\n",
              "      <td>-7.0</td>\n",
              "      <td>-20.0</td>\n",
              "      <td>-1.0</td>\n",
              "      <td>-1.0</td>\n",
              "      <td>...</td>\n",
              "      <td>-3.0</td>\n",
              "      <td>-32.0</td>\n",
              "      <td>-2.0</td>\n",
              "      <td>31.0</td>\n",
              "      <td>43.0</td>\n",
              "      <td>65.0</td>\n",
              "      <td>44.0</td>\n",
              "      <td>55.0</td>\n",
              "      <td>66.0</td>\n",
              "      <td>0</td>\n",
              "    </tr>\n",
              "    <tr>\n",
              "      <th>3</th>\n",
              "      <td>-20.0</td>\n",
              "      <td>-3.0</td>\n",
              "      <td>2.0</td>\n",
              "      <td>16.0</td>\n",
              "      <td>29.0</td>\n",
              "      <td>36.0</td>\n",
              "      <td>34.0</td>\n",
              "      <td>29.0</td>\n",
              "      <td>38.0</td>\n",
              "      <td>26.0</td>\n",
              "      <td>...</td>\n",
              "      <td>-42.0</td>\n",
              "      <td>-32.0</td>\n",
              "      <td>-34.0</td>\n",
              "      <td>-25.0</td>\n",
              "      <td>-27.0</td>\n",
              "      <td>-34.0</td>\n",
              "      <td>-28.0</td>\n",
              "      <td>-10.0</td>\n",
              "      <td>3.0</td>\n",
              "      <td>0</td>\n",
              "    </tr>\n",
              "    <tr>\n",
              "      <th>4</th>\n",
              "      <td>-19.0</td>\n",
              "      <td>-1.0</td>\n",
              "      <td>33.0</td>\n",
              "      <td>51.0</td>\n",
              "      <td>49.0</td>\n",
              "      <td>26.0</td>\n",
              "      <td>-15.0</td>\n",
              "      <td>-42.0</td>\n",
              "      <td>-45.0</td>\n",
              "      <td>-37.0</td>\n",
              "      <td>...</td>\n",
              "      <td>-14.0</td>\n",
              "      <td>-25.0</td>\n",
              "      <td>-19.0</td>\n",
              "      <td>-28.0</td>\n",
              "      <td>-49.0</td>\n",
              "      <td>-71.0</td>\n",
              "      <td>-70.0</td>\n",
              "      <td>-25.0</td>\n",
              "      <td>-2.0</td>\n",
              "      <td>0</td>\n",
              "    </tr>\n",
              "    <tr>\n",
              "      <th>...</th>\n",
              "      <td>...</td>\n",
              "      <td>...</td>\n",
              "      <td>...</td>\n",
              "      <td>...</td>\n",
              "      <td>...</td>\n",
              "      <td>...</td>\n",
              "      <td>...</td>\n",
              "      <td>...</td>\n",
              "      <td>...</td>\n",
              "      <td>...</td>\n",
              "      <td>...</td>\n",
              "      <td>...</td>\n",
              "      <td>...</td>\n",
              "      <td>...</td>\n",
              "      <td>...</td>\n",
              "      <td>...</td>\n",
              "      <td>...</td>\n",
              "      <td>...</td>\n",
              "      <td>...</td>\n",
              "      <td>...</td>\n",
              "      <td>...</td>\n",
              "    </tr>\n",
              "    <tr>\n",
              "      <th>495</th>\n",
              "      <td>23.0</td>\n",
              "      <td>144.0</td>\n",
              "      <td>228.0</td>\n",
              "      <td>260.0</td>\n",
              "      <td>255.0</td>\n",
              "      <td>218.0</td>\n",
              "      <td>178.0</td>\n",
              "      <td>126.0</td>\n",
              "      <td>60.0</td>\n",
              "      <td>6.0</td>\n",
              "      <td>...</td>\n",
              "      <td>-127.0</td>\n",
              "      <td>-123.0</td>\n",
              "      <td>-152.0</td>\n",
              "      <td>-231.0</td>\n",
              "      <td>-272.0</td>\n",
              "      <td>-272.0</td>\n",
              "      <td>-155.0</td>\n",
              "      <td>6.0</td>\n",
              "      <td>-221.0</td>\n",
              "      <td>4</td>\n",
              "    </tr>\n",
              "    <tr>\n",
              "      <th>496</th>\n",
              "      <td>80.0</td>\n",
              "      <td>86.0</td>\n",
              "      <td>91.0</td>\n",
              "      <td>100.0</td>\n",
              "      <td>107.0</td>\n",
              "      <td>116.0</td>\n",
              "      <td>127.0</td>\n",
              "      <td>153.0</td>\n",
              "      <td>207.0</td>\n",
              "      <td>258.0</td>\n",
              "      <td>...</td>\n",
              "      <td>34.0</td>\n",
              "      <td>46.0</td>\n",
              "      <td>48.0</td>\n",
              "      <td>48.0</td>\n",
              "      <td>43.0</td>\n",
              "      <td>42.0</td>\n",
              "      <td>54.0</td>\n",
              "      <td>78.0</td>\n",
              "      <td>89.0</td>\n",
              "      <td>4</td>\n",
              "    </tr>\n",
              "    <tr>\n",
              "      <th>497</th>\n",
              "      <td>98.0</td>\n",
              "      <td>88.0</td>\n",
              "      <td>76.0</td>\n",
              "      <td>59.0</td>\n",
              "      <td>40.0</td>\n",
              "      <td>17.0</td>\n",
              "      <td>6.0</td>\n",
              "      <td>-3.0</td>\n",
              "      <td>-5.0</td>\n",
              "      <td>-15.0</td>\n",
              "      <td>...</td>\n",
              "      <td>-301.0</td>\n",
              "      <td>-322.0</td>\n",
              "      <td>-200.0</td>\n",
              "      <td>-29.0</td>\n",
              "      <td>151.0</td>\n",
              "      <td>250.0</td>\n",
              "      <td>244.0</td>\n",
              "      <td>184.0</td>\n",
              "      <td>70.0</td>\n",
              "      <td>4</td>\n",
              "    </tr>\n",
              "    <tr>\n",
              "      <th>498</th>\n",
              "      <td>-445.0</td>\n",
              "      <td>-645.0</td>\n",
              "      <td>-652.0</td>\n",
              "      <td>-562.0</td>\n",
              "      <td>-496.0</td>\n",
              "      <td>-442.0</td>\n",
              "      <td>-375.0</td>\n",
              "      <td>-293.0</td>\n",
              "      <td>-218.0</td>\n",
              "      <td>-146.0</td>\n",
              "      <td>...</td>\n",
              "      <td>355.0</td>\n",
              "      <td>347.0</td>\n",
              "      <td>335.0</td>\n",
              "      <td>326.0</td>\n",
              "      <td>313.0</td>\n",
              "      <td>294.0</td>\n",
              "      <td>264.0</td>\n",
              "      <td>219.0</td>\n",
              "      <td>-346.0</td>\n",
              "      <td>4</td>\n",
              "    </tr>\n",
              "    <tr>\n",
              "      <th>499</th>\n",
              "      <td>-24.0</td>\n",
              "      <td>-29.0</td>\n",
              "      <td>-17.0</td>\n",
              "      <td>-5.0</td>\n",
              "      <td>0.0</td>\n",
              "      <td>13.0</td>\n",
              "      <td>13.0</td>\n",
              "      <td>6.0</td>\n",
              "      <td>-11.0</td>\n",
              "      <td>-23.0</td>\n",
              "      <td>...</td>\n",
              "      <td>-5.0</td>\n",
              "      <td>-13.0</td>\n",
              "      <td>-12.0</td>\n",
              "      <td>-11.0</td>\n",
              "      <td>-10.0</td>\n",
              "      <td>-5.0</td>\n",
              "      <td>-7.0</td>\n",
              "      <td>-7.0</td>\n",
              "      <td>43.0</td>\n",
              "      <td>4</td>\n",
              "    </tr>\n",
              "  </tbody>\n",
              "</table>\n",
              "<p>500 rows × 4098 columns</p>\n",
              "</div>\n",
              "    <div class=\"colab-df-buttons\">\n",
              "\n",
              "  <div class=\"colab-df-container\">\n",
              "    <button class=\"colab-df-convert\" onclick=\"convertToInteractive('df-97be0a51-7a65-4d2e-ab68-3059d3a45c65')\"\n",
              "            title=\"Convert this dataframe to an interactive table.\"\n",
              "            style=\"display:none;\">\n",
              "\n",
              "  <svg xmlns=\"http://www.w3.org/2000/svg\" height=\"24px\" viewBox=\"0 -960 960 960\">\n",
              "    <path d=\"M120-120v-720h720v720H120Zm60-500h600v-160H180v160Zm220 220h160v-160H400v160Zm0 220h160v-160H400v160ZM180-400h160v-160H180v160Zm440 0h160v-160H620v160ZM180-180h160v-160H180v160Zm440 0h160v-160H620v160Z\"/>\n",
              "  </svg>\n",
              "    </button>\n",
              "\n",
              "  <style>\n",
              "    .colab-df-container {\n",
              "      display:flex;\n",
              "      gap: 12px;\n",
              "    }\n",
              "\n",
              "    .colab-df-convert {\n",
              "      background-color: #E8F0FE;\n",
              "      border: none;\n",
              "      border-radius: 50%;\n",
              "      cursor: pointer;\n",
              "      display: none;\n",
              "      fill: #1967D2;\n",
              "      height: 32px;\n",
              "      padding: 0 0 0 0;\n",
              "      width: 32px;\n",
              "    }\n",
              "\n",
              "    .colab-df-convert:hover {\n",
              "      background-color: #E2EBFA;\n",
              "      box-shadow: 0px 1px 2px rgba(60, 64, 67, 0.3), 0px 1px 3px 1px rgba(60, 64, 67, 0.15);\n",
              "      fill: #174EA6;\n",
              "    }\n",
              "\n",
              "    .colab-df-buttons div {\n",
              "      margin-bottom: 4px;\n",
              "    }\n",
              "\n",
              "    [theme=dark] .colab-df-convert {\n",
              "      background-color: #3B4455;\n",
              "      fill: #D2E3FC;\n",
              "    }\n",
              "\n",
              "    [theme=dark] .colab-df-convert:hover {\n",
              "      background-color: #434B5C;\n",
              "      box-shadow: 0px 1px 3px 1px rgba(0, 0, 0, 0.15);\n",
              "      filter: drop-shadow(0px 1px 2px rgba(0, 0, 0, 0.3));\n",
              "      fill: #FFFFFF;\n",
              "    }\n",
              "  </style>\n",
              "\n",
              "    <script>\n",
              "      const buttonEl =\n",
              "        document.querySelector('#df-97be0a51-7a65-4d2e-ab68-3059d3a45c65 button.colab-df-convert');\n",
              "      buttonEl.style.display =\n",
              "        google.colab.kernel.accessAllowed ? 'block' : 'none';\n",
              "\n",
              "      async function convertToInteractive(key) {\n",
              "        const element = document.querySelector('#df-97be0a51-7a65-4d2e-ab68-3059d3a45c65');\n",
              "        const dataTable =\n",
              "          await google.colab.kernel.invokeFunction('convertToInteractive',\n",
              "                                                    [key], {});\n",
              "        if (!dataTable) return;\n",
              "\n",
              "        const docLinkHtml = 'Like what you see? Visit the ' +\n",
              "          '<a target=\"_blank\" href=https://colab.research.google.com/notebooks/data_table.ipynb>data table notebook</a>'\n",
              "          + ' to learn more about interactive tables.';\n",
              "        element.innerHTML = '';\n",
              "        dataTable['output_type'] = 'display_data';\n",
              "        await google.colab.output.renderOutput(dataTable, element);\n",
              "        const docLink = document.createElement('div');\n",
              "        docLink.innerHTML = docLinkHtml;\n",
              "        element.appendChild(docLink);\n",
              "      }\n",
              "    </script>\n",
              "  </div>\n",
              "\n",
              "\n",
              "<div id=\"df-cdceef31-d066-4876-a6c1-b921d975a6e2\">\n",
              "  <button class=\"colab-df-quickchart\" onclick=\"quickchart('df-cdceef31-d066-4876-a6c1-b921d975a6e2')\"\n",
              "            title=\"Suggest charts\"\n",
              "            style=\"display:none;\">\n",
              "\n",
              "<svg xmlns=\"http://www.w3.org/2000/svg\" height=\"24px\"viewBox=\"0 0 24 24\"\n",
              "     width=\"24px\">\n",
              "    <g>\n",
              "        <path d=\"M19 3H5c-1.1 0-2 .9-2 2v14c0 1.1.9 2 2 2h14c1.1 0 2-.9 2-2V5c0-1.1-.9-2-2-2zM9 17H7v-7h2v7zm4 0h-2V7h2v10zm4 0h-2v-4h2v4z\"/>\n",
              "    </g>\n",
              "</svg>\n",
              "  </button>\n",
              "\n",
              "<style>\n",
              "  .colab-df-quickchart {\n",
              "      --bg-color: #E8F0FE;\n",
              "      --fill-color: #1967D2;\n",
              "      --hover-bg-color: #E2EBFA;\n",
              "      --hover-fill-color: #174EA6;\n",
              "      --disabled-fill-color: #AAA;\n",
              "      --disabled-bg-color: #DDD;\n",
              "  }\n",
              "\n",
              "  [theme=dark] .colab-df-quickchart {\n",
              "      --bg-color: #3B4455;\n",
              "      --fill-color: #D2E3FC;\n",
              "      --hover-bg-color: #434B5C;\n",
              "      --hover-fill-color: #FFFFFF;\n",
              "      --disabled-bg-color: #3B4455;\n",
              "      --disabled-fill-color: #666;\n",
              "  }\n",
              "\n",
              "  .colab-df-quickchart {\n",
              "    background-color: var(--bg-color);\n",
              "    border: none;\n",
              "    border-radius: 50%;\n",
              "    cursor: pointer;\n",
              "    display: none;\n",
              "    fill: var(--fill-color);\n",
              "    height: 32px;\n",
              "    padding: 0;\n",
              "    width: 32px;\n",
              "  }\n",
              "\n",
              "  .colab-df-quickchart:hover {\n",
              "    background-color: var(--hover-bg-color);\n",
              "    box-shadow: 0 1px 2px rgba(60, 64, 67, 0.3), 0 1px 3px 1px rgba(60, 64, 67, 0.15);\n",
              "    fill: var(--button-hover-fill-color);\n",
              "  }\n",
              "\n",
              "  .colab-df-quickchart-complete:disabled,\n",
              "  .colab-df-quickchart-complete:disabled:hover {\n",
              "    background-color: var(--disabled-bg-color);\n",
              "    fill: var(--disabled-fill-color);\n",
              "    box-shadow: none;\n",
              "  }\n",
              "\n",
              "  .colab-df-spinner {\n",
              "    border: 2px solid var(--fill-color);\n",
              "    border-color: transparent;\n",
              "    border-bottom-color: var(--fill-color);\n",
              "    animation:\n",
              "      spin 1s steps(1) infinite;\n",
              "  }\n",
              "\n",
              "  @keyframes spin {\n",
              "    0% {\n",
              "      border-color: transparent;\n",
              "      border-bottom-color: var(--fill-color);\n",
              "      border-left-color: var(--fill-color);\n",
              "    }\n",
              "    20% {\n",
              "      border-color: transparent;\n",
              "      border-left-color: var(--fill-color);\n",
              "      border-top-color: var(--fill-color);\n",
              "    }\n",
              "    30% {\n",
              "      border-color: transparent;\n",
              "      border-left-color: var(--fill-color);\n",
              "      border-top-color: var(--fill-color);\n",
              "      border-right-color: var(--fill-color);\n",
              "    }\n",
              "    40% {\n",
              "      border-color: transparent;\n",
              "      border-right-color: var(--fill-color);\n",
              "      border-top-color: var(--fill-color);\n",
              "    }\n",
              "    60% {\n",
              "      border-color: transparent;\n",
              "      border-right-color: var(--fill-color);\n",
              "    }\n",
              "    80% {\n",
              "      border-color: transparent;\n",
              "      border-right-color: var(--fill-color);\n",
              "      border-bottom-color: var(--fill-color);\n",
              "    }\n",
              "    90% {\n",
              "      border-color: transparent;\n",
              "      border-bottom-color: var(--fill-color);\n",
              "    }\n",
              "  }\n",
              "</style>\n",
              "\n",
              "  <script>\n",
              "    async function quickchart(key) {\n",
              "      const quickchartButtonEl =\n",
              "        document.querySelector('#' + key + ' button');\n",
              "      quickchartButtonEl.disabled = true;  // To prevent multiple clicks.\n",
              "      quickchartButtonEl.classList.add('colab-df-spinner');\n",
              "      try {\n",
              "        const charts = await google.colab.kernel.invokeFunction(\n",
              "            'suggestCharts', [key], {});\n",
              "      } catch (error) {\n",
              "        console.error('Error during call to suggestCharts:', error);\n",
              "      }\n",
              "      quickchartButtonEl.classList.remove('colab-df-spinner');\n",
              "      quickchartButtonEl.classList.add('colab-df-quickchart-complete');\n",
              "    }\n",
              "    (() => {\n",
              "      let quickchartButtonEl =\n",
              "        document.querySelector('#df-cdceef31-d066-4876-a6c1-b921d975a6e2 button');\n",
              "      quickchartButtonEl.style.display =\n",
              "        google.colab.kernel.accessAllowed ? 'block' : 'none';\n",
              "    })();\n",
              "  </script>\n",
              "</div>\n",
              "\n",
              "  <div id=\"id_bc477ff2-91bc-41ba-aafd-17d1e80178a5\">\n",
              "    <style>\n",
              "      .colab-df-generate {\n",
              "        background-color: #E8F0FE;\n",
              "        border: none;\n",
              "        border-radius: 50%;\n",
              "        cursor: pointer;\n",
              "        display: none;\n",
              "        fill: #1967D2;\n",
              "        height: 32px;\n",
              "        padding: 0 0 0 0;\n",
              "        width: 32px;\n",
              "      }\n",
              "\n",
              "      .colab-df-generate:hover {\n",
              "        background-color: #E2EBFA;\n",
              "        box-shadow: 0px 1px 2px rgba(60, 64, 67, 0.3), 0px 1px 3px 1px rgba(60, 64, 67, 0.15);\n",
              "        fill: #174EA6;\n",
              "      }\n",
              "\n",
              "      [theme=dark] .colab-df-generate {\n",
              "        background-color: #3B4455;\n",
              "        fill: #D2E3FC;\n",
              "      }\n",
              "\n",
              "      [theme=dark] .colab-df-generate:hover {\n",
              "        background-color: #434B5C;\n",
              "        box-shadow: 0px 1px 3px 1px rgba(0, 0, 0, 0.15);\n",
              "        filter: drop-shadow(0px 1px 2px rgba(0, 0, 0, 0.3));\n",
              "        fill: #FFFFFF;\n",
              "      }\n",
              "    </style>\n",
              "    <button class=\"colab-df-generate\" onclick=\"generateWithVariable('combined_data')\"\n",
              "            title=\"Generate code using this dataframe.\"\n",
              "            style=\"display:none;\">\n",
              "\n",
              "  <svg xmlns=\"http://www.w3.org/2000/svg\" height=\"24px\"viewBox=\"0 0 24 24\"\n",
              "       width=\"24px\">\n",
              "    <path d=\"M7,19H8.4L18.45,9,17,7.55,7,17.6ZM5,21V16.75L18.45,3.32a2,2,0,0,1,2.83,0l1.4,1.43a1.91,1.91,0,0,1,.58,1.4,1.91,1.91,0,0,1-.58,1.4L9.25,21ZM18.45,9,17,7.55Zm-12,3A5.31,5.31,0,0,0,4.9,8.1,5.31,5.31,0,0,0,1,6.5,5.31,5.31,0,0,0,4.9,4.9,5.31,5.31,0,0,0,6.5,1,5.31,5.31,0,0,0,8.1,4.9,5.31,5.31,0,0,0,12,6.5,5.46,5.46,0,0,0,6.5,12Z\"/>\n",
              "  </svg>\n",
              "    </button>\n",
              "    <script>\n",
              "      (() => {\n",
              "      const buttonEl =\n",
              "        document.querySelector('#id_bc477ff2-91bc-41ba-aafd-17d1e80178a5 button.colab-df-generate');\n",
              "      buttonEl.style.display =\n",
              "        google.colab.kernel.accessAllowed ? 'block' : 'none';\n",
              "\n",
              "      buttonEl.onclick = () => {\n",
              "        google.colab.notebook.generateWithVariable('combined_data');\n",
              "      }\n",
              "      })();\n",
              "    </script>\n",
              "  </div>\n",
              "\n",
              "    </div>\n",
              "  </div>\n"
            ],
            "application/vnd.google.colaboratory.intrinsic+json": {
              "type": "dataframe",
              "variable_name": "combined_data"
            }
          },
          "metadata": {},
          "execution_count": 8
        }
      ],
      "source": [
        "combined_data"
      ]
    },
    {
      "cell_type": "code",
      "execution_count": null,
      "metadata": {
        "id": "47N3O0hg0Izm"
      },
      "outputs": [],
      "source": []
    },
    {
      "cell_type": "code",
      "execution_count": null,
      "metadata": {
        "colab": {
          "base_uri": "https://localhost:8080/"
        },
        "id": "yTI1twVP0zRy",
        "outputId": "f11b03d7-f1c6-41b3-9fa2-10d29b91bd64"
      },
      "outputs": [
        {
          "output_type": "execute_result",
          "data": {
            "text/plain": [
              "(500, 4098)"
            ]
          },
          "metadata": {},
          "execution_count": 9
        }
      ],
      "source": [
        "combined_data.shape"
      ]
    },
    {
      "cell_type": "code",
      "execution_count": null,
      "metadata": {
        "colab": {
          "base_uri": "https://localhost:8080/"
        },
        "id": "5Gi53UpK0EMk",
        "outputId": "d37847ee-5faf-4929-efa6-b9e2324b8923"
      },
      "outputs": [
        {
          "output_type": "execute_result",
          "data": {
            "text/plain": [
              "array([0, 1, 2, 3, 4])"
            ]
          },
          "metadata": {},
          "execution_count": 10
        }
      ],
      "source": [
        "y = combined_data['class']\n",
        "y.unique()\n"
      ]
    },
    {
      "cell_type": "code",
      "execution_count": null,
      "metadata": {
        "colab": {
          "base_uri": "https://localhost:8080/"
        },
        "id": "XVneLoS6-xzN",
        "outputId": "328c152c-7489-4869-b5b2-a3f4bd97e21d"
      },
      "outputs": [
        {
          "output_type": "execute_result",
          "data": {
            "text/plain": [
              "(500,)"
            ]
          },
          "metadata": {},
          "execution_count": 11
        }
      ],
      "source": [
        "y.shape"
      ]
    },
    {
      "cell_type": "code",
      "execution_count": null,
      "metadata": {
        "id": "D8jmCT6Q0EPP"
      },
      "outputs": [],
      "source": [
        "# copy the combined data\n",
        "data = combined_data.copy()"
      ]
    },
    {
      "cell_type": "code",
      "execution_count": null,
      "metadata": {
        "colab": {
          "base_uri": "https://localhost:8080/",
          "height": 443
        },
        "id": "BVxo4b3uHj_U",
        "outputId": "33f01dcb-97d3-47c8-dbbd-505ad6d8de83"
      },
      "outputs": [
        {
          "output_type": "execute_result",
          "data": {
            "text/plain": [
              "         0      1      2      3      4      5      6      7      8      9  \\\n",
              "0     36.0   27.0   24.0   12.0    6.0  -11.0  -22.0  -21.0  -10.0   -3.0   \n",
              "1    -55.0  -32.0    1.0   36.0   74.0  108.0  110.0   93.0   60.0   45.0   \n",
              "2    -44.0  -35.0  -18.0    2.0   -5.0    2.0   -7.0  -20.0   -1.0   -1.0   \n",
              "3    -20.0   -3.0    2.0   16.0   29.0   36.0   34.0   29.0   38.0   26.0   \n",
              "4    -19.0   -1.0   33.0   51.0   49.0   26.0  -15.0  -42.0  -45.0  -37.0   \n",
              "..     ...    ...    ...    ...    ...    ...    ...    ...    ...    ...   \n",
              "495   23.0  144.0  228.0  260.0  255.0  218.0  178.0  126.0   60.0    6.0   \n",
              "496   80.0   86.0   91.0  100.0  107.0  116.0  127.0  153.0  207.0  258.0   \n",
              "497   98.0   88.0   76.0   59.0   40.0   17.0    6.0   -3.0   -5.0  -15.0   \n",
              "498 -445.0 -645.0 -652.0 -562.0 -496.0 -442.0 -375.0 -293.0 -218.0 -146.0   \n",
              "499  -24.0  -29.0  -17.0   -5.0    0.0   13.0   13.0    6.0  -11.0  -23.0   \n",
              "\n",
              "     ...   4088   4089   4090   4091   4092   4093   4094   4095   4096  class  \n",
              "0    ...   32.0   65.0   97.0  100.0   88.0   80.0   66.0   59.0    6.0      0  \n",
              "1    ...    3.0  -17.0  -35.0  -59.0  -76.0  -85.0  -73.0  -65.0  -39.0      0  \n",
              "2    ...   -3.0  -32.0   -2.0   31.0   43.0   65.0   44.0   55.0   66.0      0  \n",
              "3    ...  -42.0  -32.0  -34.0  -25.0  -27.0  -34.0  -28.0  -10.0    3.0      0  \n",
              "4    ...  -14.0  -25.0  -19.0  -28.0  -49.0  -71.0  -70.0  -25.0   -2.0      0  \n",
              "..   ...    ...    ...    ...    ...    ...    ...    ...    ...    ...    ...  \n",
              "495  ... -127.0 -123.0 -152.0 -231.0 -272.0 -272.0 -155.0    6.0 -221.0      4  \n",
              "496  ...   34.0   46.0   48.0   48.0   43.0   42.0   54.0   78.0   89.0      4  \n",
              "497  ... -301.0 -322.0 -200.0  -29.0  151.0  250.0  244.0  184.0   70.0      4  \n",
              "498  ...  355.0  347.0  335.0  326.0  313.0  294.0  264.0  219.0 -346.0      4  \n",
              "499  ...   -5.0  -13.0  -12.0  -11.0  -10.0   -5.0   -7.0   -7.0   43.0      4  \n",
              "\n",
              "[500 rows x 4098 columns]"
            ],
            "text/html": [
              "\n",
              "  <div id=\"df-6bd3601b-ecc6-41dc-bc62-e940bf11fbdd\" class=\"colab-df-container\">\n",
              "    <div>\n",
              "<style scoped>\n",
              "    .dataframe tbody tr th:only-of-type {\n",
              "        vertical-align: middle;\n",
              "    }\n",
              "\n",
              "    .dataframe tbody tr th {\n",
              "        vertical-align: top;\n",
              "    }\n",
              "\n",
              "    .dataframe thead th {\n",
              "        text-align: right;\n",
              "    }\n",
              "</style>\n",
              "<table border=\"1\" class=\"dataframe\">\n",
              "  <thead>\n",
              "    <tr style=\"text-align: right;\">\n",
              "      <th></th>\n",
              "      <th>0</th>\n",
              "      <th>1</th>\n",
              "      <th>2</th>\n",
              "      <th>3</th>\n",
              "      <th>4</th>\n",
              "      <th>5</th>\n",
              "      <th>6</th>\n",
              "      <th>7</th>\n",
              "      <th>8</th>\n",
              "      <th>9</th>\n",
              "      <th>...</th>\n",
              "      <th>4088</th>\n",
              "      <th>4089</th>\n",
              "      <th>4090</th>\n",
              "      <th>4091</th>\n",
              "      <th>4092</th>\n",
              "      <th>4093</th>\n",
              "      <th>4094</th>\n",
              "      <th>4095</th>\n",
              "      <th>4096</th>\n",
              "      <th>class</th>\n",
              "    </tr>\n",
              "  </thead>\n",
              "  <tbody>\n",
              "    <tr>\n",
              "      <th>0</th>\n",
              "      <td>36.0</td>\n",
              "      <td>27.0</td>\n",
              "      <td>24.0</td>\n",
              "      <td>12.0</td>\n",
              "      <td>6.0</td>\n",
              "      <td>-11.0</td>\n",
              "      <td>-22.0</td>\n",
              "      <td>-21.0</td>\n",
              "      <td>-10.0</td>\n",
              "      <td>-3.0</td>\n",
              "      <td>...</td>\n",
              "      <td>32.0</td>\n",
              "      <td>65.0</td>\n",
              "      <td>97.0</td>\n",
              "      <td>100.0</td>\n",
              "      <td>88.0</td>\n",
              "      <td>80.0</td>\n",
              "      <td>66.0</td>\n",
              "      <td>59.0</td>\n",
              "      <td>6.0</td>\n",
              "      <td>0</td>\n",
              "    </tr>\n",
              "    <tr>\n",
              "      <th>1</th>\n",
              "      <td>-55.0</td>\n",
              "      <td>-32.0</td>\n",
              "      <td>1.0</td>\n",
              "      <td>36.0</td>\n",
              "      <td>74.0</td>\n",
              "      <td>108.0</td>\n",
              "      <td>110.0</td>\n",
              "      <td>93.0</td>\n",
              "      <td>60.0</td>\n",
              "      <td>45.0</td>\n",
              "      <td>...</td>\n",
              "      <td>3.0</td>\n",
              "      <td>-17.0</td>\n",
              "      <td>-35.0</td>\n",
              "      <td>-59.0</td>\n",
              "      <td>-76.0</td>\n",
              "      <td>-85.0</td>\n",
              "      <td>-73.0</td>\n",
              "      <td>-65.0</td>\n",
              "      <td>-39.0</td>\n",
              "      <td>0</td>\n",
              "    </tr>\n",
              "    <tr>\n",
              "      <th>2</th>\n",
              "      <td>-44.0</td>\n",
              "      <td>-35.0</td>\n",
              "      <td>-18.0</td>\n",
              "      <td>2.0</td>\n",
              "      <td>-5.0</td>\n",
              "      <td>2.0</td>\n",
              "      <td>-7.0</td>\n",
              "      <td>-20.0</td>\n",
              "      <td>-1.0</td>\n",
              "      <td>-1.0</td>\n",
              "      <td>...</td>\n",
              "      <td>-3.0</td>\n",
              "      <td>-32.0</td>\n",
              "      <td>-2.0</td>\n",
              "      <td>31.0</td>\n",
              "      <td>43.0</td>\n",
              "      <td>65.0</td>\n",
              "      <td>44.0</td>\n",
              "      <td>55.0</td>\n",
              "      <td>66.0</td>\n",
              "      <td>0</td>\n",
              "    </tr>\n",
              "    <tr>\n",
              "      <th>3</th>\n",
              "      <td>-20.0</td>\n",
              "      <td>-3.0</td>\n",
              "      <td>2.0</td>\n",
              "      <td>16.0</td>\n",
              "      <td>29.0</td>\n",
              "      <td>36.0</td>\n",
              "      <td>34.0</td>\n",
              "      <td>29.0</td>\n",
              "      <td>38.0</td>\n",
              "      <td>26.0</td>\n",
              "      <td>...</td>\n",
              "      <td>-42.0</td>\n",
              "      <td>-32.0</td>\n",
              "      <td>-34.0</td>\n",
              "      <td>-25.0</td>\n",
              "      <td>-27.0</td>\n",
              "      <td>-34.0</td>\n",
              "      <td>-28.0</td>\n",
              "      <td>-10.0</td>\n",
              "      <td>3.0</td>\n",
              "      <td>0</td>\n",
              "    </tr>\n",
              "    <tr>\n",
              "      <th>4</th>\n",
              "      <td>-19.0</td>\n",
              "      <td>-1.0</td>\n",
              "      <td>33.0</td>\n",
              "      <td>51.0</td>\n",
              "      <td>49.0</td>\n",
              "      <td>26.0</td>\n",
              "      <td>-15.0</td>\n",
              "      <td>-42.0</td>\n",
              "      <td>-45.0</td>\n",
              "      <td>-37.0</td>\n",
              "      <td>...</td>\n",
              "      <td>-14.0</td>\n",
              "      <td>-25.0</td>\n",
              "      <td>-19.0</td>\n",
              "      <td>-28.0</td>\n",
              "      <td>-49.0</td>\n",
              "      <td>-71.0</td>\n",
              "      <td>-70.0</td>\n",
              "      <td>-25.0</td>\n",
              "      <td>-2.0</td>\n",
              "      <td>0</td>\n",
              "    </tr>\n",
              "    <tr>\n",
              "      <th>...</th>\n",
              "      <td>...</td>\n",
              "      <td>...</td>\n",
              "      <td>...</td>\n",
              "      <td>...</td>\n",
              "      <td>...</td>\n",
              "      <td>...</td>\n",
              "      <td>...</td>\n",
              "      <td>...</td>\n",
              "      <td>...</td>\n",
              "      <td>...</td>\n",
              "      <td>...</td>\n",
              "      <td>...</td>\n",
              "      <td>...</td>\n",
              "      <td>...</td>\n",
              "      <td>...</td>\n",
              "      <td>...</td>\n",
              "      <td>...</td>\n",
              "      <td>...</td>\n",
              "      <td>...</td>\n",
              "      <td>...</td>\n",
              "      <td>...</td>\n",
              "    </tr>\n",
              "    <tr>\n",
              "      <th>495</th>\n",
              "      <td>23.0</td>\n",
              "      <td>144.0</td>\n",
              "      <td>228.0</td>\n",
              "      <td>260.0</td>\n",
              "      <td>255.0</td>\n",
              "      <td>218.0</td>\n",
              "      <td>178.0</td>\n",
              "      <td>126.0</td>\n",
              "      <td>60.0</td>\n",
              "      <td>6.0</td>\n",
              "      <td>...</td>\n",
              "      <td>-127.0</td>\n",
              "      <td>-123.0</td>\n",
              "      <td>-152.0</td>\n",
              "      <td>-231.0</td>\n",
              "      <td>-272.0</td>\n",
              "      <td>-272.0</td>\n",
              "      <td>-155.0</td>\n",
              "      <td>6.0</td>\n",
              "      <td>-221.0</td>\n",
              "      <td>4</td>\n",
              "    </tr>\n",
              "    <tr>\n",
              "      <th>496</th>\n",
              "      <td>80.0</td>\n",
              "      <td>86.0</td>\n",
              "      <td>91.0</td>\n",
              "      <td>100.0</td>\n",
              "      <td>107.0</td>\n",
              "      <td>116.0</td>\n",
              "      <td>127.0</td>\n",
              "      <td>153.0</td>\n",
              "      <td>207.0</td>\n",
              "      <td>258.0</td>\n",
              "      <td>...</td>\n",
              "      <td>34.0</td>\n",
              "      <td>46.0</td>\n",
              "      <td>48.0</td>\n",
              "      <td>48.0</td>\n",
              "      <td>43.0</td>\n",
              "      <td>42.0</td>\n",
              "      <td>54.0</td>\n",
              "      <td>78.0</td>\n",
              "      <td>89.0</td>\n",
              "      <td>4</td>\n",
              "    </tr>\n",
              "    <tr>\n",
              "      <th>497</th>\n",
              "      <td>98.0</td>\n",
              "      <td>88.0</td>\n",
              "      <td>76.0</td>\n",
              "      <td>59.0</td>\n",
              "      <td>40.0</td>\n",
              "      <td>17.0</td>\n",
              "      <td>6.0</td>\n",
              "      <td>-3.0</td>\n",
              "      <td>-5.0</td>\n",
              "      <td>-15.0</td>\n",
              "      <td>...</td>\n",
              "      <td>-301.0</td>\n",
              "      <td>-322.0</td>\n",
              "      <td>-200.0</td>\n",
              "      <td>-29.0</td>\n",
              "      <td>151.0</td>\n",
              "      <td>250.0</td>\n",
              "      <td>244.0</td>\n",
              "      <td>184.0</td>\n",
              "      <td>70.0</td>\n",
              "      <td>4</td>\n",
              "    </tr>\n",
              "    <tr>\n",
              "      <th>498</th>\n",
              "      <td>-445.0</td>\n",
              "      <td>-645.0</td>\n",
              "      <td>-652.0</td>\n",
              "      <td>-562.0</td>\n",
              "      <td>-496.0</td>\n",
              "      <td>-442.0</td>\n",
              "      <td>-375.0</td>\n",
              "      <td>-293.0</td>\n",
              "      <td>-218.0</td>\n",
              "      <td>-146.0</td>\n",
              "      <td>...</td>\n",
              "      <td>355.0</td>\n",
              "      <td>347.0</td>\n",
              "      <td>335.0</td>\n",
              "      <td>326.0</td>\n",
              "      <td>313.0</td>\n",
              "      <td>294.0</td>\n",
              "      <td>264.0</td>\n",
              "      <td>219.0</td>\n",
              "      <td>-346.0</td>\n",
              "      <td>4</td>\n",
              "    </tr>\n",
              "    <tr>\n",
              "      <th>499</th>\n",
              "      <td>-24.0</td>\n",
              "      <td>-29.0</td>\n",
              "      <td>-17.0</td>\n",
              "      <td>-5.0</td>\n",
              "      <td>0.0</td>\n",
              "      <td>13.0</td>\n",
              "      <td>13.0</td>\n",
              "      <td>6.0</td>\n",
              "      <td>-11.0</td>\n",
              "      <td>-23.0</td>\n",
              "      <td>...</td>\n",
              "      <td>-5.0</td>\n",
              "      <td>-13.0</td>\n",
              "      <td>-12.0</td>\n",
              "      <td>-11.0</td>\n",
              "      <td>-10.0</td>\n",
              "      <td>-5.0</td>\n",
              "      <td>-7.0</td>\n",
              "      <td>-7.0</td>\n",
              "      <td>43.0</td>\n",
              "      <td>4</td>\n",
              "    </tr>\n",
              "  </tbody>\n",
              "</table>\n",
              "<p>500 rows × 4098 columns</p>\n",
              "</div>\n",
              "    <div class=\"colab-df-buttons\">\n",
              "\n",
              "  <div class=\"colab-df-container\">\n",
              "    <button class=\"colab-df-convert\" onclick=\"convertToInteractive('df-6bd3601b-ecc6-41dc-bc62-e940bf11fbdd')\"\n",
              "            title=\"Convert this dataframe to an interactive table.\"\n",
              "            style=\"display:none;\">\n",
              "\n",
              "  <svg xmlns=\"http://www.w3.org/2000/svg\" height=\"24px\" viewBox=\"0 -960 960 960\">\n",
              "    <path d=\"M120-120v-720h720v720H120Zm60-500h600v-160H180v160Zm220 220h160v-160H400v160Zm0 220h160v-160H400v160ZM180-400h160v-160H180v160Zm440 0h160v-160H620v160ZM180-180h160v-160H180v160Zm440 0h160v-160H620v160Z\"/>\n",
              "  </svg>\n",
              "    </button>\n",
              "\n",
              "  <style>\n",
              "    .colab-df-container {\n",
              "      display:flex;\n",
              "      gap: 12px;\n",
              "    }\n",
              "\n",
              "    .colab-df-convert {\n",
              "      background-color: #E8F0FE;\n",
              "      border: none;\n",
              "      border-radius: 50%;\n",
              "      cursor: pointer;\n",
              "      display: none;\n",
              "      fill: #1967D2;\n",
              "      height: 32px;\n",
              "      padding: 0 0 0 0;\n",
              "      width: 32px;\n",
              "    }\n",
              "\n",
              "    .colab-df-convert:hover {\n",
              "      background-color: #E2EBFA;\n",
              "      box-shadow: 0px 1px 2px rgba(60, 64, 67, 0.3), 0px 1px 3px 1px rgba(60, 64, 67, 0.15);\n",
              "      fill: #174EA6;\n",
              "    }\n",
              "\n",
              "    .colab-df-buttons div {\n",
              "      margin-bottom: 4px;\n",
              "    }\n",
              "\n",
              "    [theme=dark] .colab-df-convert {\n",
              "      background-color: #3B4455;\n",
              "      fill: #D2E3FC;\n",
              "    }\n",
              "\n",
              "    [theme=dark] .colab-df-convert:hover {\n",
              "      background-color: #434B5C;\n",
              "      box-shadow: 0px 1px 3px 1px rgba(0, 0, 0, 0.15);\n",
              "      filter: drop-shadow(0px 1px 2px rgba(0, 0, 0, 0.3));\n",
              "      fill: #FFFFFF;\n",
              "    }\n",
              "  </style>\n",
              "\n",
              "    <script>\n",
              "      const buttonEl =\n",
              "        document.querySelector('#df-6bd3601b-ecc6-41dc-bc62-e940bf11fbdd button.colab-df-convert');\n",
              "      buttonEl.style.display =\n",
              "        google.colab.kernel.accessAllowed ? 'block' : 'none';\n",
              "\n",
              "      async function convertToInteractive(key) {\n",
              "        const element = document.querySelector('#df-6bd3601b-ecc6-41dc-bc62-e940bf11fbdd');\n",
              "        const dataTable =\n",
              "          await google.colab.kernel.invokeFunction('convertToInteractive',\n",
              "                                                    [key], {});\n",
              "        if (!dataTable) return;\n",
              "\n",
              "        const docLinkHtml = 'Like what you see? Visit the ' +\n",
              "          '<a target=\"_blank\" href=https://colab.research.google.com/notebooks/data_table.ipynb>data table notebook</a>'\n",
              "          + ' to learn more about interactive tables.';\n",
              "        element.innerHTML = '';\n",
              "        dataTable['output_type'] = 'display_data';\n",
              "        await google.colab.output.renderOutput(dataTable, element);\n",
              "        const docLink = document.createElement('div');\n",
              "        docLink.innerHTML = docLinkHtml;\n",
              "        element.appendChild(docLink);\n",
              "      }\n",
              "    </script>\n",
              "  </div>\n",
              "\n",
              "\n",
              "<div id=\"df-6ddcd4b9-5e0f-4d91-90b5-1806bbb7b96c\">\n",
              "  <button class=\"colab-df-quickchart\" onclick=\"quickchart('df-6ddcd4b9-5e0f-4d91-90b5-1806bbb7b96c')\"\n",
              "            title=\"Suggest charts\"\n",
              "            style=\"display:none;\">\n",
              "\n",
              "<svg xmlns=\"http://www.w3.org/2000/svg\" height=\"24px\"viewBox=\"0 0 24 24\"\n",
              "     width=\"24px\">\n",
              "    <g>\n",
              "        <path d=\"M19 3H5c-1.1 0-2 .9-2 2v14c0 1.1.9 2 2 2h14c1.1 0 2-.9 2-2V5c0-1.1-.9-2-2-2zM9 17H7v-7h2v7zm4 0h-2V7h2v10zm4 0h-2v-4h2v4z\"/>\n",
              "    </g>\n",
              "</svg>\n",
              "  </button>\n",
              "\n",
              "<style>\n",
              "  .colab-df-quickchart {\n",
              "      --bg-color: #E8F0FE;\n",
              "      --fill-color: #1967D2;\n",
              "      --hover-bg-color: #E2EBFA;\n",
              "      --hover-fill-color: #174EA6;\n",
              "      --disabled-fill-color: #AAA;\n",
              "      --disabled-bg-color: #DDD;\n",
              "  }\n",
              "\n",
              "  [theme=dark] .colab-df-quickchart {\n",
              "      --bg-color: #3B4455;\n",
              "      --fill-color: #D2E3FC;\n",
              "      --hover-bg-color: #434B5C;\n",
              "      --hover-fill-color: #FFFFFF;\n",
              "      --disabled-bg-color: #3B4455;\n",
              "      --disabled-fill-color: #666;\n",
              "  }\n",
              "\n",
              "  .colab-df-quickchart {\n",
              "    background-color: var(--bg-color);\n",
              "    border: none;\n",
              "    border-radius: 50%;\n",
              "    cursor: pointer;\n",
              "    display: none;\n",
              "    fill: var(--fill-color);\n",
              "    height: 32px;\n",
              "    padding: 0;\n",
              "    width: 32px;\n",
              "  }\n",
              "\n",
              "  .colab-df-quickchart:hover {\n",
              "    background-color: var(--hover-bg-color);\n",
              "    box-shadow: 0 1px 2px rgba(60, 64, 67, 0.3), 0 1px 3px 1px rgba(60, 64, 67, 0.15);\n",
              "    fill: var(--button-hover-fill-color);\n",
              "  }\n",
              "\n",
              "  .colab-df-quickchart-complete:disabled,\n",
              "  .colab-df-quickchart-complete:disabled:hover {\n",
              "    background-color: var(--disabled-bg-color);\n",
              "    fill: var(--disabled-fill-color);\n",
              "    box-shadow: none;\n",
              "  }\n",
              "\n",
              "  .colab-df-spinner {\n",
              "    border: 2px solid var(--fill-color);\n",
              "    border-color: transparent;\n",
              "    border-bottom-color: var(--fill-color);\n",
              "    animation:\n",
              "      spin 1s steps(1) infinite;\n",
              "  }\n",
              "\n",
              "  @keyframes spin {\n",
              "    0% {\n",
              "      border-color: transparent;\n",
              "      border-bottom-color: var(--fill-color);\n",
              "      border-left-color: var(--fill-color);\n",
              "    }\n",
              "    20% {\n",
              "      border-color: transparent;\n",
              "      border-left-color: var(--fill-color);\n",
              "      border-top-color: var(--fill-color);\n",
              "    }\n",
              "    30% {\n",
              "      border-color: transparent;\n",
              "      border-left-color: var(--fill-color);\n",
              "      border-top-color: var(--fill-color);\n",
              "      border-right-color: var(--fill-color);\n",
              "    }\n",
              "    40% {\n",
              "      border-color: transparent;\n",
              "      border-right-color: var(--fill-color);\n",
              "      border-top-color: var(--fill-color);\n",
              "    }\n",
              "    60% {\n",
              "      border-color: transparent;\n",
              "      border-right-color: var(--fill-color);\n",
              "    }\n",
              "    80% {\n",
              "      border-color: transparent;\n",
              "      border-right-color: var(--fill-color);\n",
              "      border-bottom-color: var(--fill-color);\n",
              "    }\n",
              "    90% {\n",
              "      border-color: transparent;\n",
              "      border-bottom-color: var(--fill-color);\n",
              "    }\n",
              "  }\n",
              "</style>\n",
              "\n",
              "  <script>\n",
              "    async function quickchart(key) {\n",
              "      const quickchartButtonEl =\n",
              "        document.querySelector('#' + key + ' button');\n",
              "      quickchartButtonEl.disabled = true;  // To prevent multiple clicks.\n",
              "      quickchartButtonEl.classList.add('colab-df-spinner');\n",
              "      try {\n",
              "        const charts = await google.colab.kernel.invokeFunction(\n",
              "            'suggestCharts', [key], {});\n",
              "      } catch (error) {\n",
              "        console.error('Error during call to suggestCharts:', error);\n",
              "      }\n",
              "      quickchartButtonEl.classList.remove('colab-df-spinner');\n",
              "      quickchartButtonEl.classList.add('colab-df-quickchart-complete');\n",
              "    }\n",
              "    (() => {\n",
              "      let quickchartButtonEl =\n",
              "        document.querySelector('#df-6ddcd4b9-5e0f-4d91-90b5-1806bbb7b96c button');\n",
              "      quickchartButtonEl.style.display =\n",
              "        google.colab.kernel.accessAllowed ? 'block' : 'none';\n",
              "    })();\n",
              "  </script>\n",
              "</div>\n",
              "\n",
              "  <div id=\"id_220ae18f-f458-4ff9-9825-4bd0cd78472b\">\n",
              "    <style>\n",
              "      .colab-df-generate {\n",
              "        background-color: #E8F0FE;\n",
              "        border: none;\n",
              "        border-radius: 50%;\n",
              "        cursor: pointer;\n",
              "        display: none;\n",
              "        fill: #1967D2;\n",
              "        height: 32px;\n",
              "        padding: 0 0 0 0;\n",
              "        width: 32px;\n",
              "      }\n",
              "\n",
              "      .colab-df-generate:hover {\n",
              "        background-color: #E2EBFA;\n",
              "        box-shadow: 0px 1px 2px rgba(60, 64, 67, 0.3), 0px 1px 3px 1px rgba(60, 64, 67, 0.15);\n",
              "        fill: #174EA6;\n",
              "      }\n",
              "\n",
              "      [theme=dark] .colab-df-generate {\n",
              "        background-color: #3B4455;\n",
              "        fill: #D2E3FC;\n",
              "      }\n",
              "\n",
              "      [theme=dark] .colab-df-generate:hover {\n",
              "        background-color: #434B5C;\n",
              "        box-shadow: 0px 1px 3px 1px rgba(0, 0, 0, 0.15);\n",
              "        filter: drop-shadow(0px 1px 2px rgba(0, 0, 0, 0.3));\n",
              "        fill: #FFFFFF;\n",
              "      }\n",
              "    </style>\n",
              "    <button class=\"colab-df-generate\" onclick=\"generateWithVariable('data')\"\n",
              "            title=\"Generate code using this dataframe.\"\n",
              "            style=\"display:none;\">\n",
              "\n",
              "  <svg xmlns=\"http://www.w3.org/2000/svg\" height=\"24px\"viewBox=\"0 0 24 24\"\n",
              "       width=\"24px\">\n",
              "    <path d=\"M7,19H8.4L18.45,9,17,7.55,7,17.6ZM5,21V16.75L18.45,3.32a2,2,0,0,1,2.83,0l1.4,1.43a1.91,1.91,0,0,1,.58,1.4,1.91,1.91,0,0,1-.58,1.4L9.25,21ZM18.45,9,17,7.55Zm-12,3A5.31,5.31,0,0,0,4.9,8.1,5.31,5.31,0,0,0,1,6.5,5.31,5.31,0,0,0,4.9,4.9,5.31,5.31,0,0,0,6.5,1,5.31,5.31,0,0,0,8.1,4.9,5.31,5.31,0,0,0,12,6.5,5.46,5.46,0,0,0,6.5,12Z\"/>\n",
              "  </svg>\n",
              "    </button>\n",
              "    <script>\n",
              "      (() => {\n",
              "      const buttonEl =\n",
              "        document.querySelector('#id_220ae18f-f458-4ff9-9825-4bd0cd78472b button.colab-df-generate');\n",
              "      buttonEl.style.display =\n",
              "        google.colab.kernel.accessAllowed ? 'block' : 'none';\n",
              "\n",
              "      buttonEl.onclick = () => {\n",
              "        google.colab.notebook.generateWithVariable('data');\n",
              "      }\n",
              "      })();\n",
              "    </script>\n",
              "  </div>\n",
              "\n",
              "    </div>\n",
              "  </div>\n"
            ],
            "application/vnd.google.colaboratory.intrinsic+json": {
              "type": "dataframe",
              "variable_name": "data"
            }
          },
          "metadata": {},
          "execution_count": 13
        }
      ],
      "source": [
        "data"
      ]
    },
    {
      "cell_type": "markdown",
      "metadata": {
        "id": "TZzlSgchkfC3"
      },
      "source": [
        "### Convert into appropriate format"
      ]
    },
    {
      "cell_type": "code",
      "execution_count": null,
      "metadata": {
        "id": "b3PEXeAu0ESo"
      },
      "outputs": [],
      "source": [
        "data[\"id\"] = data.index\n",
        "data = data.drop(['class'], axis=1)\n",
        "data = data.melt(id_vars='id', var_name=\"time\").sort_values(['id', 'time']).reset_index(drop=True)"
      ]
    },
    {
      "cell_type": "code",
      "execution_count": null,
      "metadata": {
        "colab": {
          "base_uri": "https://localhost:8080/",
          "height": 423
        },
        "id": "xjnQHTeg14yI",
        "outputId": "a4daf94f-0283-49d2-a7c1-b321f56d245d"
      },
      "outputs": [
        {
          "output_type": "execute_result",
          "data": {
            "text/plain": [
              "          id  time  value\n",
              "0          0     0   36.0\n",
              "1          0     1   27.0\n",
              "2          0     2   24.0\n",
              "3          0     3   12.0\n",
              "4          0     4    6.0\n",
              "...      ...   ...    ...\n",
              "2048495  499  4092  -10.0\n",
              "2048496  499  4093   -5.0\n",
              "2048497  499  4094   -7.0\n",
              "2048498  499  4095   -7.0\n",
              "2048499  499  4096   43.0\n",
              "\n",
              "[2048500 rows x 3 columns]"
            ],
            "text/html": [
              "\n",
              "  <div id=\"df-9b48de3b-050a-4ced-935e-93808fa908e4\" class=\"colab-df-container\">\n",
              "    <div>\n",
              "<style scoped>\n",
              "    .dataframe tbody tr th:only-of-type {\n",
              "        vertical-align: middle;\n",
              "    }\n",
              "\n",
              "    .dataframe tbody tr th {\n",
              "        vertical-align: top;\n",
              "    }\n",
              "\n",
              "    .dataframe thead th {\n",
              "        text-align: right;\n",
              "    }\n",
              "</style>\n",
              "<table border=\"1\" class=\"dataframe\">\n",
              "  <thead>\n",
              "    <tr style=\"text-align: right;\">\n",
              "      <th></th>\n",
              "      <th>id</th>\n",
              "      <th>time</th>\n",
              "      <th>value</th>\n",
              "    </tr>\n",
              "  </thead>\n",
              "  <tbody>\n",
              "    <tr>\n",
              "      <th>0</th>\n",
              "      <td>0</td>\n",
              "      <td>0</td>\n",
              "      <td>36.0</td>\n",
              "    </tr>\n",
              "    <tr>\n",
              "      <th>1</th>\n",
              "      <td>0</td>\n",
              "      <td>1</td>\n",
              "      <td>27.0</td>\n",
              "    </tr>\n",
              "    <tr>\n",
              "      <th>2</th>\n",
              "      <td>0</td>\n",
              "      <td>2</td>\n",
              "      <td>24.0</td>\n",
              "    </tr>\n",
              "    <tr>\n",
              "      <th>3</th>\n",
              "      <td>0</td>\n",
              "      <td>3</td>\n",
              "      <td>12.0</td>\n",
              "    </tr>\n",
              "    <tr>\n",
              "      <th>4</th>\n",
              "      <td>0</td>\n",
              "      <td>4</td>\n",
              "      <td>6.0</td>\n",
              "    </tr>\n",
              "    <tr>\n",
              "      <th>...</th>\n",
              "      <td>...</td>\n",
              "      <td>...</td>\n",
              "      <td>...</td>\n",
              "    </tr>\n",
              "    <tr>\n",
              "      <th>2048495</th>\n",
              "      <td>499</td>\n",
              "      <td>4092</td>\n",
              "      <td>-10.0</td>\n",
              "    </tr>\n",
              "    <tr>\n",
              "      <th>2048496</th>\n",
              "      <td>499</td>\n",
              "      <td>4093</td>\n",
              "      <td>-5.0</td>\n",
              "    </tr>\n",
              "    <tr>\n",
              "      <th>2048497</th>\n",
              "      <td>499</td>\n",
              "      <td>4094</td>\n",
              "      <td>-7.0</td>\n",
              "    </tr>\n",
              "    <tr>\n",
              "      <th>2048498</th>\n",
              "      <td>499</td>\n",
              "      <td>4095</td>\n",
              "      <td>-7.0</td>\n",
              "    </tr>\n",
              "    <tr>\n",
              "      <th>2048499</th>\n",
              "      <td>499</td>\n",
              "      <td>4096</td>\n",
              "      <td>43.0</td>\n",
              "    </tr>\n",
              "  </tbody>\n",
              "</table>\n",
              "<p>2048500 rows × 3 columns</p>\n",
              "</div>\n",
              "    <div class=\"colab-df-buttons\">\n",
              "\n",
              "  <div class=\"colab-df-container\">\n",
              "    <button class=\"colab-df-convert\" onclick=\"convertToInteractive('df-9b48de3b-050a-4ced-935e-93808fa908e4')\"\n",
              "            title=\"Convert this dataframe to an interactive table.\"\n",
              "            style=\"display:none;\">\n",
              "\n",
              "  <svg xmlns=\"http://www.w3.org/2000/svg\" height=\"24px\" viewBox=\"0 -960 960 960\">\n",
              "    <path d=\"M120-120v-720h720v720H120Zm60-500h600v-160H180v160Zm220 220h160v-160H400v160Zm0 220h160v-160H400v160ZM180-400h160v-160H180v160Zm440 0h160v-160H620v160ZM180-180h160v-160H180v160Zm440 0h160v-160H620v160Z\"/>\n",
              "  </svg>\n",
              "    </button>\n",
              "\n",
              "  <style>\n",
              "    .colab-df-container {\n",
              "      display:flex;\n",
              "      gap: 12px;\n",
              "    }\n",
              "\n",
              "    .colab-df-convert {\n",
              "      background-color: #E8F0FE;\n",
              "      border: none;\n",
              "      border-radius: 50%;\n",
              "      cursor: pointer;\n",
              "      display: none;\n",
              "      fill: #1967D2;\n",
              "      height: 32px;\n",
              "      padding: 0 0 0 0;\n",
              "      width: 32px;\n",
              "    }\n",
              "\n",
              "    .colab-df-convert:hover {\n",
              "      background-color: #E2EBFA;\n",
              "      box-shadow: 0px 1px 2px rgba(60, 64, 67, 0.3), 0px 1px 3px 1px rgba(60, 64, 67, 0.15);\n",
              "      fill: #174EA6;\n",
              "    }\n",
              "\n",
              "    .colab-df-buttons div {\n",
              "      margin-bottom: 4px;\n",
              "    }\n",
              "\n",
              "    [theme=dark] .colab-df-convert {\n",
              "      background-color: #3B4455;\n",
              "      fill: #D2E3FC;\n",
              "    }\n",
              "\n",
              "    [theme=dark] .colab-df-convert:hover {\n",
              "      background-color: #434B5C;\n",
              "      box-shadow: 0px 1px 3px 1px rgba(0, 0, 0, 0.15);\n",
              "      filter: drop-shadow(0px 1px 2px rgba(0, 0, 0, 0.3));\n",
              "      fill: #FFFFFF;\n",
              "    }\n",
              "  </style>\n",
              "\n",
              "    <script>\n",
              "      const buttonEl =\n",
              "        document.querySelector('#df-9b48de3b-050a-4ced-935e-93808fa908e4 button.colab-df-convert');\n",
              "      buttonEl.style.display =\n",
              "        google.colab.kernel.accessAllowed ? 'block' : 'none';\n",
              "\n",
              "      async function convertToInteractive(key) {\n",
              "        const element = document.querySelector('#df-9b48de3b-050a-4ced-935e-93808fa908e4');\n",
              "        const dataTable =\n",
              "          await google.colab.kernel.invokeFunction('convertToInteractive',\n",
              "                                                    [key], {});\n",
              "        if (!dataTable) return;\n",
              "\n",
              "        const docLinkHtml = 'Like what you see? Visit the ' +\n",
              "          '<a target=\"_blank\" href=https://colab.research.google.com/notebooks/data_table.ipynb>data table notebook</a>'\n",
              "          + ' to learn more about interactive tables.';\n",
              "        element.innerHTML = '';\n",
              "        dataTable['output_type'] = 'display_data';\n",
              "        await google.colab.output.renderOutput(dataTable, element);\n",
              "        const docLink = document.createElement('div');\n",
              "        docLink.innerHTML = docLinkHtml;\n",
              "        element.appendChild(docLink);\n",
              "      }\n",
              "    </script>\n",
              "  </div>\n",
              "\n",
              "\n",
              "<div id=\"df-fed200bd-58f0-4172-ad27-008e70483ae6\">\n",
              "  <button class=\"colab-df-quickchart\" onclick=\"quickchart('df-fed200bd-58f0-4172-ad27-008e70483ae6')\"\n",
              "            title=\"Suggest charts\"\n",
              "            style=\"display:none;\">\n",
              "\n",
              "<svg xmlns=\"http://www.w3.org/2000/svg\" height=\"24px\"viewBox=\"0 0 24 24\"\n",
              "     width=\"24px\">\n",
              "    <g>\n",
              "        <path d=\"M19 3H5c-1.1 0-2 .9-2 2v14c0 1.1.9 2 2 2h14c1.1 0 2-.9 2-2V5c0-1.1-.9-2-2-2zM9 17H7v-7h2v7zm4 0h-2V7h2v10zm4 0h-2v-4h2v4z\"/>\n",
              "    </g>\n",
              "</svg>\n",
              "  </button>\n",
              "\n",
              "<style>\n",
              "  .colab-df-quickchart {\n",
              "      --bg-color: #E8F0FE;\n",
              "      --fill-color: #1967D2;\n",
              "      --hover-bg-color: #E2EBFA;\n",
              "      --hover-fill-color: #174EA6;\n",
              "      --disabled-fill-color: #AAA;\n",
              "      --disabled-bg-color: #DDD;\n",
              "  }\n",
              "\n",
              "  [theme=dark] .colab-df-quickchart {\n",
              "      --bg-color: #3B4455;\n",
              "      --fill-color: #D2E3FC;\n",
              "      --hover-bg-color: #434B5C;\n",
              "      --hover-fill-color: #FFFFFF;\n",
              "      --disabled-bg-color: #3B4455;\n",
              "      --disabled-fill-color: #666;\n",
              "  }\n",
              "\n",
              "  .colab-df-quickchart {\n",
              "    background-color: var(--bg-color);\n",
              "    border: none;\n",
              "    border-radius: 50%;\n",
              "    cursor: pointer;\n",
              "    display: none;\n",
              "    fill: var(--fill-color);\n",
              "    height: 32px;\n",
              "    padding: 0;\n",
              "    width: 32px;\n",
              "  }\n",
              "\n",
              "  .colab-df-quickchart:hover {\n",
              "    background-color: var(--hover-bg-color);\n",
              "    box-shadow: 0 1px 2px rgba(60, 64, 67, 0.3), 0 1px 3px 1px rgba(60, 64, 67, 0.15);\n",
              "    fill: var(--button-hover-fill-color);\n",
              "  }\n",
              "\n",
              "  .colab-df-quickchart-complete:disabled,\n",
              "  .colab-df-quickchart-complete:disabled:hover {\n",
              "    background-color: var(--disabled-bg-color);\n",
              "    fill: var(--disabled-fill-color);\n",
              "    box-shadow: none;\n",
              "  }\n",
              "\n",
              "  .colab-df-spinner {\n",
              "    border: 2px solid var(--fill-color);\n",
              "    border-color: transparent;\n",
              "    border-bottom-color: var(--fill-color);\n",
              "    animation:\n",
              "      spin 1s steps(1) infinite;\n",
              "  }\n",
              "\n",
              "  @keyframes spin {\n",
              "    0% {\n",
              "      border-color: transparent;\n",
              "      border-bottom-color: var(--fill-color);\n",
              "      border-left-color: var(--fill-color);\n",
              "    }\n",
              "    20% {\n",
              "      border-color: transparent;\n",
              "      border-left-color: var(--fill-color);\n",
              "      border-top-color: var(--fill-color);\n",
              "    }\n",
              "    30% {\n",
              "      border-color: transparent;\n",
              "      border-left-color: var(--fill-color);\n",
              "      border-top-color: var(--fill-color);\n",
              "      border-right-color: var(--fill-color);\n",
              "    }\n",
              "    40% {\n",
              "      border-color: transparent;\n",
              "      border-right-color: var(--fill-color);\n",
              "      border-top-color: var(--fill-color);\n",
              "    }\n",
              "    60% {\n",
              "      border-color: transparent;\n",
              "      border-right-color: var(--fill-color);\n",
              "    }\n",
              "    80% {\n",
              "      border-color: transparent;\n",
              "      border-right-color: var(--fill-color);\n",
              "      border-bottom-color: var(--fill-color);\n",
              "    }\n",
              "    90% {\n",
              "      border-color: transparent;\n",
              "      border-bottom-color: var(--fill-color);\n",
              "    }\n",
              "  }\n",
              "</style>\n",
              "\n",
              "  <script>\n",
              "    async function quickchart(key) {\n",
              "      const quickchartButtonEl =\n",
              "        document.querySelector('#' + key + ' button');\n",
              "      quickchartButtonEl.disabled = true;  // To prevent multiple clicks.\n",
              "      quickchartButtonEl.classList.add('colab-df-spinner');\n",
              "      try {\n",
              "        const charts = await google.colab.kernel.invokeFunction(\n",
              "            'suggestCharts', [key], {});\n",
              "      } catch (error) {\n",
              "        console.error('Error during call to suggestCharts:', error);\n",
              "      }\n",
              "      quickchartButtonEl.classList.remove('colab-df-spinner');\n",
              "      quickchartButtonEl.classList.add('colab-df-quickchart-complete');\n",
              "    }\n",
              "    (() => {\n",
              "      let quickchartButtonEl =\n",
              "        document.querySelector('#df-fed200bd-58f0-4172-ad27-008e70483ae6 button');\n",
              "      quickchartButtonEl.style.display =\n",
              "        google.colab.kernel.accessAllowed ? 'block' : 'none';\n",
              "    })();\n",
              "  </script>\n",
              "</div>\n",
              "\n",
              "  <div id=\"id_10842a28-cf9f-48de-8e4d-b9fa8456037e\">\n",
              "    <style>\n",
              "      .colab-df-generate {\n",
              "        background-color: #E8F0FE;\n",
              "        border: none;\n",
              "        border-radius: 50%;\n",
              "        cursor: pointer;\n",
              "        display: none;\n",
              "        fill: #1967D2;\n",
              "        height: 32px;\n",
              "        padding: 0 0 0 0;\n",
              "        width: 32px;\n",
              "      }\n",
              "\n",
              "      .colab-df-generate:hover {\n",
              "        background-color: #E2EBFA;\n",
              "        box-shadow: 0px 1px 2px rgba(60, 64, 67, 0.3), 0px 1px 3px 1px rgba(60, 64, 67, 0.15);\n",
              "        fill: #174EA6;\n",
              "      }\n",
              "\n",
              "      [theme=dark] .colab-df-generate {\n",
              "        background-color: #3B4455;\n",
              "        fill: #D2E3FC;\n",
              "      }\n",
              "\n",
              "      [theme=dark] .colab-df-generate:hover {\n",
              "        background-color: #434B5C;\n",
              "        box-shadow: 0px 1px 3px 1px rgba(0, 0, 0, 0.15);\n",
              "        filter: drop-shadow(0px 1px 2px rgba(0, 0, 0, 0.3));\n",
              "        fill: #FFFFFF;\n",
              "      }\n",
              "    </style>\n",
              "    <button class=\"colab-df-generate\" onclick=\"generateWithVariable('data')\"\n",
              "            title=\"Generate code using this dataframe.\"\n",
              "            style=\"display:none;\">\n",
              "\n",
              "  <svg xmlns=\"http://www.w3.org/2000/svg\" height=\"24px\"viewBox=\"0 0 24 24\"\n",
              "       width=\"24px\">\n",
              "    <path d=\"M7,19H8.4L18.45,9,17,7.55,7,17.6ZM5,21V16.75L18.45,3.32a2,2,0,0,1,2.83,0l1.4,1.43a1.91,1.91,0,0,1,.58,1.4,1.91,1.91,0,0,1-.58,1.4L9.25,21ZM18.45,9,17,7.55Zm-12,3A5.31,5.31,0,0,0,4.9,8.1,5.31,5.31,0,0,0,1,6.5,5.31,5.31,0,0,0,4.9,4.9,5.31,5.31,0,0,0,6.5,1,5.31,5.31,0,0,0,8.1,4.9,5.31,5.31,0,0,0,12,6.5,5.46,5.46,0,0,0,6.5,12Z\"/>\n",
              "  </svg>\n",
              "    </button>\n",
              "    <script>\n",
              "      (() => {\n",
              "      const buttonEl =\n",
              "        document.querySelector('#id_10842a28-cf9f-48de-8e4d-b9fa8456037e button.colab-df-generate');\n",
              "      buttonEl.style.display =\n",
              "        google.colab.kernel.accessAllowed ? 'block' : 'none';\n",
              "\n",
              "      buttonEl.onclick = () => {\n",
              "        google.colab.notebook.generateWithVariable('data');\n",
              "      }\n",
              "      })();\n",
              "    </script>\n",
              "  </div>\n",
              "\n",
              "    </div>\n",
              "  </div>\n"
            ],
            "application/vnd.google.colaboratory.intrinsic+json": {
              "type": "dataframe",
              "variable_name": "data"
            }
          },
          "metadata": {},
          "execution_count": 15
        }
      ],
      "source": [
        "data"
      ]
    },
    {
      "cell_type": "code",
      "execution_count": null,
      "metadata": {
        "colab": {
          "base_uri": "https://localhost:8080/",
          "height": 452
        },
        "id": "rku77iXB14_l",
        "outputId": "cd43ff74-2746-4351-f052-7da55dfc5779"
      },
      "outputs": [
        {
          "output_type": "display_data",
          "data": {
            "text/plain": [
              "<Figure size 640x480 with 1 Axes>"
            ],
            "image/png": "[encoded data removed]"
          },
          "metadata": {}
        }
      ],
      "source": [
        "from matplotlib import pyplot as plt\n",
        "\n",
        "plt.title('class A signal')\n",
        "plt.plot(data[data['id'] == 10].set_index('time').value)\n",
        "plt.show()"
      ]
    },
    {
      "cell_type": "markdown",
      "metadata": {
        "id": "2B4hk1Il58Or"
      },
      "source": [
        "###Feature extraction\n"
      ]
    },
    {
      "cell_type": "code",
      "execution_count": null,
      "metadata": {
        "colab": {
          "base_uri": "https://localhost:8080/"
        },
        "id": "6Z4MIODl2Two",
        "outputId": "3f43ae6e-be16-4da6-ddd0-d60e8049aa13"
      },
      "outputs": [
        {
          "output_type": "stream",
          "name": "stderr",
          "text": [
            "WARNING:tsfresh.feature_extraction.settings:Dependency not available for matrix_profile, this feature will be disabled!\n",
            "Feature Extraction: 100%|██████████| 500/500 [05:31<00:00,  1.51it/s]\n"
          ]
        }
      ],
      "source": [
        "EEG_features = extract_features(data, column_id=\"id\", column_sort=\"time\", default_fc_parameters=EfficientFCParameters())"
      ]
    },
    {
      "cell_type": "code",
      "execution_count": null,
      "metadata": {
        "colab": {
          "base_uri": "https://localhost:8080/",
          "height": 480
        },
        "id": "donQ6QZwhagI",
        "outputId": "1336adc8-a616-4a7d-ff99-c61dbca7fb65"
      },
      "outputs": [
        {
          "output_type": "stream",
          "name": "stderr",
          "text": [
            "/usr/local/lib/python3.10/dist-packages/tsfresh/utilities/dataframe_functions.py:198: RuntimeWarning: The columns ['value__query_similarity_count__query_None__threshold_0.0'] did not have any finite values. Filling with zeros.\n",
            "  warnings.warn(\n"
          ]
        },
        {
          "output_type": "execute_result",
          "data": {
            "text/plain": [
              "     value__variance_larger_than_standard_deviation  value__has_duplicate_max  \\\n",
              "0                                               1.0                       0.0   \n",
              "1                                               1.0                       0.0   \n",
              "2                                               1.0                       0.0   \n",
              "3                                               1.0                       0.0   \n",
              "4                                               1.0                       0.0   \n",
              "..                                              ...                       ...   \n",
              "495                                             1.0                       0.0   \n",
              "496                                             1.0                       0.0   \n",
              "497                                             1.0                       0.0   \n",
              "498                                             1.0                       0.0   \n",
              "499                                             1.0                       0.0   \n",
              "\n",
              "     value__has_duplicate_min  value__has_duplicate  value__sum_values  \\\n",
              "0                         0.0                   1.0            24782.0   \n",
              "1                         0.0                   1.0            33392.0   \n",
              "2                         0.0                   1.0             4191.0   \n",
              "3                         0.0                   1.0            -8482.0   \n",
              "4                         0.0                   1.0           -19140.0   \n",
              "..                        ...                   ...                ...   \n",
              "495                       0.0                   1.0            13447.0   \n",
              "496                       0.0                   1.0           -66395.0   \n",
              "497                       0.0                   1.0           -14032.0   \n",
              "498                       0.0                   1.0            -9843.0   \n",
              "499                       0.0                   1.0           -44044.0   \n",
              "\n",
              "     value__abs_energy  value__mean_abs_change  value__mean_change  \\\n",
              "0            6619714.0               11.066895           -0.007324   \n",
              "1           11407306.0               12.745605            0.003906   \n",
              "2            6526241.0               14.558594            0.026855   \n",
              "3            2901078.0                8.607666            0.005615   \n",
              "4            7973302.0               15.139404            0.004150   \n",
              "..                 ...                     ...                 ...   \n",
              "495        275419177.0               59.614746           -0.059570   \n",
              "496        141273895.0               38.728760            0.002197   \n",
              "497         69572550.0               24.953613           -0.006836   \n",
              "498        540440799.0               69.300537            0.024170   \n",
              "499         80571292.0               16.291748            0.016357   \n",
              "\n",
              "     value__mean_second_derivative_central  value__median  ...  \\\n",
              "0                                -0.005372            6.0  ...   \n",
              "1                                 0.000366            8.0  ...   \n",
              "2                                 0.000244            1.0  ...   \n",
              "3                                -0.000488           -2.0  ...   \n",
              "4                                 0.000611           -5.0  ...   \n",
              "..                                     ...            ...  ...   \n",
              "495                              -0.042491          -21.0  ...   \n",
              "496                               0.000611           21.0  ...   \n",
              "497                              -0.012698           13.0  ...   \n",
              "498                              -0.044567           51.0  ...   \n",
              "499                               0.006716           27.0  ...   \n",
              "\n",
              "     value__fourier_entropy__bins_5  value__fourier_entropy__bins_10  \\\n",
              "0                          0.622877                         0.759436   \n",
              "1                          0.262742                         0.522487   \n",
              "2                          0.492803                         0.731788   \n",
              "3                          0.334825                         0.679618   \n",
              "4                          0.571267                         0.954399   \n",
              "..                              ...                              ...   \n",
              "495                        0.204871                         0.352599   \n",
              "496                        0.170467                         0.307703   \n",
              "497                        0.433167                         0.666300   \n",
              "498                        0.243347                         0.477200   \n",
              "499                        0.215617                         0.335886   \n",
              "\n",
              "     value__fourier_entropy__bins_100  \\\n",
              "0                            1.763009   \n",
              "1                            1.399967   \n",
              "2                            1.877033   \n",
              "3                            1.775853   \n",
              "4                            1.865344   \n",
              "..                                ...   \n",
              "495                          1.199237   \n",
              "496                          1.090237   \n",
              "497                          1.532356   \n",
              "498                          1.397266   \n",
              "499                          1.075011   \n",
              "\n",
              "     value__permutation_entropy__dimension_3__tau_1  \\\n",
              "0                                          1.458082   \n",
              "1                                          1.456703   \n",
              "2                                          1.629859   \n",
              "3                                          1.558947   \n",
              "4                                          1.447064   \n",
              "..                                              ...   \n",
              "495                                        1.236926   \n",
              "496                                        1.125873   \n",
              "497                                        1.342533   \n",
              "498                                        1.170619   \n",
              "499                                        1.413721   \n",
              "\n",
              "     value__permutation_entropy__dimension_4__tau_1  \\\n",
              "0                                          2.306672   \n",
              "1                                          2.291283   \n",
              "2                                          2.700467   \n",
              "3                                          2.531856   \n",
              "4                                          2.278335   \n",
              "..                                              ...   \n",
              "495                                        1.853029   \n",
              "496                                        1.616420   \n",
              "497                                        2.056078   \n",
              "498                                        1.673692   \n",
              "499                                        2.172780   \n",
              "\n",
              "     value__permutation_entropy__dimension_5__tau_1  \\\n",
              "0                                          3.268767   \n",
              "1                                          3.235342   \n",
              "2                                          3.888196   \n",
              "3                                          3.630077   \n",
              "4                                          3.224710   \n",
              "..                                              ...   \n",
              "495                                        2.532509   \n",
              "496                                        2.162293   \n",
              "497                                        2.862034   \n",
              "498                                        2.228993   \n",
              "499                                        3.040972   \n",
              "\n",
              "     value__permutation_entropy__dimension_6__tau_1  \\\n",
              "0                                          4.301151   \n",
              "1                                          4.254610   \n",
              "2                                          5.148322   \n",
              "3                                          4.792835   \n",
              "4                                          4.221737   \n",
              "..                                              ...   \n",
              "495                                        3.261509   \n",
              "496                                        2.752742   \n",
              "497                                        3.722112   \n",
              "498                                        2.849395   \n",
              "499                                        3.971067   \n",
              "\n",
              "     value__permutation_entropy__dimension_7__tau_1  \\\n",
              "0                                          5.308408   \n",
              "1                                          5.249602   \n",
              "2                                          6.299744   \n",
              "3                                          5.914107   \n",
              "4                                          5.232660   \n",
              "..                                              ...   \n",
              "495                                        3.986503   \n",
              "496                                        3.337478   \n",
              "497                                        4.551717   \n",
              "498                                        3.463492   \n",
              "499                                        4.828229   \n",
              "\n",
              "     value__query_similarity_count__query_None__threshold_0.0  \\\n",
              "0                                                  0.0          \n",
              "1                                                  0.0          \n",
              "2                                                  0.0          \n",
              "3                                                  0.0          \n",
              "4                                                  0.0          \n",
              "..                                                 ...          \n",
              "495                                                0.0          \n",
              "496                                                0.0          \n",
              "497                                                0.0          \n",
              "498                                                0.0          \n",
              "499                                                0.0          \n",
              "\n",
              "     value__mean_n_absolute_max__number_of_maxima_7  \n",
              "0                                        134.714286  \n",
              "1                                        227.428571  \n",
              "2                                        139.285714  \n",
              "3                                         88.428571  \n",
              "4                                        153.428571  \n",
              "..                                              ...  \n",
              "495                                      929.428571  \n",
              "496                                      504.142857  \n",
              "497                                      644.000000  \n",
              "498                                     1380.285714  \n",
              "499                                      477.571429  \n",
              "\n",
              "[500 rows x 777 columns]"
            ],
            "text/html": [
              "\n",
              "  <div id=\"df-034999d7-1322-4f74-8360-dedca898db8f\" class=\"colab-df-container\">\n",
              "    <div>\n",
              "<style scoped>\n",
              "    .dataframe tbody tr th:only-of-type {\n",
              "        vertical-align: middle;\n",
              "    }\n",
              "\n",
              "    .dataframe tbody tr th {\n",
              "        vertical-align: top;\n",
              "    }\n",
              "\n",
              "    .dataframe thead th {\n",
              "        text-align: right;\n",
              "    }\n",
              "</style>\n",
              "<table border=\"1\" class=\"dataframe\">\n",
              "  <thead>\n",
              "    <tr style=\"text-align: right;\">\n",
              "      <th></th>\n",
              "      <th>value__variance_larger_than_standard_deviation</th>\n",
              "      <th>value__has_duplicate_max</th>\n",
              "      <th>value__has_duplicate_min</th>\n",
              "      <th>value__has_duplicate</th>\n",
              "      <th>value__sum_values</th>\n",
              "      <th>value__abs_energy</th>\n",
              "      <th>value__mean_abs_change</th>\n",
              "      <th>value__mean_change</th>\n",
              "      <th>value__mean_second_derivative_central</th>\n",
              "      <th>value__median</th>\n",
              "      <th>...</th>\n",
              "      <th>value__fourier_entropy__bins_5</th>\n",
              "      <th>value__fourier_entropy__bins_10</th>\n",
              "      <th>value__fourier_entropy__bins_100</th>\n",
              "      <th>value__permutation_entropy__dimension_3__tau_1</th>\n",
              "      <th>value__permutation_entropy__dimension_4__tau_1</th>\n",
              "      <th>value__permutation_entropy__dimension_5__tau_1</th>\n",
              "      <th>value__permutation_entropy__dimension_6__tau_1</th>\n",
              "      <th>value__permutation_entropy__dimension_7__tau_1</th>\n",
              "      <th>value__query_similarity_count__query_None__threshold_0.0</th>\n",
              "      <th>value__mean_n_absolute_max__number_of_maxima_7</th>\n",
              "    </tr>\n",
              "  </thead>\n",
              "  <tbody>\n",
              "    <tr>\n",
              "      <th>0</th>\n",
              "      <td>1.0</td>\n",
              "      <td>0.0</td>\n",
              "      <td>0.0</td>\n",
              "      <td>1.0</td>\n",
              "      <td>24782.0</td>\n",
              "      <td>6619714.0</td>\n",
              "      <td>11.066895</td>\n",
              "      <td>-0.007324</td>\n",
              "      <td>-0.005372</td>\n",
              "      <td>6.0</td>\n",
              "      <td>...</td>\n",
              "      <td>0.622877</td>\n",
              "      <td>0.759436</td>\n",
              "      <td>1.763009</td>\n",
              "      <td>1.458082</td>\n",
              "      <td>2.306672</td>\n",
              "      <td>3.268767</td>\n",
              "      <td>4.301151</td>\n",
              "      <td>5.308408</td>\n",
              "      <td>0.0</td>\n",
              "      <td>134.714286</td>\n",
              "    </tr>\n",
              "    <tr>\n",
              "      <th>1</th>\n",
              "      <td>1.0</td>\n",
              "      <td>0.0</td>\n",
              "      <td>0.0</td>\n",
              "      <td>1.0</td>\n",
              "      <td>33392.0</td>\n",
              "      <td>11407306.0</td>\n",
              "      <td>12.745605</td>\n",
              "      <td>0.003906</td>\n",
              "      <td>0.000366</td>\n",
              "      <td>8.0</td>\n",
              "      <td>...</td>\n",
              "      <td>0.262742</td>\n",
              "      <td>0.522487</td>\n",
              "      <td>1.399967</td>\n",
              "      <td>1.456703</td>\n",
              "      <td>2.291283</td>\n",
              "      <td>3.235342</td>\n",
              "      <td>4.254610</td>\n",
              "      <td>5.249602</td>\n",
              "      <td>0.0</td>\n",
              "      <td>227.428571</td>\n",
              "    </tr>\n",
              "    <tr>\n",
              "      <th>2</th>\n",
              "      <td>1.0</td>\n",
              "      <td>0.0</td>\n",
              "      <td>0.0</td>\n",
              "      <td>1.0</td>\n",
              "      <td>4191.0</td>\n",
              "      <td>6526241.0</td>\n",
              "      <td>14.558594</td>\n",
              "      <td>0.026855</td>\n",
              "      <td>0.000244</td>\n",
              "      <td>1.0</td>\n",
              "      <td>...</td>\n",
              "      <td>0.492803</td>\n",
              "      <td>0.731788</td>\n",
              "      <td>1.877033</td>\n",
              "      <td>1.629859</td>\n",
              "      <td>2.700467</td>\n",
              "      <td>3.888196</td>\n",
              "      <td>5.148322</td>\n",
              "      <td>6.299744</td>\n",
              "      <td>0.0</td>\n",
              "      <td>139.285714</td>\n",
              "    </tr>\n",
              "    <tr>\n",
              "      <th>3</th>\n",
              "      <td>1.0</td>\n",
              "      <td>0.0</td>\n",
              "      <td>0.0</td>\n",
              "      <td>1.0</td>\n",
              "      <td>-8482.0</td>\n",
              "      <td>2901078.0</td>\n",
              "      <td>8.607666</td>\n",
              "      <td>0.005615</td>\n",
              "      <td>-0.000488</td>\n",
              "      <td>-2.0</td>\n",
              "      <td>...</td>\n",
              "      <td>0.334825</td>\n",
              "      <td>0.679618</td>\n",
              "      <td>1.775853</td>\n",
              "      <td>1.558947</td>\n",
              "      <td>2.531856</td>\n",
              "      <td>3.630077</td>\n",
              "      <td>4.792835</td>\n",
              "      <td>5.914107</td>\n",
              "      <td>0.0</td>\n",
              "      <td>88.428571</td>\n",
              "    </tr>\n",
              "    <tr>\n",
              "      <th>4</th>\n",
              "      <td>1.0</td>\n",
              "      <td>0.0</td>\n",
              "      <td>0.0</td>\n",
              "      <td>1.0</td>\n",
              "      <td>-19140.0</td>\n",
              "      <td>7973302.0</td>\n",
              "      <td>15.139404</td>\n",
              "      <td>0.004150</td>\n",
              "      <td>0.000611</td>\n",
              "      <td>-5.0</td>\n",
              "      <td>...</td>\n",
              "      <td>0.571267</td>\n",
              "      <td>0.954399</td>\n",
              "      <td>1.865344</td>\n",
              "      <td>1.447064</td>\n",
              "      <td>2.278335</td>\n",
              "      <td>3.224710</td>\n",
              "      <td>4.221737</td>\n",
              "      <td>5.232660</td>\n",
              "      <td>0.0</td>\n",
              "      <td>153.428571</td>\n",
              "    </tr>\n",
              "    <tr>\n",
              "      <th>...</th>\n",
              "      <td>...</td>\n",
              "      <td>...</td>\n",
              "      <td>...</td>\n",
              "      <td>...</td>\n",
              "      <td>...</td>\n",
              "      <td>...</td>\n",
              "      <td>...</td>\n",
              "      <td>...</td>\n",
              "      <td>...</td>\n",
              "      <td>...</td>\n",
              "      <td>...</td>\n",
              "      <td>...</td>\n",
              "      <td>...</td>\n",
              "      <td>...</td>\n",
              "      <td>...</td>\n",
              "      <td>...</td>\n",
              "      <td>...</td>\n",
              "      <td>...</td>\n",
              "      <td>...</td>\n",
              "      <td>...</td>\n",
              "      <td>...</td>\n",
              "    </tr>\n",
              "    <tr>\n",
              "      <th>495</th>\n",
              "      <td>1.0</td>\n",
              "      <td>0.0</td>\n",
              "      <td>0.0</td>\n",
              "      <td>1.0</td>\n",
              "      <td>13447.0</td>\n",
              "      <td>275419177.0</td>\n",
              "      <td>59.614746</td>\n",
              "      <td>-0.059570</td>\n",
              "      <td>-0.042491</td>\n",
              "      <td>-21.0</td>\n",
              "      <td>...</td>\n",
              "      <td>0.204871</td>\n",
              "      <td>0.352599</td>\n",
              "      <td>1.199237</td>\n",
              "      <td>1.236926</td>\n",
              "      <td>1.853029</td>\n",
              "      <td>2.532509</td>\n",
              "      <td>3.261509</td>\n",
              "      <td>3.986503</td>\n",
              "      <td>0.0</td>\n",
              "      <td>929.428571</td>\n",
              "    </tr>\n",
              "    <tr>\n",
              "      <th>496</th>\n",
              "      <td>1.0</td>\n",
              "      <td>0.0</td>\n",
              "      <td>0.0</td>\n",
              "      <td>1.0</td>\n",
              "      <td>-66395.0</td>\n",
              "      <td>141273895.0</td>\n",
              "      <td>38.728760</td>\n",
              "      <td>0.002197</td>\n",
              "      <td>0.000611</td>\n",
              "      <td>21.0</td>\n",
              "      <td>...</td>\n",
              "      <td>0.170467</td>\n",
              "      <td>0.307703</td>\n",
              "      <td>1.090237</td>\n",
              "      <td>1.125873</td>\n",
              "      <td>1.616420</td>\n",
              "      <td>2.162293</td>\n",
              "      <td>2.752742</td>\n",
              "      <td>3.337478</td>\n",
              "      <td>0.0</td>\n",
              "      <td>504.142857</td>\n",
              "    </tr>\n",
              "    <tr>\n",
              "      <th>497</th>\n",
              "      <td>1.0</td>\n",
              "      <td>0.0</td>\n",
              "      <td>0.0</td>\n",
              "      <td>1.0</td>\n",
              "      <td>-14032.0</td>\n",
              "      <td>69572550.0</td>\n",
              "      <td>24.953613</td>\n",
              "      <td>-0.006836</td>\n",
              "      <td>-0.012698</td>\n",
              "      <td>13.0</td>\n",
              "      <td>...</td>\n",
              "      <td>0.433167</td>\n",
              "      <td>0.666300</td>\n",
              "      <td>1.532356</td>\n",
              "      <td>1.342533</td>\n",
              "      <td>2.056078</td>\n",
              "      <td>2.862034</td>\n",
              "      <td>3.722112</td>\n",
              "      <td>4.551717</td>\n",
              "      <td>0.0</td>\n",
              "      <td>644.000000</td>\n",
              "    </tr>\n",
              "    <tr>\n",
              "      <th>498</th>\n",
              "      <td>1.0</td>\n",
              "      <td>0.0</td>\n",
              "      <td>0.0</td>\n",
              "      <td>1.0</td>\n",
              "      <td>-9843.0</td>\n",
              "      <td>540440799.0</td>\n",
              "      <td>69.300537</td>\n",
              "      <td>0.024170</td>\n",
              "      <td>-0.044567</td>\n",
              "      <td>51.0</td>\n",
              "      <td>...</td>\n",
              "      <td>0.243347</td>\n",
              "      <td>0.477200</td>\n",
              "      <td>1.397266</td>\n",
              "      <td>1.170619</td>\n",
              "      <td>1.673692</td>\n",
              "      <td>2.228993</td>\n",
              "      <td>2.849395</td>\n",
              "      <td>3.463492</td>\n",
              "      <td>0.0</td>\n",
              "      <td>1380.285714</td>\n",
              "    </tr>\n",
              "    <tr>\n",
              "      <th>499</th>\n",
              "      <td>1.0</td>\n",
              "      <td>0.0</td>\n",
              "      <td>0.0</td>\n",
              "      <td>1.0</td>\n",
              "      <td>-44044.0</td>\n",
              "      <td>80571292.0</td>\n",
              "      <td>16.291748</td>\n",
              "      <td>0.016357</td>\n",
              "      <td>0.006716</td>\n",
              "      <td>27.0</td>\n",
              "      <td>...</td>\n",
              "      <td>0.215617</td>\n",
              "      <td>0.335886</td>\n",
              "      <td>1.075011</td>\n",
              "      <td>1.413721</td>\n",
              "      <td>2.172780</td>\n",
              "      <td>3.040972</td>\n",
              "      <td>3.971067</td>\n",
              "      <td>4.828229</td>\n",
              "      <td>0.0</td>\n",
              "      <td>477.571429</td>\n",
              "    </tr>\n",
              "  </tbody>\n",
              "</table>\n",
              "<p>500 rows × 777 columns</p>\n",
              "</div>\n",
              "    <div class=\"colab-df-buttons\">\n",
              "\n",
              "  <div class=\"colab-df-container\">\n",
              "    <button class=\"colab-df-convert\" onclick=\"convertToInteractive('df-034999d7-1322-4f74-8360-dedca898db8f')\"\n",
              "            title=\"Convert this dataframe to an interactive table.\"\n",
              "            style=\"display:none;\">\n",
              "\n",
              "  <svg xmlns=\"http://www.w3.org/2000/svg\" height=\"24px\" viewBox=\"0 -960 960 960\">\n",
              "    <path d=\"M120-120v-720h720v720H120Zm60-500h600v-160H180v160Zm220 220h160v-160H400v160Zm0 220h160v-160H400v160ZM180-400h160v-160H180v160Zm440 0h160v-160H620v160ZM180-180h160v-160H180v160Zm440 0h160v-160H620v160Z\"/>\n",
              "  </svg>\n",
              "    </button>\n",
              "\n",
              "  <style>\n",
              "    .colab-df-container {\n",
              "      display:flex;\n",
              "      gap: 12px;\n",
              "    }\n",
              "\n",
              "    .colab-df-convert {\n",
              "      background-color: #E8F0FE;\n",
              "      border: none;\n",
              "      border-radius: 50%;\n",
              "      cursor: pointer;\n",
              "      display: none;\n",
              "      fill: #1967D2;\n",
              "      height: 32px;\n",
              "      padding: 0 0 0 0;\n",
              "      width: 32px;\n",
              "    }\n",
              "\n",
              "    .colab-df-convert:hover {\n",
              "      background-color: #E2EBFA;\n",
              "      box-shadow: 0px 1px 2px rgba(60, 64, 67, 0.3), 0px 1px 3px 1px rgba(60, 64, 67, 0.15);\n",
              "      fill: #174EA6;\n",
              "    }\n",
              "\n",
              "    .colab-df-buttons div {\n",
              "      margin-bottom: 4px;\n",
              "    }\n",
              "\n",
              "    [theme=dark] .colab-df-convert {\n",
              "      background-color: #3B4455;\n",
              "      fill: #D2E3FC;\n",
              "    }\n",
              "\n",
              "    [theme=dark] .colab-df-convert:hover {\n",
              "      background-color: #434B5C;\n",
              "      box-shadow: 0px 1px 3px 1px rgba(0, 0, 0, 0.15);\n",
              "      filter: drop-shadow(0px 1px 2px rgba(0, 0, 0, 0.3));\n",
              "      fill: #FFFFFF;\n",
              "    }\n",
              "  </style>\n",
              "\n",
              "    <script>\n",
              "      const buttonEl =\n",
              "        document.querySelector('#df-034999d7-1322-4f74-8360-dedca898db8f button.colab-df-convert');\n",
              "      buttonEl.style.display =\n",
              "        google.colab.kernel.accessAllowed ? 'block' : 'none';\n",
              "\n",
              "      async function convertToInteractive(key) {\n",
              "        const element = document.querySelector('#df-034999d7-1322-4f74-8360-dedca898db8f');\n",
              "        const dataTable =\n",
              "          await google.colab.kernel.invokeFunction('convertToInteractive',\n",
              "                                                    [key], {});\n",
              "        if (!dataTable) return;\n",
              "\n",
              "        const docLinkHtml = 'Like what you see? Visit the ' +\n",
              "          '<a target=\"_blank\" href=https://colab.research.google.com/notebooks/data_table.ipynb>data table notebook</a>'\n",
              "          + ' to learn more about interactive tables.';\n",
              "        element.innerHTML = '';\n",
              "        dataTable['output_type'] = 'display_data';\n",
              "        await google.colab.output.renderOutput(dataTable, element);\n",
              "        const docLink = document.createElement('div');\n",
              "        docLink.innerHTML = docLinkHtml;\n",
              "        element.appendChild(docLink);\n",
              "      }\n",
              "    </script>\n",
              "  </div>\n",
              "\n",
              "\n",
              "<div id=\"df-44924455-b0a2-4c3b-9c1c-5d9dd4856d52\">\n",
              "  <button class=\"colab-df-quickchart\" onclick=\"quickchart('df-44924455-b0a2-4c3b-9c1c-5d9dd4856d52')\"\n",
              "            title=\"Suggest charts\"\n",
              "            style=\"display:none;\">\n",
              "\n",
              "<svg xmlns=\"http://www.w3.org/2000/svg\" height=\"24px\"viewBox=\"0 0 24 24\"\n",
              "     width=\"24px\">\n",
              "    <g>\n",
              "        <path d=\"M19 3H5c-1.1 0-2 .9-2 2v14c0 1.1.9 2 2 2h14c1.1 0 2-.9 2-2V5c0-1.1-.9-2-2-2zM9 17H7v-7h2v7zm4 0h-2V7h2v10zm4 0h-2v-4h2v4z\"/>\n",
              "    </g>\n",
              "</svg>\n",
              "  </button>\n",
              "\n",
              "<style>\n",
              "  .colab-df-quickchart {\n",
              "      --bg-color: #E8F0FE;\n",
              "      --fill-color: #1967D2;\n",
              "      --hover-bg-color: #E2EBFA;\n",
              "      --hover-fill-color: #174EA6;\n",
              "      --disabled-fill-color: #AAA;\n",
              "      --disabled-bg-color: #DDD;\n",
              "  }\n",
              "\n",
              "  [theme=dark] .colab-df-quickchart {\n",
              "      --bg-color: #3B4455;\n",
              "      --fill-color: #D2E3FC;\n",
              "      --hover-bg-color: #434B5C;\n",
              "      --hover-fill-color: #FFFFFF;\n",
              "      --disabled-bg-color: #3B4455;\n",
              "      --disabled-fill-color: #666;\n",
              "  }\n",
              "\n",
              "  .colab-df-quickchart {\n",
              "    background-color: var(--bg-color);\n",
              "    border: none;\n",
              "    border-radius: 50%;\n",
              "    cursor: pointer;\n",
              "    display: none;\n",
              "    fill: var(--fill-color);\n",
              "    height: 32px;\n",
              "    padding: 0;\n",
              "    width: 32px;\n",
              "  }\n",
              "\n",
              "  .colab-df-quickchart:hover {\n",
              "    background-color: var(--hover-bg-color);\n",
              "    box-shadow: 0 1px 2px rgba(60, 64, 67, 0.3), 0 1px 3px 1px rgba(60, 64, 67, 0.15);\n",
              "    fill: var(--button-hover-fill-color);\n",
              "  }\n",
              "\n",
              "  .colab-df-quickchart-complete:disabled,\n",
              "  .colab-df-quickchart-complete:disabled:hover {\n",
              "    background-color: var(--disabled-bg-color);\n",
              "    fill: var(--disabled-fill-color);\n",
              "    box-shadow: none;\n",
              "  }\n",
              "\n",
              "  .colab-df-spinner {\n",
              "    border: 2px solid var(--fill-color);\n",
              "    border-color: transparent;\n",
              "    border-bottom-color: var(--fill-color);\n",
              "    animation:\n",
              "      spin 1s steps(1) infinite;\n",
              "  }\n",
              "\n",
              "  @keyframes spin {\n",
              "    0% {\n",
              "      border-color: transparent;\n",
              "      border-bottom-color: var(--fill-color);\n",
              "      border-left-color: var(--fill-color);\n",
              "    }\n",
              "    20% {\n",
              "      border-color: transparent;\n",
              "      border-left-color: var(--fill-color);\n",
              "      border-top-color: var(--fill-color);\n",
              "    }\n",
              "    30% {\n",
              "      border-color: transparent;\n",
              "      border-left-color: var(--fill-color);\n",
              "      border-top-color: var(--fill-color);\n",
              "      border-right-color: var(--fill-color);\n",
              "    }\n",
              "    40% {\n",
              "      border-color: transparent;\n",
              "      border-right-color: var(--fill-color);\n",
              "      border-top-color: var(--fill-color);\n",
              "    }\n",
              "    60% {\n",
              "      border-color: transparent;\n",
              "      border-right-color: var(--fill-color);\n",
              "    }\n",
              "    80% {\n",
              "      border-color: transparent;\n",
              "      border-right-color: var(--fill-color);\n",
              "      border-bottom-color: var(--fill-color);\n",
              "    }\n",
              "    90% {\n",
              "      border-color: transparent;\n",
              "      border-bottom-color: var(--fill-color);\n",
              "    }\n",
              "  }\n",
              "</style>\n",
              "\n",
              "  <script>\n",
              "    async function quickchart(key) {\n",
              "      const quickchartButtonEl =\n",
              "        document.querySelector('#' + key + ' button');\n",
              "      quickchartButtonEl.disabled = true;  // To prevent multiple clicks.\n",
              "      quickchartButtonEl.classList.add('colab-df-spinner');\n",
              "      try {\n",
              "        const charts = await google.colab.kernel.invokeFunction(\n",
              "            'suggestCharts', [key], {});\n",
              "      } catch (error) {\n",
              "        console.error('Error during call to suggestCharts:', error);\n",
              "      }\n",
              "      quickchartButtonEl.classList.remove('colab-df-spinner');\n",
              "      quickchartButtonEl.classList.add('colab-df-quickchart-complete');\n",
              "    }\n",
              "    (() => {\n",
              "      let quickchartButtonEl =\n",
              "        document.querySelector('#df-44924455-b0a2-4c3b-9c1c-5d9dd4856d52 button');\n",
              "      quickchartButtonEl.style.display =\n",
              "        google.colab.kernel.accessAllowed ? 'block' : 'none';\n",
              "    })();\n",
              "  </script>\n",
              "</div>\n",
              "\n",
              "  <div id=\"id_7f4a2c84-55b8-4494-a9ee-118245f95338\">\n",
              "    <style>\n",
              "      .colab-df-generate {\n",
              "        background-color: #E8F0FE;\n",
              "        border: none;\n",
              "        border-radius: 50%;\n",
              "        cursor: pointer;\n",
              "        display: none;\n",
              "        fill: #1967D2;\n",
              "        height: 32px;\n",
              "        padding: 0 0 0 0;\n",
              "        width: 32px;\n",
              "      }\n",
              "\n",
              "      .colab-df-generate:hover {\n",
              "        background-color: #E2EBFA;\n",
              "        box-shadow: 0px 1px 2px rgba(60, 64, 67, 0.3), 0px 1px 3px 1px rgba(60, 64, 67, 0.15);\n",
              "        fill: #174EA6;\n",
              "      }\n",
              "\n",
              "      [theme=dark] .colab-df-generate {\n",
              "        background-color: #3B4455;\n",
              "        fill: #D2E3FC;\n",
              "      }\n",
              "\n",
              "      [theme=dark] .colab-df-generate:hover {\n",
              "        background-color: #434B5C;\n",
              "        box-shadow: 0px 1px 3px 1px rgba(0, 0, 0, 0.15);\n",
              "        filter: drop-shadow(0px 1px 2px rgba(0, 0, 0, 0.3));\n",
              "        fill: #FFFFFF;\n",
              "      }\n",
              "    </style>\n",
              "    <button class=\"colab-df-generate\" onclick=\"generateWithVariable('EEG_features')\"\n",
              "            title=\"Generate code using this dataframe.\"\n",
              "            style=\"display:none;\">\n",
              "\n",
              "  <svg xmlns=\"http://www.w3.org/2000/svg\" height=\"24px\"viewBox=\"0 0 24 24\"\n",
              "       width=\"24px\">\n",
              "    <path d=\"M7,19H8.4L18.45,9,17,7.55,7,17.6ZM5,21V16.75L18.45,3.32a2,2,0,0,1,2.83,0l1.4,1.43a1.91,1.91,0,0,1,.58,1.4,1.91,1.91,0,0,1-.58,1.4L9.25,21ZM18.45,9,17,7.55Zm-12,3A5.31,5.31,0,0,0,4.9,8.1,5.31,5.31,0,0,0,1,6.5,5.31,5.31,0,0,0,4.9,4.9,5.31,5.31,0,0,0,6.5,1,5.31,5.31,0,0,0,8.1,4.9,5.31,5.31,0,0,0,12,6.5,5.46,5.46,0,0,0,6.5,12Z\"/>\n",
              "  </svg>\n",
              "    </button>\n",
              "    <script>\n",
              "      (() => {\n",
              "      const buttonEl =\n",
              "        document.querySelector('#id_7f4a2c84-55b8-4494-a9ee-118245f95338 button.colab-df-generate');\n",
              "      buttonEl.style.display =\n",
              "        google.colab.kernel.accessAllowed ? 'block' : 'none';\n",
              "\n",
              "      buttonEl.onclick = () => {\n",
              "        google.colab.notebook.generateWithVariable('EEG_features');\n",
              "      }\n",
              "      })();\n",
              "    </script>\n",
              "  </div>\n",
              "\n",
              "    </div>\n",
              "  </div>\n"
            ],
            "application/vnd.google.colaboratory.intrinsic+json": {
              "type": "dataframe",
              "variable_name": "EEG_features"
            }
          },
          "metadata": {},
          "execution_count": 18
        }
      ],
      "source": [
        "impute(EEG_features)"
      ]
    },
    {
      "cell_type": "code",
      "execution_count": null,
      "metadata": {
        "colab": {
          "base_uri": "https://localhost:8080/"
        },
        "id": "KUaOVUWQhzdr",
        "outputId": "87d729cc-1bd5-4890-e6a9-50e84262fc52"
      },
      "outputs": [
        {
          "output_type": "execute_result",
          "data": {
            "text/plain": [
              "0"
            ]
          },
          "metadata": {},
          "execution_count": 19
        }
      ],
      "source": [
        "\n",
        "\n",
        "EEG_features.isnull().sum().sum()\n"
      ]
    },
    {
      "cell_type": "markdown",
      "metadata": {
        "id": "UAllBmv4iJjR"
      },
      "source": [
        "### Feature selection using tsfresh"
      ]
    },
    {
      "cell_type": "code",
      "execution_count": null,
      "metadata": {
        "id": "cHcRtLL072Zk"
      },
      "outputs": [],
      "source": [
        "selected_features = select_features(EEG_features, y)"
      ]
    },
    {
      "cell_type": "code",
      "execution_count": null,
      "metadata": {
        "colab": {
          "base_uri": "https://localhost:8080/"
        },
        "id": "YKuNGqGiRtm5",
        "outputId": "8b28dd23-f1ed-428f-d85b-1e5bbe4529cd"
      },
      "outputs": [
        {
          "output_type": "execute_result",
          "data": {
            "text/plain": [
              "(500, 382)"
            ]
          },
          "metadata": {},
          "execution_count": 21
        }
      ],
      "source": [
        "selected_features.shape"
      ]
    },
    {
      "cell_type": "code",
      "execution_count": null,
      "metadata": {
        "colab": {
          "base_uri": "https://localhost:8080/"
        },
        "id": "k8dT5AaYQHVd",
        "outputId": "8baa170e-96c3-41fb-cf17-83cd6d694a5b"
      },
      "outputs": [
        {
          "output_type": "execute_result",
          "data": {
            "text/plain": [
              "(500,)"
            ]
          },
          "metadata": {},
          "execution_count": 22
        }
      ],
      "source": [
        "y.shape"
      ]
    },
    {
      "cell_type": "markdown",
      "metadata": {
        "id": "caQdsslUuSMp"
      },
      "source": [
        "Data Normalization"
      ]
    },
    {
      "cell_type": "code",
      "execution_count": null,
      "metadata": {
        "id": "1LrNZfp4daLu"
      },
      "outputs": [],
      "source": [
        "scalar= preprocessing.StandardScaler()\n",
        "xnorm = scalar.fit_transform(selected_features)"
      ]
    },
    {
      "cell_type": "markdown",
      "metadata": {
        "id": "0GYFgCWpuHke"
      },
      "source": [
        "##Modeling"
      ]
    },
    {
      "cell_type": "markdown",
      "metadata": {
        "id": "Zw6PAlBdubgQ"
      },
      "source": [
        "### Data split using K fold cross validation"
      ]
    },
    {
      "cell_type": "code",
      "execution_count": null,
      "metadata": {
        "id": "raEwPM1FACal"
      },
      "outputs": [],
      "source": [
        "stratified_shuffled_k_fold = model_selection.StratifiedShuffleSplit(\n",
        "    n_splits=5, random_state = 42\n",
        ")"
      ]
    },
    {
      "cell_type": "code",
      "execution_count": null,
      "metadata": {
        "id": "vkPvYN_fkucu"
      },
      "outputs": [],
      "source": [
        "def kfold_train_test_split(x,y,train_indices,test_indices):\n",
        "    return x[train_indices], x[test_indices], y[train_indices], y[test_indices]\n"
      ]
    },
    {
      "cell_type": "markdown",
      "metadata": {
        "id": "nNVNSwjJtQRF"
      },
      "source": [
        "A function for model evaluation"
      ]
    },
    {
      "cell_type": "code",
      "execution_count": null,
      "metadata": {
        "id": "iMtAHU6T-RqM"
      },
      "outputs": [],
      "source": [
        "def evaluate_model(x, y, model):\n",
        "  scores = []\n",
        "\n",
        "  for train_indices, test_indices in stratified_shuffled_k_fold.split(x, y):\n",
        "    x_train, x_test, y_train, y_test = kfold_train_test_split(x, y, train_indices, test_indices)\n",
        "    model.fit(x_train, y_train)\n",
        "    y_pred = model.predict(x_test)\n",
        "          # Calculate scores\n",
        "    accuracy = metrics.accuracy_score(y_test, y_pred)\n",
        "    f1 = metrics.f1_score(y_test, y_pred,average='weighted')\n",
        "    precision = metrics.precision_score(y_test, y_pred,average='weighted')\n",
        "    recall = metrics.recall_score(y_test, y_pred,average='weighted')\n",
        "      # Create scores dictionary\n",
        "    scores_dict = {\"accuracy\": accuracy,\"f1\": f1, \"precision\": precision, \"recall\": recall}\n",
        "    cm = confusion_matrix(y_test, y_pred)\n",
        "\n",
        "# Plot the confusion matrix\n",
        "    disp = ConfusionMatrixDisplay(confusion_matrix=cm)\n",
        "    disp.plot()\n",
        "    plt.show()\n",
        "      # Append to scores array\n",
        "    scores.append(scores_dict)\n",
        "  scores_df = pd.DataFrame(scores)\n",
        "\n",
        "\n",
        "  return scores_df.mean(), scores_df\n"
      ]
    },
    {
      "cell_type": "markdown",
      "metadata": {
        "id": "h-uZP5FeE-V6"
      },
      "source": [
        "###Logistic Regression"
      ]
    },
    {
      "cell_type": "code",
      "execution_count": null,
      "metadata": {
        "id": "KeCX7UYxcE4s"
      },
      "outputs": [],
      "source": [
        "logistic_regression=pipeline.Pipeline([\n",
        "               ('logistic',linear_model.LogisticRegression())])"
      ]
    },
    {
      "cell_type": "code",
      "execution_count": null,
      "metadata": {
        "colab": {
          "base_uri": "https://localhost:8080/",
          "height": 1000
        },
        "id": "BB-DvDFSqvaf",
        "outputId": "b51527f4-44bc-4738-afe8-82d97d097b85"
      },
      "outputs": [
        {
          "name": "stderr",
          "output_type": "stream",
          "text": [
            "/usr/local/lib/python3.10/dist-packages/sklearn/linear_model/_logistic.py:460: ConvergenceWarning: lbfgs failed to converge (status=1):\n",
            "STOP: TOTAL NO. of ITERATIONS REACHED LIMIT.\n",
            "\n",
            "Increase the number of iterations (max_iter) or scale the data as shown in:\n",
            "    https://scikit-learn.org/stable/modules/preprocessing.html\n",
            "Please also refer to the documentation for alternative solver options:\n",
            "    https://scikit-learn.org/stable/modules/linear_model.html#logistic-regression\n",
            "  n_iter_i = _check_optimize_result(\n"
          ]
        },
        {
          "data": {
            "image/png": "[encoded data removed]",
            "text/plain": [
              "<Figure size 640x480 with 2 Axes>"
            ]
          },
          "metadata": {},
          "output_type": "display_data"
        },
        {
          "name": "stderr",
          "output_type": "stream",
          "text": [
            "/usr/local/lib/python3.10/dist-packages/sklearn/linear_model/_logistic.py:460: ConvergenceWarning: lbfgs failed to converge (status=1):\n",
            "STOP: TOTAL NO. of ITERATIONS REACHED LIMIT.\n",
            "\n",
            "Increase the number of iterations (max_iter) or scale the data as shown in:\n",
            "    https://scikit-learn.org/stable/modules/preprocessing.html\n",
            "Please also refer to the documentation for alternative solver options:\n",
            "    https://scikit-learn.org/stable/modules/linear_model.html#logistic-regression\n",
            "  n_iter_i = _check_optimize_result(\n"
          ]
        },
        {
          "data": {
            "image/png": "[encoded data removed]",
            "text/plain": [
              "<Figure size 640x480 with 2 Axes>"
            ]
          },
          "metadata": {},
          "output_type": "display_data"
        },
        {
          "name": "stderr",
          "output_type": "stream",
          "text": [
            "/usr/local/lib/python3.10/dist-packages/sklearn/linear_model/_logistic.py:460: ConvergenceWarning: lbfgs failed to converge (status=1):\n",
            "STOP: TOTAL NO. of ITERATIONS REACHED LIMIT.\n",
            "\n",
            "Increase the number of iterations (max_iter) or scale the data as shown in:\n",
            "    https://scikit-learn.org/stable/modules/preprocessing.html\n",
            "Please also refer to the documentation for alternative solver options:\n",
            "    https://scikit-learn.org/stable/modules/linear_model.html#logistic-regression\n",
            "  n_iter_i = _check_optimize_result(\n"
          ]
        },
        {
          "data": {
            "image/png": "[encoded data removed]",
            "text/plain": [
              "<Figure size 640x480 with 2 Axes>"
            ]
          },
          "metadata": {},
          "output_type": "display_data"
        },
        {
          "name": "stderr",
          "output_type": "stream",
          "text": [
            "/usr/local/lib/python3.10/dist-packages/sklearn/linear_model/_logistic.py:460: ConvergenceWarning: lbfgs failed to converge (status=1):\n",
            "STOP: TOTAL NO. of ITERATIONS REACHED LIMIT.\n",
            "\n",
            "Increase the number of iterations (max_iter) or scale the data as shown in:\n",
            "    https://scikit-learn.org/stable/modules/preprocessing.html\n",
            "Please also refer to the documentation for alternative solver options:\n",
            "    https://scikit-learn.org/stable/modules/linear_model.html#logistic-regression\n",
            "  n_iter_i = _check_optimize_result(\n"
          ]
        },
        {
          "data": {
            "image/png": "[encoded data removed]",
            "text/plain": [
              "<Figure size 640x480 with 2 Axes>"
            ]
          },
          "metadata": {},
          "output_type": "display_data"
        },
        {
          "name": "stderr",
          "output_type": "stream",
          "text": [
            "/usr/local/lib/python3.10/dist-packages/sklearn/linear_model/_logistic.py:460: ConvergenceWarning: lbfgs failed to converge (status=1):\n",
            "STOP: TOTAL NO. of ITERATIONS REACHED LIMIT.\n",
            "\n",
            "Increase the number of iterations (max_iter) or scale the data as shown in:\n",
            "    https://scikit-learn.org/stable/modules/preprocessing.html\n",
            "Please also refer to the documentation for alternative solver options:\n",
            "    https://scikit-learn.org/stable/modules/linear_model.html#logistic-regression\n",
            "  n_iter_i = _check_optimize_result(\n"
          ]
        },
        {
          "data": {
            "image/png": "[encoded data removed]",
            "text/plain": [
              "<Figure size 640x480 with 2 Axes>"
            ]
          },
          "metadata": {},
          "output_type": "display_data"
        },
        {
          "data": {
            "text/plain": [
              "(accuracy     0.920000\n",
              " f1           0.918712\n",
              " precision    0.925421\n",
              " recall       0.920000\n",
              " dtype: float64,\n",
              "    accuracy        f1  precision  recall\n",
              " 0      0.94  0.938619   0.953846    0.94\n",
              " 1      0.98  0.979950   0.981818    0.98\n",
              " 2      0.88  0.878363   0.884091    0.88\n",
              " 3      0.86  0.856777   0.865934    0.86\n",
              " 4      0.94  0.939850   0.941414    0.94)"
            ]
          },
          "execution_count": 29,
          "metadata": {},
          "output_type": "execute_result"
        }
      ],
      "source": [
        "evaluate_model(xnorm, y, logistic_regression)"
      ]
    },
    {
      "cell_type": "markdown",
      "metadata": {
        "id": "DjBNfsJzIkKH"
      },
      "source": [
        "###KNN"
      ]
    },
    {
      "cell_type": "code",
      "execution_count": null,
      "metadata": {
        "id": "ZCBC_3KPdr6N"
      },
      "outputs": [],
      "source": [
        "from sklearn import neighbors"
      ]
    },
    {
      "cell_type": "code",
      "execution_count": null,
      "metadata": {
        "id": "NX__2bfmeu3E"
      },
      "outputs": [],
      "source": [
        "knn=pipeline.Pipeline([\n",
        "               ('model' ,neighbors.KNeighborsClassifier(n_neighbors=5))])"
      ]
    },
    {
      "cell_type": "code",
      "execution_count": null,
      "metadata": {
        "colab": {
          "base_uri": "https://localhost:8080/",
          "height": 1000
        },
        "id": "_-RyXe1Or4c0",
        "outputId": "f013be42-18cb-445f-dff4-fccb0d6a792c"
      },
      "outputs": [
        {
          "data": {
            "image/png": "[encoded data removed]",
            "text/plain": [
              "<Figure size 640x480 with 2 Axes>"
            ]
          },
          "metadata": {},
          "output_type": "display_data"
        },
        {
          "data": {
            "image/png": "[encoded data removed]",
            "text/plain": [
              "<Figure size 640x480 with 2 Axes>"
            ]
          },
          "metadata": {},
          "output_type": "display_data"
        },
        {
          "data": {
            "image/png": "[encoded data removed]",
            "text/plain": [
              "<Figure size 640x480 with 2 Axes>"
            ]
          },
          "metadata": {},
          "output_type": "display_data"
        },
        {
          "data": {
            "image/png": "[encoded data removed]",
            "text/plain": [
              "<Figure size 640x480 with 2 Axes>"
            ]
          },
          "metadata": {},
          "output_type": "display_data"
        },
        {
          "data": {
            "image/png": "[encoded data removed]",
            "text/plain": [
              "<Figure size 640x480 with 2 Axes>"
            ]
          },
          "metadata": {},
          "output_type": "display_data"
        },
        {
          "data": {
            "text/plain": [
              "(accuracy     0.860000\n",
              " f1           0.856214\n",
              " precision    0.863157\n",
              " recall       0.860000\n",
              " dtype: float64,\n",
              "    accuracy        f1  precision  recall\n",
              " 0      0.88  0.878788   0.883333    0.88\n",
              " 1      0.88  0.879446   0.888081    0.88\n",
              " 2      0.82  0.815736   0.818939    0.82\n",
              " 3      0.84  0.832814   0.851795    0.84\n",
              " 4      0.88  0.874286   0.873636    0.88)"
            ]
          },
          "execution_count": 98,
          "metadata": {},
          "output_type": "execute_result"
        }
      ],
      "source": [
        "evaluate_model(xnorm, y, knn)"
      ]
    },
    {
      "cell_type": "markdown",
      "metadata": {
        "id": "_UKxdkz2JQHG"
      },
      "source": [
        "###Decision Tree"
      ]
    },
    {
      "cell_type": "code",
      "execution_count": null,
      "metadata": {
        "id": "uLxqVqIqil_N"
      },
      "outputs": [],
      "source": [
        "decision_tree = tree.DecisionTreeClassifier(criterion='entropy')"
      ]
    },
    {
      "cell_type": "code",
      "execution_count": null,
      "metadata": {
        "colab": {
          "base_uri": "https://localhost:8080/",
          "height": 1000
        },
        "id": "jcbs2ZUVsbKn",
        "outputId": "b7a461ab-5c2b-42f1-9061-052c34417dc1"
      },
      "outputs": [
        {
          "data": {
            "image/png": "[encoded data removed]",
            "text/plain": [
              "<Figure size 640x480 with 2 Axes>"
            ]
          },
          "metadata": {},
          "output_type": "display_data"
        },
        {
          "data": {
            "image/png": "[encoded data removed]",
            "text/plain": [
              "<Figure size 640x480 with 2 Axes>"
            ]
          },
          "metadata": {},
          "output_type": "display_data"
        },
        {
          "data": {
            "image/png": "[encoded data removed]",
            "text/plain": [
              "<Figure size 640x480 with 2 Axes>"
            ]
          },
          "metadata": {},
          "output_type": "display_data"
        },
        {
          "data": {
            "image/png": "[encoded data removed]",
            "text/plain": [
              "<Figure size 640x480 with 2 Axes>"
            ]
          },
          "metadata": {},
          "output_type": "display_data"
        },
        {
          "data": {
            "image/png": "[encoded data removed]",
            "text/plain": [
              "<Figure size 640x480 with 2 Axes>"
            ]
          },
          "metadata": {},
          "output_type": "display_data"
        },
        {
          "data": {
            "text/plain": [
              "(accuracy     0.832000\n",
              " f1           0.831123\n",
              " precision    0.842651\n",
              " recall       0.832000\n",
              " dtype: float64,\n",
              "    accuracy        f1  precision  recall\n",
              " 0      0.86  0.854685   0.871941    0.86\n",
              " 1      0.82  0.826039   0.840606    0.82\n",
              " 2      0.76  0.752709   0.752929    0.76\n",
              " 3      0.86  0.861531   0.867778    0.86\n",
              " 4      0.86  0.860650   0.880000    0.86)"
            ]
          },
          "execution_count": 99,
          "metadata": {},
          "output_type": "execute_result"
        }
      ],
      "source": [
        "evaluate_model(xnorm, y, decision_tree)"
      ]
    },
    {
      "cell_type": "markdown",
      "metadata": {
        "id": "h_ooLtu4LfdO"
      },
      "source": [
        "###Random Forest"
      ]
    },
    {
      "cell_type": "code",
      "execution_count": null,
      "metadata": {
        "id": "Tz3rMTxswr91"
      },
      "outputs": [],
      "source": [
        "rf=ensemble.RandomForestClassifier(n_estimators=250,criterion='entropy')"
      ]
    },
    {
      "cell_type": "code",
      "execution_count": null,
      "metadata": {
        "colab": {
          "base_uri": "https://localhost:8080/",
          "height": 1000
        },
        "id": "3kdP0j0m7TfO",
        "outputId": "1d01ad8f-5ff4-44ca-b91c-d167a1e195f6"
      },
      "outputs": [
        {
          "output_type": "display_data",
          "data": {
            "text/plain": [
              "<Figure size 640x480 with 2 Axes>"
            ],
            "image/png": "[encoded data removed]"
          },
          "metadata": {}
        },
        {
          "output_type": "display_data",
          "data": {
            "text/plain": [
              "<Figure size 640x480 with 2 Axes>"
            ],
            "image/png": "[encoded data removed]"
          },
          "metadata": {}
        },
        {
          "output_type": "display_data",
          "data": {
            "text/plain": [
              "<Figure size 640x480 with 2 Axes>"
            ],
            "image/png": "[encoded data removed]"
          },
          "metadata": {}
        },
        {
          "output_type": "display_data",
          "data": {
            "text/plain": [
              "<Figure size 640x480 with 2 Axes>"
            ],
            "image/png": "[encoded data removed]"
          },
          "metadata": {}
        },
        {
          "output_type": "display_data",
          "data": {
            "text/plain": [
              "<Figure size 640x480 with 2 Axes>"
            ],
            "image/png": "[encoded data removed]"
          },
          "metadata": {}
        },
        {
          "output_type": "execute_result",
          "data": {
            "text/plain": [
              "(accuracy     0.936000\n",
              " f1           0.935711\n",
              " precision    0.941293\n",
              " recall       0.936000\n",
              " dtype: float64,\n",
              "    accuracy        f1  precision  recall\n",
              " 0      0.96  0.959596   0.966667    0.96\n",
              " 1      0.92  0.918847   0.921414    0.92\n",
              " 2      0.92  0.919799   0.923232    0.92\n",
              " 3      0.94  0.940766   0.946667    0.94\n",
              " 4      0.94  0.939546   0.948485    0.94)"
            ]
          },
          "metadata": {},
          "execution_count": 28
        }
      ],
      "source": [
        "evaluate_model(xnorm, y, rf)"
      ]
    },
    {
      "cell_type": "markdown",
      "metadata": {
        "id": "eat2lnNULt30"
      },
      "source": [
        "###SVM"
      ]
    },
    {
      "cell_type": "code",
      "execution_count": null,
      "metadata": {
        "id": "Ea-iukuTmQ3j"
      },
      "outputs": [],
      "source": [
        "svc =pipeline.Pipeline([\n",
        "               ('model' ,svm.SVC( kernel= 'linear'))])\n"
      ]
    },
    {
      "cell_type": "code",
      "execution_count": null,
      "metadata": {
        "colab": {
          "base_uri": "https://localhost:8080/",
          "height": 1000
        },
        "id": "EFeMjx8IveV2",
        "outputId": "924f0afd-cd40-40bc-a61b-098d30afa977"
      },
      "outputs": [
        {
          "output_type": "display_data",
          "data": {
            "text/plain": [
              "<Figure size 640x480 with 2 Axes>"
            ],
            "image/png": "[encoded data removed]"
          },
          "metadata": {}
        },
        {
          "output_type": "display_data",
          "data": {
            "text/plain": [
              "<Figure size 640x480 with 2 Axes>"
            ],
            "image/png": "[encoded data removed]"
          },
          "metadata": {}
        },
        {
          "output_type": "display_data",
          "data": {
            "text/plain": [
              "<Figure size 640x480 with 2 Axes>"
            ],
            "image/png": "[encoded data removed]"
          },
          "metadata": {}
        },
        {
          "output_type": "display_data",
          "data": {
            "text/plain": [
              "<Figure size 640x480 with 2 Axes>"
            ],
            "image/png": "[encoded data removed]"
          },
          "metadata": {}
        },
        {
          "output_type": "display_data",
          "data": {
            "text/plain": [
              "<Figure size 640x480 with 2 Axes>"
            ],
            "image/png": "[encoded data removed]"
          },
          "metadata": {}
        },
        {
          "output_type": "execute_result",
          "data": {
            "text/plain": [
              "(accuracy     0.916000\n",
              " f1           0.914360\n",
              " precision    0.921384\n",
              " recall       0.916000\n",
              " dtype: float64,\n",
              "    accuracy        f1  precision  recall\n",
              " 0      0.94  0.938619   0.953846    0.94\n",
              " 1      0.94  0.939900   0.943636    0.94\n",
              " 2      0.90  0.899950   0.901818    0.90\n",
              " 3      0.84  0.833333   0.847619    0.84\n",
              " 4      0.96  0.960000   0.960000    0.96)"
            ]
          },
          "metadata": {},
          "execution_count": 30
        }
      ],
      "source": [
        "evaluate_model(xnorm, y, svc)"
      ]
    },
    {
      "cell_type": "markdown",
      "metadata": {
        "id": "wDdDDsq5tBqE"
      },
      "source": [
        "## Hyperparameter tuning of the best model (Random Forest)"
      ]
    },
    {
      "cell_type": "markdown",
      "source": [
        "Range of parameter"
      ],
      "metadata": {
        "id": "PuZ4Tz1a-jDo"
      }
    },
    {
      "cell_type": "code",
      "source": [
        "from sklearn.model_selection import RandomizedSearchCV\n",
        "\n",
        "n_estimators = [int(x) for x in np.linspace(start = 200, stop = 2000, num = 10)]\n",
        "\n",
        "max_features = ['auto', 'sqrt']\n",
        "\n",
        "max_depth = [int(x) for x in np.linspace(10, 110, num = 11)]\n",
        "max_depth.append(None)\n",
        "\n",
        "min_samples_split = [2, 5, 10]\n",
        "\n",
        "min_samples_leaf = [1, 2, 4]\n",
        "\n",
        "bootstrap = [True, False]\n",
        "\n",
        "random_grid = {'n_estimators': n_estimators,\n",
        "               'max_features': max_features,\n",
        "               'max_depth': max_depth,\n",
        "               'min_samples_split': min_samples_split,\n",
        "               'min_samples_leaf': min_samples_leaf,\n",
        "               'bootstrap': bootstrap}"
      ],
      "metadata": {
        "id": "-YHV8KrXc8C9"
      },
      "execution_count": null,
      "outputs": []
    },
    {
      "cell_type": "code",
      "execution_count": null,
      "metadata": {
        "id": "4SmlVhDfeAna"
      },
      "outputs": [],
      "source": [
        "\n",
        "rf_model = RandomForestClassifier()"
      ]
    },
    {
      "cell_type": "code",
      "source": [
        "kfold = model_selection.StratifiedShuffleSplit(2, random_state=42)"
      ],
      "metadata": {
        "id": "S7qxGCoIdTWR"
      },
      "execution_count": null,
      "outputs": []
    },
    {
      "cell_type": "code",
      "source": [
        "rf_random = RandomizedSearchCV(estimator = rf_model, param_distributions = random_grid, n_iter = 100, cv = kfold, verbose=2, random_state=42, n_jobs = -1)\n",
        "\n",
        "rf_random.fit(xnorm, y)"
      ],
      "metadata": {
        "colab": {
          "base_uri": "https://localhost:8080/",
          "height": 945
        },
        "id": "moBbbnpFdG80",
        "outputId": "be84199d-6441-4e2c-c012-306b19924497",
        "collapsed": true
      },
      "execution_count": null,
      "outputs": [
        {
          "output_type": "stream",
          "name": "stdout",
          "text": [
            "Fitting 5 folds for each of 100 candidates, totalling 500 fits\n"
          ]
        },
        {
          "output_type": "stream",
          "name": "stderr",
          "text": [
            "/usr/local/lib/python3.10/dist-packages/sklearn/model_selection/_validation.py:425: FitFailedWarning: \n",
            "205 fits failed out of a total of 500.\n",
            "The score on these train-test partitions for these parameters will be set to nan.\n",
            "If these failures are not expected, you can try to debug them by setting error_score='raise'.\n",
            "\n",
            "Below are more details about the failures:\n",
            "--------------------------------------------------------------------------------\n",
            "205 fits failed with the following error:\n",
            "Traceback (most recent call last):\n",
            "  File \"/usr/local/lib/python3.10/dist-packages/sklearn/model_selection/_validation.py\", line 729, in _fit_and_score\n",
            "    estimator.fit(X_train, y_train, **fit_params)\n",
            "  File \"/usr/local/lib/python3.10/dist-packages/sklearn/base.py\", line 1145, in wrapper\n",
            "    estimator._validate_params()\n",
            "  File \"/usr/local/lib/python3.10/dist-packages/sklearn/base.py\", line 638, in _validate_params\n",
            "    validate_parameter_constraints(\n",
            "  File \"/usr/local/lib/python3.10/dist-packages/sklearn/utils/_param_validation.py\", line 96, in validate_parameter_constraints\n",
            "    raise InvalidParameterError(\n",
            "sklearn.utils._param_validation.InvalidParameterError: The 'max_features' parameter of RandomForestClassifier must be an int in the range [1, inf), a float in the range (0.0, 1.0], a str among {'sqrt', 'log2'} or None. Got 'auto' instead.\n",
            "\n",
            "  warnings.warn(some_fits_failed_message, FitFailedWarning)\n",
            "/usr/local/lib/python3.10/dist-packages/sklearn/model_selection/_search.py:979: UserWarning: One or more of the test scores are non-finite: [0.936 0.94  0.936   nan 0.92  0.936 0.948 0.948   nan   nan   nan 0.944\n",
            " 0.944 0.94  0.932   nan   nan 0.932   nan   nan 0.944 0.948 0.92    nan\n",
            " 0.94  0.94    nan 0.928   nan 0.932 0.94  0.936 0.944 0.908 0.932 0.94\n",
            " 0.936   nan   nan 0.94    nan 0.92  0.916 0.924   nan 0.94    nan 0.928\n",
            " 0.936 0.944   nan   nan   nan   nan 0.94  0.932   nan   nan   nan 0.936\n",
            " 0.94  0.912   nan   nan 0.94    nan   nan   nan 0.948   nan 0.932 0.94\n",
            " 0.936   nan   nan 0.948 0.932 0.936 0.928   nan   nan   nan   nan   nan\n",
            " 0.932 0.94  0.936 0.928 0.916 0.936 0.932 0.932 0.94    nan 0.936   nan\n",
            "   nan   nan 0.932   nan]\n",
            "  warnings.warn(\n"
          ]
        },
        {
          "output_type": "execute_result",
          "data": {
            "text/plain": [
              "RandomizedSearchCV(cv=StratifiedShuffleSplit(n_splits=5, random_state=42, test_size=None,\n",
              "            train_size=None),\n",
              "                   estimator=RandomForestClassifier(), n_iter=100, n_jobs=-1,\n",
              "                   param_distributions={'bootstrap': [True, False],\n",
              "                                        'max_depth': [10, 20, 30, 40, 50, 60,\n",
              "                                                      70, 80, 90, 100, 110,\n",
              "                                                      None],\n",
              "                                        'max_features': ['auto', 'sqrt'],\n",
              "                                        'min_samples_leaf': [1, 2, 4],\n",
              "                                        'min_samples_split': [2, 5, 10],\n",
              "                                        'n_estimators': [200, 400, 600, 800,\n",
              "                                                         1000, 1200, 1400, 1600,\n",
              "                                                         1800, 2000]},\n",
              "                   random_state=42, verbose=2)"
            ],
            "text/html": [
              "<style>#sk-container-id-1 {color: black;}#sk-container-id-1 pre{padding: 0;}#sk-container-id-1 div.sk-toggleable {background-color: white;}#sk-container-id-1 label.sk-toggleable__label {cursor: pointer;display: block;width: 100%;margin-bottom: 0;padding: 0.3em;box-sizing: border-box;text-align: center;}#sk-container-id-1 label.sk-toggleable__label-arrow:before {content: \"▸\";float: left;margin-right: 0.25em;color: #696969;}#sk-container-id-1 label.sk-toggleable__label-arrow:hover:before {color: black;}#sk-container-id-1 div.sk-estimator:hover label.sk-toggleable__label-arrow:before {color: black;}#sk-container-id-1 div.sk-toggleable__content {max-height: 0;max-width: 0;overflow: hidden;text-align: left;background-color: #f0f8ff;}#sk-container-id-1 div.sk-toggleable__content pre {margin: 0.2em;color: black;border-radius: 0.25em;background-color: #f0f8ff;}#sk-container-id-1 input.sk-toggleable__control:checked~div.sk-toggleable__content {max-height: 200px;max-width: 100%;overflow: auto;}#sk-container-id-1 input.sk-toggleable__control:checked~label.sk-toggleable__label-arrow:before {content: \"▾\";}#sk-container-id-1 div.sk-estimator input.sk-toggleable__control:checked~label.sk-toggleable__label {background-color: #d4ebff;}#sk-container-id-1 div.sk-label input.sk-toggleable__control:checked~label.sk-toggleable__label {background-color: #d4ebff;}#sk-container-id-1 input.sk-hidden--visually {border: 0;clip: rect(1px 1px 1px 1px);clip: rect(1px, 1px, 1px, 1px);height: 1px;margin: -1px;overflow: hidden;padding: 0;position: absolute;width: 1px;}#sk-container-id-1 div.sk-estimator {font-family: monospace;background-color: #f0f8ff;border: 1px dotted black;border-radius: 0.25em;box-sizing: border-box;margin-bottom: 0.5em;}#sk-container-id-1 div.sk-estimator:hover {background-color: #d4ebff;}#sk-container-id-1 div.sk-parallel-item::after {content: \"\";width: 100%;border-bottom: 1px solid gray;flex-grow: 1;}#sk-container-id-1 div.sk-label:hover label.sk-toggleable__label {background-color: #d4ebff;}#sk-container-id-1 div.sk-serial::before {content: \"\";position: absolute;border-left: 1px solid gray;box-sizing: border-box;top: 0;bottom: 0;left: 50%;z-index: 0;}#sk-container-id-1 div.sk-serial {display: flex;flex-direction: column;align-items: center;background-color: white;padding-right: 0.2em;padding-left: 0.2em;position: relative;}#sk-container-id-1 div.sk-item {position: relative;z-index: 1;}#sk-container-id-1 div.sk-parallel {display: flex;align-items: stretch;justify-content: center;background-color: white;position: relative;}#sk-container-id-1 div.sk-item::before, #sk-container-id-1 div.sk-parallel-item::before {content: \"\";position: absolute;border-left: 1px solid gray;box-sizing: border-box;top: 0;bottom: 0;left: 50%;z-index: -1;}#sk-container-id-1 div.sk-parallel-item {display: flex;flex-direction: column;z-index: 1;position: relative;background-color: white;}#sk-container-id-1 div.sk-parallel-item:first-child::after {align-self: flex-end;width: 50%;}#sk-container-id-1 div.sk-parallel-item:last-child::after {align-self: flex-start;width: 50%;}#sk-container-id-1 div.sk-parallel-item:only-child::after {width: 0;}#sk-container-id-1 div.sk-dashed-wrapped {border: 1px dashed gray;margin: 0 0.4em 0.5em 0.4em;box-sizing: border-box;padding-bottom: 0.4em;background-color: white;}#sk-container-id-1 div.sk-label label {font-family: monospace;font-weight: bold;display: inline-block;line-height: 1.2em;}#sk-container-id-1 div.sk-label-container {text-align: center;}#sk-container-id-1 div.sk-container {/* jupyter's `normalize.less` sets `[hidden] { display: none; }` but bootstrap.min.css set `[hidden] { display: none !important; }` so we also need the `!important` here to be able to override the default hidden behavior on the sphinx rendered scikit-learn.org. See: https://github.com/scikit-learn/scikit-learn/issues/21755 */display: inline-block !important;position: relative;}#sk-container-id-1 div.sk-text-repr-fallback {display: none;}</style><div id=\"sk-container-id-1\" class=\"sk-top-container\"><div class=\"sk-text-repr-fallback\"><pre>RandomizedSearchCV(cv=StratifiedShuffleSplit(n_splits=5, random_state=42, test_size=None,\n",
              "            train_size=None),\n",
              "                   estimator=RandomForestClassifier(), n_iter=100, n_jobs=-1,\n",
              "                   param_distributions={&#x27;bootstrap&#x27;: [True, False],\n",
              "                                        &#x27;max_depth&#x27;: [10, 20, 30, 40, 50, 60,\n",
              "                                                      70, 80, 90, 100, 110,\n",
              "                                                      None],\n",
              "                                        &#x27;max_features&#x27;: [&#x27;auto&#x27;, &#x27;sqrt&#x27;],\n",
              "                                        &#x27;min_samples_leaf&#x27;: [1, 2, 4],\n",
              "                                        &#x27;min_samples_split&#x27;: [2, 5, 10],\n",
              "                                        &#x27;n_estimators&#x27;: [200, 400, 600, 800,\n",
              "                                                         1000, 1200, 1400, 1600,\n",
              "                                                         1800, 2000]},\n",
              "                   random_state=42, verbose=2)</pre><b>In a Jupyter environment, please rerun this cell to show the HTML representation or trust the notebook. <br />On GitHub, the HTML representation is unable to render, please try loading this page with nbviewer.org.</b></div><div class=\"sk-container\" hidden><div class=\"sk-item sk-dashed-wrapped\"><div class=\"sk-label-container\"><div class=\"sk-label sk-toggleable\"><input class=\"sk-toggleable__control sk-hidden--visually\" id=\"sk-estimator-id-1\" type=\"checkbox\" ><label for=\"sk-estimator-id-1\" class=\"sk-toggleable__label sk-toggleable__label-arrow\">RandomizedSearchCV</label><div class=\"sk-toggleable__content\"><pre>RandomizedSearchCV(cv=StratifiedShuffleSplit(n_splits=5, random_state=42, test_size=None,\n",
              "            train_size=None),\n",
              "                   estimator=RandomForestClassifier(), n_iter=100, n_jobs=-1,\n",
              "                   param_distributions={&#x27;bootstrap&#x27;: [True, False],\n",
              "                                        &#x27;max_depth&#x27;: [10, 20, 30, 40, 50, 60,\n",
              "                                                      70, 80, 90, 100, 110,\n",
              "                                                      None],\n",
              "                                        &#x27;max_features&#x27;: [&#x27;auto&#x27;, &#x27;sqrt&#x27;],\n",
              "                                        &#x27;min_samples_leaf&#x27;: [1, 2, 4],\n",
              "                                        &#x27;min_samples_split&#x27;: [2, 5, 10],\n",
              "                                        &#x27;n_estimators&#x27;: [200, 400, 600, 800,\n",
              "                                                         1000, 1200, 1400, 1600,\n",
              "                                                         1800, 2000]},\n",
              "                   random_state=42, verbose=2)</pre></div></div></div><div class=\"sk-parallel\"><div class=\"sk-parallel-item\"><div class=\"sk-item\"><div class=\"sk-label-container\"><div class=\"sk-label sk-toggleable\"><input class=\"sk-toggleable__control sk-hidden--visually\" id=\"sk-estimator-id-2\" type=\"checkbox\" ><label for=\"sk-estimator-id-2\" class=\"sk-toggleable__label sk-toggleable__label-arrow\">estimator: RandomForestClassifier</label><div class=\"sk-toggleable__content\"><pre>RandomForestClassifier()</pre></div></div></div><div class=\"sk-serial\"><div class=\"sk-item\"><div class=\"sk-estimator sk-toggleable\"><input class=\"sk-toggleable__control sk-hidden--visually\" id=\"sk-estimator-id-3\" type=\"checkbox\" ><label for=\"sk-estimator-id-3\" class=\"sk-toggleable__label sk-toggleable__label-arrow\">RandomForestClassifier</label><div class=\"sk-toggleable__content\"><pre>RandomForestClassifier()</pre></div></div></div></div></div></div></div></div></div></div>"
            ]
          },
          "metadata": {},
          "execution_count": 35
        }
      ]
    },
    {
      "cell_type": "code",
      "source": [
        "rf_random.best_params_"
      ],
      "metadata": {
        "colab": {
          "base_uri": "https://localhost:8080/"
        },
        "id": "Mde05oxYdmLH",
        "outputId": "a5c221e5-6ed7-48f3-bcc8-66eccfdc02f8"
      },
      "execution_count": null,
      "outputs": [
        {
          "output_type": "execute_result",
          "data": {
            "text/plain": [
              "{'n_estimators': 1000,\n",
              " 'min_samples_split': 5,\n",
              " 'min_samples_leaf': 2,\n",
              " 'max_features': 'sqrt',\n",
              " 'max_depth': 100,\n",
              " 'bootstrap': False}"
            ]
          },
          "metadata": {},
          "execution_count": 41
        }
      ]
    },
    {
      "cell_type": "markdown",
      "source": [
        "Selecting Optimal model paramters using Grid Search CV"
      ],
      "metadata": {
        "id": "x77HQW-D-r6q"
      }
    },
    {
      "cell_type": "code",
      "execution_count": null,
      "metadata": {
        "id": "toUjLehWdxJQ"
      },
      "outputs": [],
      "source": [
        "\n",
        "params = {\n",
        "    'bootstrap': [False],\n",
        "    'max_depth': [90, 100, 110],\n",
        "    'criterion': ['gini', 'entropy'],\n",
        "    'max_features': ['sqrt'],\n",
        "    'min_samples_leaf': [2, 4],\n",
        "    'min_samples_split': [5, 10, 12],\n",
        "    'n_estimators': [300, 1000, 1500]\n",
        "}"
      ]
    },
    {
      "cell_type": "code",
      "execution_count": null,
      "metadata": {
        "id": "hGirH7nbd-Dz"
      },
      "outputs": [],
      "source": [
        "scoring = {\n",
        "    \"accuracy\": metrics.make_scorer(metrics.accuracy_score),\n",
        "\n",
        "}"
      ]
    },
    {
      "cell_type": "code",
      "execution_count": null,
      "metadata": {
        "id": "A8CqiPIaeZfd"
      },
      "outputs": [],
      "source": [
        "gs = model_selection.GridSearchCV(\n",
        "    rf_model, params, cv=kfold, scoring=scoring, refit=\"accuracy\", verbose=2\n",
        ")"
      ]
    },
    {
      "cell_type": "code",
      "execution_count": null,
      "metadata": {
        "id": "jGHgvgiceu4m",
        "colab": {
          "base_uri": "https://localhost:8080/",
          "height": 1000
        },
        "collapsed": true,
        "outputId": "07b4c773-4820-4c1c-8208-4f9dc583c9e6"
      },
      "outputs": [
        {
          "output_type": "stream",
          "name": "stdout",
          "text": [
            "Fitting 2 folds for each of 108 candidates, totalling 216 fits\n",
            "[CV] END bootstrap=False, criterion=gini, max_depth=90, max_features=sqrt, min_samples_leaf=2, min_samples_split=5, n_estimators=300; total time=   2.4s\n",
            "[CV] END bootstrap=False, criterion=gini, max_depth=90, max_features=sqrt, min_samples_leaf=2, min_samples_split=5, n_estimators=300; total time=   2.6s\n",
            "[CV] END bootstrap=False, criterion=gini, max_depth=90, max_features=sqrt, min_samples_leaf=2, min_samples_split=5, n_estimators=1000; total time=   8.5s\n",
            "[CV] END bootstrap=False, criterion=gini, max_depth=90, max_features=sqrt, min_samples_leaf=2, min_samples_split=5, n_estimators=1000; total time=   8.6s\n",
            "[CV] END bootstrap=False, criterion=gini, max_depth=90, max_features=sqrt, min_samples_leaf=2, min_samples_split=5, n_estimators=1500; total time=  12.4s\n",
            "[CV] END bootstrap=False, criterion=gini, max_depth=90, max_features=sqrt, min_samples_leaf=2, min_samples_split=5, n_estimators=1500; total time=  12.5s\n",
            "[CV] END bootstrap=False, criterion=gini, max_depth=90, max_features=sqrt, min_samples_leaf=2, min_samples_split=10, n_estimators=300; total time=   2.4s\n",
            "[CV] END bootstrap=False, criterion=gini, max_depth=90, max_features=sqrt, min_samples_leaf=2, min_samples_split=10, n_estimators=300; total time=   2.3s\n",
            "[CV] END bootstrap=False, criterion=gini, max_depth=90, max_features=sqrt, min_samples_leaf=2, min_samples_split=10, n_estimators=1000; total time=   8.5s\n",
            "[CV] END bootstrap=False, criterion=gini, max_depth=90, max_features=sqrt, min_samples_leaf=2, min_samples_split=10, n_estimators=1000; total time=   7.7s\n",
            "[CV] END bootstrap=False, criterion=gini, max_depth=90, max_features=sqrt, min_samples_leaf=2, min_samples_split=10, n_estimators=1500; total time=  12.4s\n",
            "[CV] END bootstrap=False, criterion=gini, max_depth=90, max_features=sqrt, min_samples_leaf=2, min_samples_split=10, n_estimators=1500; total time=  12.3s\n",
            "[CV] END bootstrap=False, criterion=gini, max_depth=90, max_features=sqrt, min_samples_leaf=2, min_samples_split=12, n_estimators=300; total time=   2.3s\n",
            "[CV] END bootstrap=False, criterion=gini, max_depth=90, max_features=sqrt, min_samples_leaf=2, min_samples_split=12, n_estimators=300; total time=   4.3s\n",
            "[CV] END bootstrap=False, criterion=gini, max_depth=90, max_features=sqrt, min_samples_leaf=2, min_samples_split=12, n_estimators=1000; total time=   7.7s\n",
            "[CV] END bootstrap=False, criterion=gini, max_depth=90, max_features=sqrt, min_samples_leaf=2, min_samples_split=12, n_estimators=1000; total time=   8.5s\n",
            "[CV] END bootstrap=False, criterion=gini, max_depth=90, max_features=sqrt, min_samples_leaf=2, min_samples_split=12, n_estimators=1500; total time=  12.3s\n",
            "[CV] END bootstrap=False, criterion=gini, max_depth=90, max_features=sqrt, min_samples_leaf=2, min_samples_split=12, n_estimators=1500; total time=  12.1s\n",
            "[CV] END bootstrap=False, criterion=gini, max_depth=90, max_features=sqrt, min_samples_leaf=4, min_samples_split=5, n_estimators=300; total time=   2.2s\n",
            "[CV] END bootstrap=False, criterion=gini, max_depth=90, max_features=sqrt, min_samples_leaf=4, min_samples_split=5, n_estimators=300; total time=   2.2s\n",
            "[CV] END bootstrap=False, criterion=gini, max_depth=90, max_features=sqrt, min_samples_leaf=4, min_samples_split=5, n_estimators=1000; total time=   8.1s\n",
            "[CV] END bootstrap=False, criterion=gini, max_depth=90, max_features=sqrt, min_samples_leaf=4, min_samples_split=5, n_estimators=1000; total time=   7.3s\n",
            "[CV] END bootstrap=False, criterion=gini, max_depth=90, max_features=sqrt, min_samples_leaf=4, min_samples_split=5, n_estimators=1500; total time=  11.8s\n",
            "[CV] END bootstrap=False, criterion=gini, max_depth=90, max_features=sqrt, min_samples_leaf=4, min_samples_split=5, n_estimators=1500; total time=  11.7s\n",
            "[CV] END bootstrap=False, criterion=gini, max_depth=90, max_features=sqrt, min_samples_leaf=4, min_samples_split=10, n_estimators=300; total time=   2.2s\n",
            "[CV] END bootstrap=False, criterion=gini, max_depth=90, max_features=sqrt, min_samples_leaf=4, min_samples_split=10, n_estimators=300; total time=   2.2s\n",
            "[CV] END bootstrap=False, criterion=gini, max_depth=90, max_features=sqrt, min_samples_leaf=4, min_samples_split=10, n_estimators=1000; total time=   8.2s\n",
            "[CV] END bootstrap=False, criterion=gini, max_depth=90, max_features=sqrt, min_samples_leaf=4, min_samples_split=10, n_estimators=1000; total time=   8.1s\n",
            "[CV] END bootstrap=False, criterion=gini, max_depth=90, max_features=sqrt, min_samples_leaf=4, min_samples_split=10, n_estimators=1500; total time=  11.4s\n",
            "[CV] END bootstrap=False, criterion=gini, max_depth=90, max_features=sqrt, min_samples_leaf=4, min_samples_split=10, n_estimators=1500; total time=  11.5s\n",
            "[CV] END bootstrap=False, criterion=gini, max_depth=90, max_features=sqrt, min_samples_leaf=4, min_samples_split=12, n_estimators=300; total time=   3.0s\n",
            "[CV] END bootstrap=False, criterion=gini, max_depth=90, max_features=sqrt, min_samples_leaf=4, min_samples_split=12, n_estimators=300; total time=   2.2s\n",
            "[CV] END bootstrap=False, criterion=gini, max_depth=90, max_features=sqrt, min_samples_leaf=4, min_samples_split=12, n_estimators=1000; total time=   7.3s\n",
            "[CV] END bootstrap=False, criterion=gini, max_depth=90, max_features=sqrt, min_samples_leaf=4, min_samples_split=12, n_estimators=1000; total time=   8.1s\n",
            "[CV] END bootstrap=False, criterion=gini, max_depth=90, max_features=sqrt, min_samples_leaf=4, min_samples_split=12, n_estimators=1500; total time=  11.8s\n",
            "[CV] END bootstrap=False, criterion=gini, max_depth=90, max_features=sqrt, min_samples_leaf=4, min_samples_split=12, n_estimators=1500; total time=  11.7s\n",
            "[CV] END bootstrap=False, criterion=gini, max_depth=100, max_features=sqrt, min_samples_leaf=2, min_samples_split=5, n_estimators=300; total time=   2.4s\n",
            "[CV] END bootstrap=False, criterion=gini, max_depth=100, max_features=sqrt, min_samples_leaf=2, min_samples_split=5, n_estimators=300; total time=   2.3s\n",
            "[CV] END bootstrap=False, criterion=gini, max_depth=100, max_features=sqrt, min_samples_leaf=2, min_samples_split=5, n_estimators=1000; total time=   8.6s\n",
            "[CV] END bootstrap=False, criterion=gini, max_depth=100, max_features=sqrt, min_samples_leaf=2, min_samples_split=5, n_estimators=1000; total time=   7.9s\n",
            "[CV] END bootstrap=False, criterion=gini, max_depth=100, max_features=sqrt, min_samples_leaf=2, min_samples_split=5, n_estimators=1500; total time=  12.8s\n",
            "[CV] END bootstrap=False, criterion=gini, max_depth=100, max_features=sqrt, min_samples_leaf=2, min_samples_split=5, n_estimators=1500; total time=  12.5s\n",
            "[CV] END bootstrap=False, criterion=gini, max_depth=100, max_features=sqrt, min_samples_leaf=2, min_samples_split=10, n_estimators=300; total time=   2.9s\n",
            "[CV] END bootstrap=False, criterion=gini, max_depth=100, max_features=sqrt, min_samples_leaf=2, min_samples_split=10, n_estimators=300; total time=   2.6s\n",
            "[CV] END bootstrap=False, criterion=gini, max_depth=100, max_features=sqrt, min_samples_leaf=2, min_samples_split=10, n_estimators=1000; total time=   7.8s\n",
            "[CV] END bootstrap=False, criterion=gini, max_depth=100, max_features=sqrt, min_samples_leaf=2, min_samples_split=10, n_estimators=1000; total time=   8.5s\n",
            "[CV] END bootstrap=False, criterion=gini, max_depth=100, max_features=sqrt, min_samples_leaf=2, min_samples_split=10, n_estimators=1500; total time=  12.5s\n",
            "[CV] END bootstrap=False, criterion=gini, max_depth=100, max_features=sqrt, min_samples_leaf=2, min_samples_split=10, n_estimators=1500; total time=  12.3s\n",
            "[CV] END bootstrap=False, criterion=gini, max_depth=100, max_features=sqrt, min_samples_leaf=2, min_samples_split=12, n_estimators=300; total time=   2.3s\n",
            "[CV] END bootstrap=False, criterion=gini, max_depth=100, max_features=sqrt, min_samples_leaf=2, min_samples_split=12, n_estimators=300; total time=   2.3s\n",
            "[CV] END bootstrap=False, criterion=gini, max_depth=100, max_features=sqrt, min_samples_leaf=2, min_samples_split=12, n_estimators=1000; total time=   8.5s\n",
            "[CV] END bootstrap=False, criterion=gini, max_depth=100, max_features=sqrt, min_samples_leaf=2, min_samples_split=12, n_estimators=1000; total time=   8.3s\n",
            "[CV] END bootstrap=False, criterion=gini, max_depth=100, max_features=sqrt, min_samples_leaf=2, min_samples_split=12, n_estimators=1500; total time=  12.4s\n",
            "[CV] END bootstrap=False, criterion=gini, max_depth=100, max_features=sqrt, min_samples_leaf=2, min_samples_split=12, n_estimators=1500; total time=  12.3s\n",
            "[CV] END bootstrap=False, criterion=gini, max_depth=100, max_features=sqrt, min_samples_leaf=4, min_samples_split=5, n_estimators=300; total time=   2.9s\n",
            "[CV] END bootstrap=False, criterion=gini, max_depth=100, max_features=sqrt, min_samples_leaf=4, min_samples_split=5, n_estimators=300; total time=   2.2s\n",
            "[CV] END bootstrap=False, criterion=gini, max_depth=100, max_features=sqrt, min_samples_leaf=4, min_samples_split=5, n_estimators=1000; total time=   7.4s\n",
            "[CV] END bootstrap=False, criterion=gini, max_depth=100, max_features=sqrt, min_samples_leaf=4, min_samples_split=5, n_estimators=1000; total time=   8.1s\n",
            "[CV] END bootstrap=False, criterion=gini, max_depth=100, max_features=sqrt, min_samples_leaf=4, min_samples_split=5, n_estimators=1500; total time=  11.7s\n",
            "[CV] END bootstrap=False, criterion=gini, max_depth=100, max_features=sqrt, min_samples_leaf=4, min_samples_split=5, n_estimators=1500; total time=  11.6s\n",
            "[CV] END bootstrap=False, criterion=gini, max_depth=100, max_features=sqrt, min_samples_leaf=4, min_samples_split=10, n_estimators=300; total time=   2.2s\n",
            "[CV] END bootstrap=False, criterion=gini, max_depth=100, max_features=sqrt, min_samples_leaf=4, min_samples_split=10, n_estimators=300; total time=   2.2s\n",
            "[CV] END bootstrap=False, criterion=gini, max_depth=100, max_features=sqrt, min_samples_leaf=4, min_samples_split=10, n_estimators=1000; total time=   8.2s\n",
            "[CV] END bootstrap=False, criterion=gini, max_depth=100, max_features=sqrt, min_samples_leaf=4, min_samples_split=10, n_estimators=1000; total time=   7.3s\n",
            "[CV] END bootstrap=False, criterion=gini, max_depth=100, max_features=sqrt, min_samples_leaf=4, min_samples_split=10, n_estimators=1500; total time=  11.9s\n",
            "[CV] END bootstrap=False, criterion=gini, max_depth=100, max_features=sqrt, min_samples_leaf=4, min_samples_split=10, n_estimators=1500; total time=  11.7s\n",
            "[CV] END bootstrap=False, criterion=gini, max_depth=100, max_features=sqrt, min_samples_leaf=4, min_samples_split=12, n_estimators=300; total time=   2.2s\n",
            "[CV] END bootstrap=False, criterion=gini, max_depth=100, max_features=sqrt, min_samples_leaf=4, min_samples_split=12, n_estimators=300; total time=   2.7s\n",
            "[CV] END bootstrap=False, criterion=gini, max_depth=100, max_features=sqrt, min_samples_leaf=4, min_samples_split=12, n_estimators=1000; total time=   7.8s\n",
            "[CV] END bootstrap=False, criterion=gini, max_depth=100, max_features=sqrt, min_samples_leaf=4, min_samples_split=12, n_estimators=1000; total time=   8.1s\n",
            "[CV] END bootstrap=False, criterion=gini, max_depth=100, max_features=sqrt, min_samples_leaf=4, min_samples_split=12, n_estimators=1500; total time=  11.8s\n",
            "[CV] END bootstrap=False, criterion=gini, max_depth=100, max_features=sqrt, min_samples_leaf=4, min_samples_split=12, n_estimators=1500; total time=  11.1s\n",
            "[CV] END bootstrap=False, criterion=gini, max_depth=110, max_features=sqrt, min_samples_leaf=2, min_samples_split=5, n_estimators=300; total time=   2.9s\n",
            "[CV] END bootstrap=False, criterion=gini, max_depth=110, max_features=sqrt, min_samples_leaf=2, min_samples_split=5, n_estimators=300; total time=   2.3s\n",
            "[CV] END bootstrap=False, criterion=gini, max_depth=110, max_features=sqrt, min_samples_leaf=2, min_samples_split=5, n_estimators=1000; total time=   8.3s\n",
            "[CV] END bootstrap=False, criterion=gini, max_depth=110, max_features=sqrt, min_samples_leaf=2, min_samples_split=5, n_estimators=1000; total time=   8.2s\n",
            "[CV] END bootstrap=False, criterion=gini, max_depth=110, max_features=sqrt, min_samples_leaf=2, min_samples_split=5, n_estimators=1500; total time=  12.6s\n",
            "[CV] END bootstrap=False, criterion=gini, max_depth=110, max_features=sqrt, min_samples_leaf=2, min_samples_split=5, n_estimators=1500; total time=  12.4s\n",
            "[CV] END bootstrap=False, criterion=gini, max_depth=110, max_features=sqrt, min_samples_leaf=2, min_samples_split=10, n_estimators=300; total time=   2.4s\n",
            "[CV] END bootstrap=False, criterion=gini, max_depth=110, max_features=sqrt, min_samples_leaf=2, min_samples_split=10, n_estimators=300; total time=   2.6s\n",
            "[CV] END bootstrap=False, criterion=gini, max_depth=110, max_features=sqrt, min_samples_leaf=2, min_samples_split=10, n_estimators=1000; total time=   8.4s\n",
            "[CV] END bootstrap=False, criterion=gini, max_depth=110, max_features=sqrt, min_samples_leaf=2, min_samples_split=10, n_estimators=1000; total time=   8.5s\n",
            "[CV] END bootstrap=False, criterion=gini, max_depth=110, max_features=sqrt, min_samples_leaf=2, min_samples_split=10, n_estimators=1500; total time=  12.4s\n",
            "[CV] END bootstrap=False, criterion=gini, max_depth=110, max_features=sqrt, min_samples_leaf=2, min_samples_split=10, n_estimators=1500; total time=  12.1s\n",
            "[CV] END bootstrap=False, criterion=gini, max_depth=110, max_features=sqrt, min_samples_leaf=2, min_samples_split=12, n_estimators=300; total time=   2.3s\n",
            "[CV] END bootstrap=False, criterion=gini, max_depth=110, max_features=sqrt, min_samples_leaf=2, min_samples_split=12, n_estimators=300; total time=   2.3s\n",
            "[CV] END bootstrap=False, criterion=gini, max_depth=110, max_features=sqrt, min_samples_leaf=2, min_samples_split=12, n_estimators=1000; total time=   8.4s\n",
            "[CV] END bootstrap=False, criterion=gini, max_depth=110, max_features=sqrt, min_samples_leaf=2, min_samples_split=12, n_estimators=1000; total time=   7.7s\n",
            "[CV] END bootstrap=False, criterion=gini, max_depth=110, max_features=sqrt, min_samples_leaf=2, min_samples_split=12, n_estimators=1500; total time=  12.3s\n",
            "[CV] END bootstrap=False, criterion=gini, max_depth=110, max_features=sqrt, min_samples_leaf=2, min_samples_split=12, n_estimators=1500; total time=  12.3s\n",
            "[CV] END bootstrap=False, criterion=gini, max_depth=110, max_features=sqrt, min_samples_leaf=4, min_samples_split=5, n_estimators=300; total time=   2.2s\n",
            "[CV] END bootstrap=False, criterion=gini, max_depth=110, max_features=sqrt, min_samples_leaf=4, min_samples_split=5, n_estimators=300; total time=   2.7s\n",
            "[CV] END bootstrap=False, criterion=gini, max_depth=110, max_features=sqrt, min_samples_leaf=4, min_samples_split=5, n_estimators=1000; total time=   7.7s\n",
            "[CV] END bootstrap=False, criterion=gini, max_depth=110, max_features=sqrt, min_samples_leaf=4, min_samples_split=5, n_estimators=1000; total time=   8.0s\n",
            "[CV] END bootstrap=False, criterion=gini, max_depth=110, max_features=sqrt, min_samples_leaf=4, min_samples_split=5, n_estimators=1500; total time=  11.7s\n",
            "[CV] END bootstrap=False, criterion=gini, max_depth=110, max_features=sqrt, min_samples_leaf=4, min_samples_split=5, n_estimators=1500; total time=  11.5s\n",
            "[CV] END bootstrap=False, criterion=gini, max_depth=110, max_features=sqrt, min_samples_leaf=4, min_samples_split=10, n_estimators=300; total time=   2.4s\n",
            "[CV] END bootstrap=False, criterion=gini, max_depth=110, max_features=sqrt, min_samples_leaf=4, min_samples_split=10, n_estimators=300; total time=   2.2s\n",
            "[CV] END bootstrap=False, criterion=gini, max_depth=110, max_features=sqrt, min_samples_leaf=4, min_samples_split=10, n_estimators=1000; total time=   7.8s\n",
            "[CV] END bootstrap=False, criterion=gini, max_depth=110, max_features=sqrt, min_samples_leaf=4, min_samples_split=10, n_estimators=1000; total time=   7.6s\n",
            "[CV] END bootstrap=False, criterion=gini, max_depth=110, max_features=sqrt, min_samples_leaf=4, min_samples_split=10, n_estimators=1500; total time=  11.9s\n",
            "[CV] END bootstrap=False, criterion=gini, max_depth=110, max_features=sqrt, min_samples_leaf=4, min_samples_split=10, n_estimators=1500; total time=  11.6s\n",
            "[CV] END bootstrap=False, criterion=gini, max_depth=110, max_features=sqrt, min_samples_leaf=4, min_samples_split=12, n_estimators=300; total time=   2.2s\n",
            "[CV] END bootstrap=False, criterion=gini, max_depth=110, max_features=sqrt, min_samples_leaf=4, min_samples_split=12, n_estimators=300; total time=   2.2s\n",
            "[CV] END bootstrap=False, criterion=gini, max_depth=110, max_features=sqrt, min_samples_leaf=4, min_samples_split=12, n_estimators=1000; total time=   8.1s\n",
            "[CV] END bootstrap=False, criterion=gini, max_depth=110, max_features=sqrt, min_samples_leaf=4, min_samples_split=12, n_estimators=1000; total time=   7.4s\n",
            "[CV] END bootstrap=False, criterion=gini, max_depth=110, max_features=sqrt, min_samples_leaf=4, min_samples_split=12, n_estimators=1500; total time=  11.5s\n",
            "[CV] END bootstrap=False, criterion=gini, max_depth=110, max_features=sqrt, min_samples_leaf=4, min_samples_split=12, n_estimators=1500; total time=  11.6s\n",
            "[CV] END bootstrap=False, criterion=entropy, max_depth=90, max_features=sqrt, min_samples_leaf=2, min_samples_split=5, n_estimators=300; total time=   3.5s\n",
            "[CV] END bootstrap=False, criterion=entropy, max_depth=90, max_features=sqrt, min_samples_leaf=2, min_samples_split=5, n_estimators=300; total time=   3.7s\n",
            "[CV] END bootstrap=False, criterion=entropy, max_depth=90, max_features=sqrt, min_samples_leaf=2, min_samples_split=5, n_estimators=1000; total time=  11.4s\n",
            "[CV] END bootstrap=False, criterion=entropy, max_depth=90, max_features=sqrt, min_samples_leaf=2, min_samples_split=5, n_estimators=1000; total time=  10.8s\n",
            "[CV] END bootstrap=False, criterion=entropy, max_depth=90, max_features=sqrt, min_samples_leaf=2, min_samples_split=5, n_estimators=1500; total time=  17.3s\n",
            "[CV] END bootstrap=False, criterion=entropy, max_depth=90, max_features=sqrt, min_samples_leaf=2, min_samples_split=5, n_estimators=1500; total time=  16.6s\n",
            "[CV] END bootstrap=False, criterion=entropy, max_depth=90, max_features=sqrt, min_samples_leaf=2, min_samples_split=10, n_estimators=300; total time=   3.2s\n",
            "[CV] END bootstrap=False, criterion=entropy, max_depth=90, max_features=sqrt, min_samples_leaf=2, min_samples_split=10, n_estimators=300; total time=   4.0s\n",
            "[CV] END bootstrap=False, criterion=entropy, max_depth=90, max_features=sqrt, min_samples_leaf=2, min_samples_split=10, n_estimators=1000; total time=  10.6s\n",
            "[CV] END bootstrap=False, criterion=entropy, max_depth=90, max_features=sqrt, min_samples_leaf=2, min_samples_split=10, n_estimators=1000; total time=  10.9s\n",
            "[CV] END bootstrap=False, criterion=entropy, max_depth=90, max_features=sqrt, min_samples_leaf=2, min_samples_split=10, n_estimators=1500; total time=  17.3s\n",
            "[CV] END bootstrap=False, criterion=entropy, max_depth=90, max_features=sqrt, min_samples_leaf=2, min_samples_split=10, n_estimators=1500; total time=  16.3s\n",
            "[CV] END bootstrap=False, criterion=entropy, max_depth=90, max_features=sqrt, min_samples_leaf=2, min_samples_split=12, n_estimators=300; total time=   3.1s\n",
            "[CV] END bootstrap=False, criterion=entropy, max_depth=90, max_features=sqrt, min_samples_leaf=2, min_samples_split=12, n_estimators=300; total time=   3.1s\n",
            "[CV] END bootstrap=False, criterion=entropy, max_depth=90, max_features=sqrt, min_samples_leaf=2, min_samples_split=12, n_estimators=1000; total time=  11.2s\n",
            "[CV] END bootstrap=False, criterion=entropy, max_depth=90, max_features=sqrt, min_samples_leaf=2, min_samples_split=12, n_estimators=1000; total time=  11.1s\n",
            "[CV] END bootstrap=False, criterion=entropy, max_depth=90, max_features=sqrt, min_samples_leaf=2, min_samples_split=12, n_estimators=1500; total time=  16.3s\n",
            "[CV] END bootstrap=False, criterion=entropy, max_depth=90, max_features=sqrt, min_samples_leaf=2, min_samples_split=12, n_estimators=1500; total time=  17.1s\n",
            "[CV] END bootstrap=False, criterion=entropy, max_depth=90, max_features=sqrt, min_samples_leaf=4, min_samples_split=5, n_estimators=300; total time=   3.2s\n",
            "[CV] END bootstrap=False, criterion=entropy, max_depth=90, max_features=sqrt, min_samples_leaf=4, min_samples_split=5, n_estimators=300; total time=   3.0s\n",
            "[CV] END bootstrap=False, criterion=entropy, max_depth=90, max_features=sqrt, min_samples_leaf=4, min_samples_split=5, n_estimators=1000; total time=  10.8s\n",
            "[CV] END bootstrap=False, criterion=entropy, max_depth=90, max_features=sqrt, min_samples_leaf=4, min_samples_split=5, n_estimators=1000; total time=  10.9s\n",
            "[CV] END bootstrap=False, criterion=entropy, max_depth=90, max_features=sqrt, min_samples_leaf=4, min_samples_split=5, n_estimators=1500; total time=  15.8s\n",
            "[CV] END bootstrap=False, criterion=entropy, max_depth=90, max_features=sqrt, min_samples_leaf=4, min_samples_split=5, n_estimators=1500; total time=  15.7s\n",
            "[CV] END bootstrap=False, criterion=entropy, max_depth=90, max_features=sqrt, min_samples_leaf=4, min_samples_split=10, n_estimators=300; total time=   3.4s\n",
            "[CV] END bootstrap=False, criterion=entropy, max_depth=90, max_features=sqrt, min_samples_leaf=4, min_samples_split=10, n_estimators=300; total time=   3.5s\n",
            "[CV] END bootstrap=False, criterion=entropy, max_depth=90, max_features=sqrt, min_samples_leaf=4, min_samples_split=10, n_estimators=1000; total time=  10.8s\n",
            "[CV] END bootstrap=False, criterion=entropy, max_depth=90, max_features=sqrt, min_samples_leaf=4, min_samples_split=10, n_estimators=1000; total time=  10.1s\n",
            "[CV] END bootstrap=False, criterion=entropy, max_depth=90, max_features=sqrt, min_samples_leaf=4, min_samples_split=10, n_estimators=1500; total time=  16.7s\n",
            "[CV] END bootstrap=False, criterion=entropy, max_depth=90, max_features=sqrt, min_samples_leaf=4, min_samples_split=10, n_estimators=1500; total time=  15.7s\n",
            "[CV] END bootstrap=False, criterion=entropy, max_depth=90, max_features=sqrt, min_samples_leaf=4, min_samples_split=12, n_estimators=300; total time=   3.0s\n",
            "[CV] END bootstrap=False, criterion=entropy, max_depth=90, max_features=sqrt, min_samples_leaf=4, min_samples_split=12, n_estimators=300; total time=   3.0s\n",
            "[CV] END bootstrap=False, criterion=entropy, max_depth=90, max_features=sqrt, min_samples_leaf=4, min_samples_split=12, n_estimators=1000; total time=  10.9s\n",
            "[CV] END bootstrap=False, criterion=entropy, max_depth=90, max_features=sqrt, min_samples_leaf=4, min_samples_split=12, n_estimators=1000; total time=  10.8s\n",
            "[CV] END bootstrap=False, criterion=entropy, max_depth=90, max_features=sqrt, min_samples_leaf=4, min_samples_split=12, n_estimators=1500; total time=  15.8s\n",
            "[CV] END bootstrap=False, criterion=entropy, max_depth=90, max_features=sqrt, min_samples_leaf=4, min_samples_split=12, n_estimators=1500; total time=  15.8s\n",
            "[CV] END bootstrap=False, criterion=entropy, max_depth=100, max_features=sqrt, min_samples_leaf=2, min_samples_split=5, n_estimators=300; total time=   4.2s\n",
            "[CV] END bootstrap=False, criterion=entropy, max_depth=100, max_features=sqrt, min_samples_leaf=2, min_samples_split=5, n_estimators=300; total time=   3.2s\n",
            "[CV] END bootstrap=False, criterion=entropy, max_depth=100, max_features=sqrt, min_samples_leaf=2, min_samples_split=5, n_estimators=1000; total time=  11.4s\n",
            "[CV] END bootstrap=False, criterion=entropy, max_depth=100, max_features=sqrt, min_samples_leaf=2, min_samples_split=5, n_estimators=1000; total time=  11.2s\n",
            "[CV] END bootstrap=False, criterion=entropy, max_depth=100, max_features=sqrt, min_samples_leaf=2, min_samples_split=5, n_estimators=1500; total time=  16.7s\n",
            "[CV] END bootstrap=False, criterion=entropy, max_depth=100, max_features=sqrt, min_samples_leaf=2, min_samples_split=5, n_estimators=1500; total time=  16.5s\n",
            "[CV] END bootstrap=False, criterion=entropy, max_depth=100, max_features=sqrt, min_samples_leaf=2, min_samples_split=10, n_estimators=300; total time=   3.3s\n",
            "[CV] END bootstrap=False, criterion=entropy, max_depth=100, max_features=sqrt, min_samples_leaf=2, min_samples_split=10, n_estimators=300; total time=   3.9s\n",
            "[CV] END bootstrap=False, criterion=entropy, max_depth=100, max_features=sqrt, min_samples_leaf=2, min_samples_split=10, n_estimators=1000; total time=  11.3s\n",
            "[CV] END bootstrap=False, criterion=entropy, max_depth=100, max_features=sqrt, min_samples_leaf=2, min_samples_split=10, n_estimators=1000; total time=  10.7s\n",
            "[CV] END bootstrap=False, criterion=entropy, max_depth=100, max_features=sqrt, min_samples_leaf=2, min_samples_split=10, n_estimators=1500; total time=  17.4s\n",
            "[CV] END bootstrap=False, criterion=entropy, max_depth=100, max_features=sqrt, min_samples_leaf=2, min_samples_split=10, n_estimators=1500; total time=  16.4s\n",
            "[CV] END bootstrap=False, criterion=entropy, max_depth=100, max_features=sqrt, min_samples_leaf=2, min_samples_split=12, n_estimators=300; total time=   3.1s\n",
            "[CV] END bootstrap=False, criterion=entropy, max_depth=100, max_features=sqrt, min_samples_leaf=2, min_samples_split=12, n_estimators=300; total time=   3.8s\n",
            "[CV] END bootstrap=False, criterion=entropy, max_depth=100, max_features=sqrt, min_samples_leaf=2, min_samples_split=12, n_estimators=1000; total time=  10.7s\n",
            "[CV] END bootstrap=False, criterion=entropy, max_depth=100, max_features=sqrt, min_samples_leaf=2, min_samples_split=12, n_estimators=1000; total time=  11.2s\n",
            "[CV] END bootstrap=False, criterion=entropy, max_depth=100, max_features=sqrt, min_samples_leaf=2, min_samples_split=12, n_estimators=1500; total time=  17.3s\n",
            "[CV] END bootstrap=False, criterion=entropy, max_depth=100, max_features=sqrt, min_samples_leaf=2, min_samples_split=12, n_estimators=1500; total time=  16.4s\n",
            "[CV] END bootstrap=False, criterion=entropy, max_depth=100, max_features=sqrt, min_samples_leaf=4, min_samples_split=5, n_estimators=300; total time=   3.0s\n",
            "[CV] END bootstrap=False, criterion=entropy, max_depth=100, max_features=sqrt, min_samples_leaf=4, min_samples_split=5, n_estimators=300; total time=   3.0s\n",
            "[CV] END bootstrap=False, criterion=entropy, max_depth=100, max_features=sqrt, min_samples_leaf=4, min_samples_split=5, n_estimators=1000; total time=  11.0s\n",
            "[CV] END bootstrap=False, criterion=entropy, max_depth=100, max_features=sqrt, min_samples_leaf=4, min_samples_split=5, n_estimators=1000; total time=  10.9s\n",
            "[CV] END bootstrap=False, criterion=entropy, max_depth=100, max_features=sqrt, min_samples_leaf=4, min_samples_split=5, n_estimators=1500; total time=  16.1s\n",
            "[CV] END bootstrap=False, criterion=entropy, max_depth=100, max_features=sqrt, min_samples_leaf=4, min_samples_split=5, n_estimators=1500; total time=  16.1s\n",
            "[CV] END bootstrap=False, criterion=entropy, max_depth=100, max_features=sqrt, min_samples_leaf=4, min_samples_split=10, n_estimators=300; total time=   3.6s\n",
            "[CV] END bootstrap=False, criterion=entropy, max_depth=100, max_features=sqrt, min_samples_leaf=4, min_samples_split=10, n_estimators=300; total time=   3.0s\n",
            "[CV] END bootstrap=False, criterion=entropy, max_depth=100, max_features=sqrt, min_samples_leaf=4, min_samples_split=10, n_estimators=1000; total time=  10.9s\n",
            "[CV] END bootstrap=False, criterion=entropy, max_depth=100, max_features=sqrt, min_samples_leaf=4, min_samples_split=10, n_estimators=1000; total time=  10.9s\n",
            "[CV] END bootstrap=False, criterion=entropy, max_depth=100, max_features=sqrt, min_samples_leaf=4, min_samples_split=10, n_estimators=1500; total time=  15.9s\n",
            "[CV] END bootstrap=False, criterion=entropy, max_depth=100, max_features=sqrt, min_samples_leaf=4, min_samples_split=10, n_estimators=1500; total time=  15.9s\n",
            "[CV] END bootstrap=False, criterion=entropy, max_depth=100, max_features=sqrt, min_samples_leaf=4, min_samples_split=12, n_estimators=300; total time=   3.0s\n",
            "[CV] END bootstrap=False, criterion=entropy, max_depth=100, max_features=sqrt, min_samples_leaf=4, min_samples_split=12, n_estimators=300; total time=   3.8s\n",
            "[CV] END bootstrap=False, criterion=entropy, max_depth=100, max_features=sqrt, min_samples_leaf=4, min_samples_split=12, n_estimators=1000; total time=  10.2s\n",
            "[CV] END bootstrap=False, criterion=entropy, max_depth=100, max_features=sqrt, min_samples_leaf=4, min_samples_split=12, n_estimators=1000; total time=  10.8s\n",
            "[CV] END bootstrap=False, criterion=entropy, max_depth=100, max_features=sqrt, min_samples_leaf=4, min_samples_split=12, n_estimators=1500; total time=  16.0s\n",
            "[CV] END bootstrap=False, criterion=entropy, max_depth=100, max_features=sqrt, min_samples_leaf=4, min_samples_split=12, n_estimators=1500; total time=  16.6s\n",
            "[CV] END bootstrap=False, criterion=entropy, max_depth=110, max_features=sqrt, min_samples_leaf=2, min_samples_split=5, n_estimators=300; total time=   3.2s\n",
            "[CV] END bootstrap=False, criterion=entropy, max_depth=110, max_features=sqrt, min_samples_leaf=2, min_samples_split=5, n_estimators=300; total time=   3.2s\n",
            "[CV] END bootstrap=False, criterion=entropy, max_depth=110, max_features=sqrt, min_samples_leaf=2, min_samples_split=5, n_estimators=1000; total time=  11.4s\n",
            "[CV] END bootstrap=False, criterion=entropy, max_depth=110, max_features=sqrt, min_samples_leaf=2, min_samples_split=5, n_estimators=1000; total time=  11.4s\n",
            "[CV] END bootstrap=False, criterion=entropy, max_depth=110, max_features=sqrt, min_samples_leaf=2, min_samples_split=5, n_estimators=1500; total time=  16.6s\n",
            "[CV] END bootstrap=False, criterion=entropy, max_depth=110, max_features=sqrt, min_samples_leaf=2, min_samples_split=5, n_estimators=1500; total time=  17.0s\n",
            "[CV] END bootstrap=False, criterion=entropy, max_depth=110, max_features=sqrt, min_samples_leaf=2, min_samples_split=10, n_estimators=300; total time=   3.6s\n",
            "[CV] END bootstrap=False, criterion=entropy, max_depth=110, max_features=sqrt, min_samples_leaf=2, min_samples_split=10, n_estimators=300; total time=   3.1s\n",
            "[CV] END bootstrap=False, criterion=entropy, max_depth=110, max_features=sqrt, min_samples_leaf=2, min_samples_split=10, n_estimators=1000; total time=  11.2s\n",
            "[CV] END bootstrap=False, criterion=entropy, max_depth=110, max_features=sqrt, min_samples_leaf=2, min_samples_split=10, n_estimators=1000; total time=  11.2s\n",
            "[CV] END bootstrap=False, criterion=entropy, max_depth=110, max_features=sqrt, min_samples_leaf=2, min_samples_split=10, n_estimators=1500; total time=  16.4s\n",
            "[CV] END bootstrap=False, criterion=entropy, max_depth=110, max_features=sqrt, min_samples_leaf=2, min_samples_split=10, n_estimators=1500; total time=  16.4s\n",
            "[CV] END bootstrap=False, criterion=entropy, max_depth=110, max_features=sqrt, min_samples_leaf=2, min_samples_split=12, n_estimators=300; total time=   3.9s\n",
            "[CV] END bootstrap=False, criterion=entropy, max_depth=110, max_features=sqrt, min_samples_leaf=2, min_samples_split=12, n_estimators=300; total time=   3.3s\n",
            "[CV] END bootstrap=False, criterion=entropy, max_depth=110, max_features=sqrt, min_samples_leaf=2, min_samples_split=12, n_estimators=1000; total time=  11.2s\n",
            "[CV] END bootstrap=False, criterion=entropy, max_depth=110, max_features=sqrt, min_samples_leaf=2, min_samples_split=12, n_estimators=1000; total time=  10.6s\n",
            "[CV] END bootstrap=False, criterion=entropy, max_depth=110, max_features=sqrt, min_samples_leaf=2, min_samples_split=12, n_estimators=1500; total time=  17.2s\n",
            "[CV] END bootstrap=False, criterion=entropy, max_depth=110, max_features=sqrt, min_samples_leaf=2, min_samples_split=12, n_estimators=1500; total time=  16.3s\n",
            "[CV] END bootstrap=False, criterion=entropy, max_depth=110, max_features=sqrt, min_samples_leaf=4, min_samples_split=5, n_estimators=300; total time=   3.0s\n",
            "[CV] END bootstrap=False, criterion=entropy, max_depth=110, max_features=sqrt, min_samples_leaf=4, min_samples_split=5, n_estimators=300; total time=   3.8s\n",
            "[CV] END bootstrap=False, criterion=entropy, max_depth=110, max_features=sqrt, min_samples_leaf=4, min_samples_split=5, n_estimators=1000; total time=  10.3s\n",
            "[CV] END bootstrap=False, criterion=entropy, max_depth=110, max_features=sqrt, min_samples_leaf=4, min_samples_split=5, n_estimators=1000; total time=  11.1s\n",
            "[CV] END bootstrap=False, criterion=entropy, max_depth=110, max_features=sqrt, min_samples_leaf=4, min_samples_split=5, n_estimators=1500; total time=  16.4s\n",
            "[CV] END bootstrap=False, criterion=entropy, max_depth=110, max_features=sqrt, min_samples_leaf=4, min_samples_split=5, n_estimators=1500; total time=  16.5s\n",
            "[CV] END bootstrap=False, criterion=entropy, max_depth=110, max_features=sqrt, min_samples_leaf=4, min_samples_split=10, n_estimators=300; total time=   3.0s\n",
            "[CV] END bootstrap=False, criterion=entropy, max_depth=110, max_features=sqrt, min_samples_leaf=4, min_samples_split=10, n_estimators=300; total time=   3.0s\n",
            "[CV] END bootstrap=False, criterion=entropy, max_depth=110, max_features=sqrt, min_samples_leaf=4, min_samples_split=10, n_estimators=1000; total time=  11.0s\n",
            "[CV] END bootstrap=False, criterion=entropy, max_depth=110, max_features=sqrt, min_samples_leaf=4, min_samples_split=10, n_estimators=1000; total time=  10.9s\n",
            "[CV] END bootstrap=False, criterion=entropy, max_depth=110, max_features=sqrt, min_samples_leaf=4, min_samples_split=10, n_estimators=1500; total time=  15.8s\n",
            "[CV] END bootstrap=False, criterion=entropy, max_depth=110, max_features=sqrt, min_samples_leaf=4, min_samples_split=10, n_estimators=1500; total time=  15.8s\n",
            "[CV] END bootstrap=False, criterion=entropy, max_depth=110, max_features=sqrt, min_samples_leaf=4, min_samples_split=12, n_estimators=300; total time=   4.0s\n",
            "[CV] END bootstrap=False, criterion=entropy, max_depth=110, max_features=sqrt, min_samples_leaf=4, min_samples_split=12, n_estimators=300; total time=   3.0s\n",
            "[CV] END bootstrap=False, criterion=entropy, max_depth=110, max_features=sqrt, min_samples_leaf=4, min_samples_split=12, n_estimators=1000; total time=  10.9s\n",
            "[CV] END bootstrap=False, criterion=entropy, max_depth=110, max_features=sqrt, min_samples_leaf=4, min_samples_split=12, n_estimators=1000; total time=  10.3s\n",
            "[CV] END bootstrap=False, criterion=entropy, max_depth=110, max_features=sqrt, min_samples_leaf=4, min_samples_split=12, n_estimators=1500; total time=  16.6s\n",
            "[CV] END bootstrap=False, criterion=entropy, max_depth=110, max_features=sqrt, min_samples_leaf=4, min_samples_split=12, n_estimators=1500; total time=  15.8s\n"
          ]
        },
        {
          "output_type": "execute_result",
          "data": {
            "text/plain": [
              "GridSearchCV(cv=StratifiedShuffleSplit(n_splits=2, random_state=42, test_size=None,\n",
              "            train_size=None),\n",
              "             estimator=RandomForestClassifier(),\n",
              "             param_grid={'bootstrap': [False], 'criterion': ['gini', 'entropy'],\n",
              "                         'max_depth': [90, 100, 110], 'max_features': ['sqrt'],\n",
              "                         'min_samples_leaf': [2, 4],\n",
              "                         'min_samples_split': [5, 10, 12],\n",
              "                         'n_estimators': [300, 1000, 1500]},\n",
              "             refit='accuracy',\n",
              "             scoring={'accuracy': make_scorer(accuracy_score)}, verbose=2)"
            ],
            "text/html": [
              "<style>#sk-container-id-2 {color: black;}#sk-container-id-2 pre{padding: 0;}#sk-container-id-2 div.sk-toggleable {background-color: white;}#sk-container-id-2 label.sk-toggleable__label {cursor: pointer;display: block;width: 100%;margin-bottom: 0;padding: 0.3em;box-sizing: border-box;text-align: center;}#sk-container-id-2 label.sk-toggleable__label-arrow:before {content: \"▸\";float: left;margin-right: 0.25em;color: #696969;}#sk-container-id-2 label.sk-toggleable__label-arrow:hover:before {color: black;}#sk-container-id-2 div.sk-estimator:hover label.sk-toggleable__label-arrow:before {color: black;}#sk-container-id-2 div.sk-toggleable__content {max-height: 0;max-width: 0;overflow: hidden;text-align: left;background-color: #f0f8ff;}#sk-container-id-2 div.sk-toggleable__content pre {margin: 0.2em;color: black;border-radius: 0.25em;background-color: #f0f8ff;}#sk-container-id-2 input.sk-toggleable__control:checked~div.sk-toggleable__content {max-height: 200px;max-width: 100%;overflow: auto;}#sk-container-id-2 input.sk-toggleable__control:checked~label.sk-toggleable__label-arrow:before {content: \"▾\";}#sk-container-id-2 div.sk-estimator input.sk-toggleable__control:checked~label.sk-toggleable__label {background-color: #d4ebff;}#sk-container-id-2 div.sk-label input.sk-toggleable__control:checked~label.sk-toggleable__label {background-color: #d4ebff;}#sk-container-id-2 input.sk-hidden--visually {border: 0;clip: rect(1px 1px 1px 1px);clip: rect(1px, 1px, 1px, 1px);height: 1px;margin: -1px;overflow: hidden;padding: 0;position: absolute;width: 1px;}#sk-container-id-2 div.sk-estimator {font-family: monospace;background-color: #f0f8ff;border: 1px dotted black;border-radius: 0.25em;box-sizing: border-box;margin-bottom: 0.5em;}#sk-container-id-2 div.sk-estimator:hover {background-color: #d4ebff;}#sk-container-id-2 div.sk-parallel-item::after {content: \"\";width: 100%;border-bottom: 1px solid gray;flex-grow: 1;}#sk-container-id-2 div.sk-label:hover label.sk-toggleable__label {background-color: #d4ebff;}#sk-container-id-2 div.sk-serial::before {content: \"\";position: absolute;border-left: 1px solid gray;box-sizing: border-box;top: 0;bottom: 0;left: 50%;z-index: 0;}#sk-container-id-2 div.sk-serial {display: flex;flex-direction: column;align-items: center;background-color: white;padding-right: 0.2em;padding-left: 0.2em;position: relative;}#sk-container-id-2 div.sk-item {position: relative;z-index: 1;}#sk-container-id-2 div.sk-parallel {display: flex;align-items: stretch;justify-content: center;background-color: white;position: relative;}#sk-container-id-2 div.sk-item::before, #sk-container-id-2 div.sk-parallel-item::before {content: \"\";position: absolute;border-left: 1px solid gray;box-sizing: border-box;top: 0;bottom: 0;left: 50%;z-index: -1;}#sk-container-id-2 div.sk-parallel-item {display: flex;flex-direction: column;z-index: 1;position: relative;background-color: white;}#sk-container-id-2 div.sk-parallel-item:first-child::after {align-self: flex-end;width: 50%;}#sk-container-id-2 div.sk-parallel-item:last-child::after {align-self: flex-start;width: 50%;}#sk-container-id-2 div.sk-parallel-item:only-child::after {width: 0;}#sk-container-id-2 div.sk-dashed-wrapped {border: 1px dashed gray;margin: 0 0.4em 0.5em 0.4em;box-sizing: border-box;padding-bottom: 0.4em;background-color: white;}#sk-container-id-2 div.sk-label label {font-family: monospace;font-weight: bold;display: inline-block;line-height: 1.2em;}#sk-container-id-2 div.sk-label-container {text-align: center;}#sk-container-id-2 div.sk-container {/* jupyter's `normalize.less` sets `[hidden] { display: none; }` but bootstrap.min.css set `[hidden] { display: none !important; }` so we also need the `!important` here to be able to override the default hidden behavior on the sphinx rendered scikit-learn.org. See: https://github.com/scikit-learn/scikit-learn/issues/21755 */display: inline-block !important;position: relative;}#sk-container-id-2 div.sk-text-repr-fallback {display: none;}</style><div id=\"sk-container-id-2\" class=\"sk-top-container\"><div class=\"sk-text-repr-fallback\"><pre>GridSearchCV(cv=StratifiedShuffleSplit(n_splits=2, random_state=42, test_size=None,\n",
              "            train_size=None),\n",
              "             estimator=RandomForestClassifier(),\n",
              "             param_grid={&#x27;bootstrap&#x27;: [False], &#x27;criterion&#x27;: [&#x27;gini&#x27;, &#x27;entropy&#x27;],\n",
              "                         &#x27;max_depth&#x27;: [90, 100, 110], &#x27;max_features&#x27;: [&#x27;sqrt&#x27;],\n",
              "                         &#x27;min_samples_leaf&#x27;: [2, 4],\n",
              "                         &#x27;min_samples_split&#x27;: [5, 10, 12],\n",
              "                         &#x27;n_estimators&#x27;: [300, 1000, 1500]},\n",
              "             refit=&#x27;accuracy&#x27;,\n",
              "             scoring={&#x27;accuracy&#x27;: make_scorer(accuracy_score)}, verbose=2)</pre><b>In a Jupyter environment, please rerun this cell to show the HTML representation or trust the notebook. <br />On GitHub, the HTML representation is unable to render, please try loading this page with nbviewer.org.</b></div><div class=\"sk-container\" hidden><div class=\"sk-item sk-dashed-wrapped\"><div class=\"sk-label-container\"><div class=\"sk-label sk-toggleable\"><input class=\"sk-toggleable__control sk-hidden--visually\" id=\"sk-estimator-id-4\" type=\"checkbox\" ><label for=\"sk-estimator-id-4\" class=\"sk-toggleable__label sk-toggleable__label-arrow\">GridSearchCV</label><div class=\"sk-toggleable__content\"><pre>GridSearchCV(cv=StratifiedShuffleSplit(n_splits=2, random_state=42, test_size=None,\n",
              "            train_size=None),\n",
              "             estimator=RandomForestClassifier(),\n",
              "             param_grid={&#x27;bootstrap&#x27;: [False], &#x27;criterion&#x27;: [&#x27;gini&#x27;, &#x27;entropy&#x27;],\n",
              "                         &#x27;max_depth&#x27;: [90, 100, 110], &#x27;max_features&#x27;: [&#x27;sqrt&#x27;],\n",
              "                         &#x27;min_samples_leaf&#x27;: [2, 4],\n",
              "                         &#x27;min_samples_split&#x27;: [5, 10, 12],\n",
              "                         &#x27;n_estimators&#x27;: [300, 1000, 1500]},\n",
              "             refit=&#x27;accuracy&#x27;,\n",
              "             scoring={&#x27;accuracy&#x27;: make_scorer(accuracy_score)}, verbose=2)</pre></div></div></div><div class=\"sk-parallel\"><div class=\"sk-parallel-item\"><div class=\"sk-item\"><div class=\"sk-label-container\"><div class=\"sk-label sk-toggleable\"><input class=\"sk-toggleable__control sk-hidden--visually\" id=\"sk-estimator-id-5\" type=\"checkbox\" ><label for=\"sk-estimator-id-5\" class=\"sk-toggleable__label sk-toggleable__label-arrow\">estimator: RandomForestClassifier</label><div class=\"sk-toggleable__content\"><pre>RandomForestClassifier()</pre></div></div></div><div class=\"sk-serial\"><div class=\"sk-item\"><div class=\"sk-estimator sk-toggleable\"><input class=\"sk-toggleable__control sk-hidden--visually\" id=\"sk-estimator-id-6\" type=\"checkbox\" ><label for=\"sk-estimator-id-6\" class=\"sk-toggleable__label sk-toggleable__label-arrow\">RandomForestClassifier</label><div class=\"sk-toggleable__content\"><pre>RandomForestClassifier()</pre></div></div></div></div></div></div></div></div></div></div>"
            ]
          },
          "metadata": {},
          "execution_count": 52
        }
      ],
      "source": [
        "\n",
        "gs.fit(xnorm, y)\n"
      ]
    },
    {
      "cell_type": "code",
      "execution_count": null,
      "metadata": {
        "id": "lbqHXZB-e4jZ",
        "colab": {
          "base_uri": "https://localhost:8080/"
        },
        "outputId": "8e7cd081-d2ba-41e3-884f-0a6f48406a5e"
      },
      "outputs": [
        {
          "output_type": "stream",
          "name": "stdout",
          "text": [
            "Best Hyperparameters: {'bootstrap': False, 'criterion': 'gini', 'max_depth': 90, 'max_features': 'sqrt', 'min_samples_leaf': 2, 'min_samples_split': 5, 'n_estimators': 1500}\n",
            "Best Score (Recall):  0.95\n"
          ]
        }
      ],
      "source": [
        "\n",
        "print(\"Best Hyperparameters:\", gs.best_params_)\n",
        "print(\"Best Score (accuracy): \", gs.best_score_)"
      ]
    },
    {
      "cell_type": "markdown",
      "source": [
        "### Creating the best model, with the best hyperparameters"
      ],
      "metadata": {
        "id": "1aoDNwSp-24t"
      }
    },
    {
      "cell_type": "code",
      "execution_count": null,
      "metadata": {
        "id": "1Bs7h0FGIwJK"
      },
      "outputs": [],
      "source": [
        "rf_model= pipeline.Pipeline([\n",
        "                                      ('model', RandomForestClassifier(\n",
        "                                          bootstrap=False, criterion='entropy', max_depth=90, max_features='sqrt', min_samples_leaf=2, min_samples_split=5, n_estimators=1500\n",
        "                                      ))])\n"
      ]
    },
    {
      "cell_type": "code",
      "execution_count": null,
      "metadata": {
        "id": "ZrvwQnVcIsu9",
        "colab": {
          "base_uri": "https://localhost:8080/",
          "height": 1000
        },
        "outputId": "d6059e6a-4a00-4315-95a0-0549a685c672"
      },
      "outputs": [
        {
          "output_type": "display_data",
          "data": {
            "text/plain": [
              "<Figure size 640x480 with 2 Axes>"
            ],
            "image/png": "[encoded data removed]"
          },
          "metadata": {}
        },
        {
          "output_type": "display_data",
          "data": {
            "text/plain": [
              "<Figure size 640x480 with 2 Axes>"
            ],
            "image/png": "[encoded data removed]"
          },
          "metadata": {}
        },
        {
          "output_type": "display_data",
          "data": {
            "text/plain": [
              "<Figure size 640x480 with 2 Axes>"
            ],
            "image/png": "[encoded data removed]"
          },
          "metadata": {}
        },
        {
          "output_type": "display_data",
          "data": {
            "text/plain": [
              "<Figure size 640x480 with 2 Axes>"
            ],
            "image/png": "[encoded data removed]"
          },
          "metadata": {}
        },
        {
          "output_type": "display_data",
          "data": {
            "text/plain": [
              "<Figure size 640x480 with 2 Axes>"
            ],
            "image/png": "[encoded data removed]"
          },
          "metadata": {}
        },
        {
          "output_type": "execute_result",
          "data": {
            "text/plain": [
              "(accuracy     0.948000\n",
              " f1           0.947709\n",
              " precision    0.949657\n",
              " recall       0.948000\n",
              " dtype: float64,\n",
              "    accuracy        f1  precision  recall\n",
              " 0      0.98  0.979950   0.981818    0.98\n",
              " 1      0.92  0.918847   0.921414    0.92\n",
              " 2      0.92  0.919799   0.923232    0.92\n",
              " 3      0.96  0.959950   0.961818    0.96\n",
              " 4      0.96  0.960000   0.960000    0.96)"
            ]
          },
          "metadata": {},
          "execution_count": 57
        }
      ],
      "source": [
        "evaluate_model(xnorm, y, rf_model)"
      ]
    }
  ],
  "metadata": {
    "accelerator": "GPU",
    "colab": {
      "gpuType": "T4",
      "provenance": [],
      "include_colab_link": true
    },
    "kernelspec": {
      "display_name": "Python 3",
      "name": "python3"
    },
    "language_info": {
      "name": "python"
    }
  },
  "nbformat": 4,
  "nbformat_minor": 0
}